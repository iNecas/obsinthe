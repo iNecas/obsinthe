{
 "cells": [
  {
   "cell_type": "markdown",
   "id": "4292f2d1",
   "metadata": {},
   "source": [
    "## Environment preparation"
   ]
  },
  {
   "cell_type": "code",
   "execution_count": 1,
   "id": "e68192ac",
   "metadata": {
    "ExecuteTime": {
     "end_time": "2024-03-18T18:53:32.935345Z",
     "start_time": "2024-03-18T18:53:32.929382Z"
    }
   },
   "outputs": [
    {
     "data": {
      "text/plain": [
       "True"
      ]
     },
     "execution_count": 1,
     "metadata": {},
     "output_type": "execute_result"
    }
   ],
   "source": [
    "# Load `.env` variables.\n",
    "import dotenv\n",
    "dotenv.load_dotenv(override=True)"
   ]
  },
  {
   "cell_type": "code",
   "execution_count": 2,
   "id": "b9ba9c68",
   "metadata": {
    "ExecuteTime": {
     "end_time": "2024-03-18T18:53:32.955715Z",
     "start_time": "2024-03-18T18:53:32.935993Z"
    }
   },
   "outputs": [],
   "source": [
    "# Not necessary, but useful for live-reloading changes to Obsinthe itself.\n",
    "%load_ext autoreload\n",
    "%autoreload 2"
   ]
  },
  {
   "cell_type": "code",
   "execution_count": 3,
   "id": "4c8eb912",
   "metadata": {
    "ExecuteTime": {
     "end_time": "2024-03-18T18:53:35.791258Z",
     "start_time": "2024-03-18T18:53:32.956739Z"
    }
   },
   "outputs": [
    {
     "data": {
      "text/html": [
       "        <script type=\"text/javascript\">\n",
       "        window.PlotlyConfig = {MathJaxConfig: 'local'};\n",
       "        if (window.MathJax && window.MathJax.Hub && window.MathJax.Hub.Config) {window.MathJax.Hub.Config({SVG: {font: \"STIX-Web\"}});}\n",
       "        if (typeof require !== 'undefined') {\n",
       "        require.undef(\"plotly\");\n",
       "        requirejs.config({\n",
       "            paths: {\n",
       "                'plotly': ['https://cdn.plot.ly/plotly-2.29.1.min']\n",
       "            }\n",
       "        });\n",
       "        require(['plotly'], function(Plotly) {\n",
       "            window._Plotly = Plotly;\n",
       "        });\n",
       "        }\n",
       "        </script>\n",
       "        "
      ]
     },
     "metadata": {},
     "output_type": "display_data"
    }
   ],
   "source": [
    "# Some core dependencies.\n",
    "import os\n",
    "from datetime import timedelta, datetime\n",
    "\n",
    "# For printing values to notebook.\n",
    "from IPython.display import display, HTML\n",
    "\n",
    "# For talking to Prometheus\n",
    "from obsinthe.prometheus.client import Client\n",
    "from obsinthe.prometheus.loader import Loader\n",
    "\n",
    "# For simulating alerts data (when not connected to live source)\n",
    "from obsinthe.testing.prometheus.client import MockedClient\n",
    "from obsinthe.testing.prometheus.alerts import AlertsDatasetBuilder\n",
    "\n",
    "# For merging daily data into a single dataset\n",
    "from obsinthe.prometheus.data import intervals_concat_days\n",
    "\n",
    "# For alerts clusterin\n",
    "from obsinthe.alerts.grouping import alerts_groups_one_hot, alerts_clustering_dbscan\n",
    "\n",
    "# For visualization\n",
    "from obsinthe.vis.alerts import plot_alerts_timeline\n",
    "from obsinthe.vis.clustering import plot_clustering\n",
    "\n",
    "# To avoid some issues when rendering Plotly on export to HTML\n",
    "import cufflinks\n",
    "cufflinks.go_offline()"
   ]
  },
  {
   "cell_type": "markdown",
   "id": "f296a33a",
   "metadata": {},
   "source": [
    "## Data loading"
   ]
  },
  {
   "cell_type": "code",
   "execution_count": 4,
   "id": "daae9127",
   "metadata": {
    "ExecuteTime": {
     "end_time": "2024-03-18T18:53:35.808070Z",
     "start_time": "2024-03-18T18:53:35.792370Z"
    }
   },
   "outputs": [],
   "source": [
    "# What date range we want to load the data for.\n",
    "START = datetime(2024, 3, 19, 10, 10)\n",
    "END = datetime(2024, 3, 23, 0, 0)"
   ]
  },
  {
   "cell_type": "code",
   "execution_count": 5,
   "id": "3ac927a6",
   "metadata": {
    "ExecuteTime": {
     "end_time": "2024-03-18T18:53:35.902561Z",
     "start_time": "2024-03-18T18:53:35.809001Z"
    }
   },
   "outputs": [
    {
     "data": {
      "application/vnd.jupyter.widget-view+json": {
       "model_id": "e1484fc76f9c4b4c8002f1de55cce758",
       "version_major": 2,
       "version_minor": 0
      },
      "text/plain": [
       "  0%|          | 0/4 [00:00<?, ?it/s]"
      ]
     },
     "metadata": {},
     "output_type": "display_data"
    },
    {
     "data": {
      "text/html": [
       "<div>\n",
       "<style scoped>\n",
       "    .dataframe tbody tr th:only-of-type {\n",
       "        vertical-align: middle;\n",
       "    }\n",
       "\n",
       "    .dataframe tbody tr th {\n",
       "        vertical-align: top;\n",
       "    }\n",
       "\n",
       "    .dataframe thead th {\n",
       "        text-align: right;\n",
       "    }\n",
       "</style>\n",
       "<table border=\"1\" class=\"dataframe\">\n",
       "  <thead>\n",
       "    <tr style=\"text-align: right;\">\n",
       "      <th></th>\n",
       "      <th>alertname</th>\n",
       "      <th>severity</th>\n",
       "      <th>instance_id</th>\n",
       "      <th>values</th>\n",
       "    </tr>\n",
       "  </thead>\n",
       "  <tbody>\n",
       "    <tr>\n",
       "      <th>0</th>\n",
       "      <td>TargetDown</td>\n",
       "      <td>warning</td>\n",
       "      <td>15</td>\n",
       "      <td>[1710857100.0, 1.0, 1710857160.0, 1.0, 1710857...</td>\n",
       "    </tr>\n",
       "    <tr>\n",
       "      <th>1</th>\n",
       "      <td>KubeDeploymentReplicasMismatch</td>\n",
       "      <td>warning</td>\n",
       "      <td>15</td>\n",
       "      <td>[1710857040.0, 1.0, 1710857100.0, 1.0, 1710857...</td>\n",
       "    </tr>\n",
       "    <tr>\n",
       "      <th>2</th>\n",
       "      <td>KubeNodeNotReady</td>\n",
       "      <td>critical</td>\n",
       "      <td>15</td>\n",
       "      <td>[1710857220.0, 1.0, 1710857280.0, 1.0, 1710857...</td>\n",
       "    </tr>\n",
       "    <tr>\n",
       "      <th>3</th>\n",
       "      <td>noise_h</td>\n",
       "      <td>warning</td>\n",
       "      <td>15</td>\n",
       "      <td>[1710857280.0, 1.0, 1710857340.0, 1.0, 1710857...</td>\n",
       "    </tr>\n",
       "    <tr>\n",
       "      <th>4</th>\n",
       "      <td>TargetDown</td>\n",
       "      <td>warning</td>\n",
       "      <td>32</td>\n",
       "      <td>[1710886380.0, 1.0, 1710886440.0, 1.0, 1710886...</td>\n",
       "    </tr>\n",
       "    <tr>\n",
       "      <th>...</th>\n",
       "      <td>...</td>\n",
       "      <td>...</td>\n",
       "      <td>...</td>\n",
       "      <td>...</td>\n",
       "    </tr>\n",
       "    <tr>\n",
       "      <th>79</th>\n",
       "      <td>ElasticsearchJVMHeapUseHigh</td>\n",
       "      <td>info</td>\n",
       "      <td>57</td>\n",
       "      <td>[1710879060.0, 1.0, 1710879120.0, 1.0, 1710879...</td>\n",
       "    </tr>\n",
       "    <tr>\n",
       "      <th>80</th>\n",
       "      <td>ElasticsearchJVMHeapUseHigh</td>\n",
       "      <td>info</td>\n",
       "      <td>57</td>\n",
       "      <td>[1710879300.0, 1.0, 1710879360.0, 1.0, 1710879...</td>\n",
       "    </tr>\n",
       "    <tr>\n",
       "      <th>81</th>\n",
       "      <td>ElasticsearchJVMHeapUseHigh</td>\n",
       "      <td>info</td>\n",
       "      <td>57</td>\n",
       "      <td>[1710879840.0, 1.0]</td>\n",
       "    </tr>\n",
       "    <tr>\n",
       "      <th>82</th>\n",
       "      <td>ElasticsearchJVMHeapUseHigh</td>\n",
       "      <td>info</td>\n",
       "      <td>57</td>\n",
       "      <td>[1710880080.0, 1.0, 1710880140.0, 1.0, 1710880...</td>\n",
       "    </tr>\n",
       "    <tr>\n",
       "      <th>83</th>\n",
       "      <td>noise_i</td>\n",
       "      <td>warning</td>\n",
       "      <td>57</td>\n",
       "      <td>[1710878640.0, 1.0, 1710878700.0, 1.0, 1710878...</td>\n",
       "    </tr>\n",
       "  </tbody>\n",
       "</table>\n",
       "<p>84 rows × 4 columns</p>\n",
       "</div>"
      ],
      "text/plain": [
       "                         alertname  severity instance_id  \\\n",
       "0                       TargetDown   warning          15   \n",
       "1   KubeDeploymentReplicasMismatch   warning          15   \n",
       "2                 KubeNodeNotReady  critical          15   \n",
       "3                          noise_h   warning          15   \n",
       "4                       TargetDown   warning          32   \n",
       "..                             ...       ...         ...   \n",
       "79     ElasticsearchJVMHeapUseHigh      info          57   \n",
       "80     ElasticsearchJVMHeapUseHigh      info          57   \n",
       "81     ElasticsearchJVMHeapUseHigh      info          57   \n",
       "82     ElasticsearchJVMHeapUseHigh      info          57   \n",
       "83                         noise_i   warning          57   \n",
       "\n",
       "                                               values  \n",
       "0   [1710857100.0, 1.0, 1710857160.0, 1.0, 1710857...  \n",
       "1   [1710857040.0, 1.0, 1710857100.0, 1.0, 1710857...  \n",
       "2   [1710857220.0, 1.0, 1710857280.0, 1.0, 1710857...  \n",
       "3   [1710857280.0, 1.0, 1710857340.0, 1.0, 1710857...  \n",
       "4   [1710886380.0, 1.0, 1710886440.0, 1.0, 1710886...  \n",
       "..                                                ...  \n",
       "79  [1710879060.0, 1.0, 1710879120.0, 1.0, 1710879...  \n",
       "80  [1710879300.0, 1.0, 1710879360.0, 1.0, 1710879...  \n",
       "81                                [1710879840.0, 1.0]  \n",
       "82  [1710880080.0, 1.0, 1710880140.0, 1.0, 1710880...  \n",
       "83  [1710878640.0, 1.0, 1710878700.0, 1.0, 1710878...  \n",
       "\n",
       "[84 rows x 4 columns]"
      ]
     },
     "execution_count": 5,
     "metadata": {},
     "output_type": "execute_result"
    }
   ],
   "source": [
    "# Load the data or simulate them when endpoint not available.\n",
    "\n",
    "# Replace with your instance, e.g. \"https://prometheus.example.com\".\n",
    "PROM_URL = \"\"\n",
    "\n",
    "if not PROM_URL:\n",
    "    client = MockedClient(AlertsDatasetBuilder(START, END))\n",
    "    client.mock_setup((START, END))\n",
    "else:\n",
    "    # We expect the token being available in `PROM_TOKEN`. Add it to `.env` file\n",
    "    client = Client(url=PROM_URL, token=os.getenv(\"PROM_TOKEN\"))\n",
    "\n",
    "# Load alerts data from the Prometheus instance.\n",
    "loader = Loader(client)\n",
    "\n",
    "alerts_ranges_collection = loader.interval_query(\"ALERTS[24h:1m]\", START, END)\n",
    "alerts_ranges_collection[0].df"
   ]
  },
  {
   "cell_type": "markdown",
   "id": "d17333c9",
   "metadata": {},
   "source": [
    "## Data transformation"
   ]
  },
  {
   "cell_type": "code",
   "execution_count": 6,
   "id": "135a87a8",
   "metadata": {
    "ExecuteTime": {
     "end_time": "2024-03-18T18:53:35.932535Z",
     "start_time": "2024-03-18T18:53:35.903287Z"
    }
   },
   "outputs": [
    {
     "data": {
      "text/html": [
       "<div>\n",
       "<style scoped>\n",
       "    .dataframe tbody tr th:only-of-type {\n",
       "        vertical-align: middle;\n",
       "    }\n",
       "\n",
       "    .dataframe tbody tr th {\n",
       "        vertical-align: top;\n",
       "    }\n",
       "\n",
       "    .dataframe thead th {\n",
       "        text-align: right;\n",
       "    }\n",
       "</style>\n",
       "<table border=\"1\" class=\"dataframe\">\n",
       "  <thead>\n",
       "    <tr style=\"text-align: right;\">\n",
       "      <th></th>\n",
       "      <th>alertname</th>\n",
       "      <th>severity</th>\n",
       "      <th>instance_id</th>\n",
       "      <th>start</th>\n",
       "      <th>end</th>\n",
       "    </tr>\n",
       "  </thead>\n",
       "  <tbody>\n",
       "    <tr>\n",
       "      <th>0</th>\n",
       "      <td>TargetDown</td>\n",
       "      <td>warning</td>\n",
       "      <td>15</td>\n",
       "      <td>2024-03-19 14:05:00+00:00</td>\n",
       "      <td>2024-03-19 14:31:00+00:00</td>\n",
       "    </tr>\n",
       "    <tr>\n",
       "      <th>1</th>\n",
       "      <td>KubeDeploymentReplicasMismatch</td>\n",
       "      <td>warning</td>\n",
       "      <td>15</td>\n",
       "      <td>2024-03-19 14:04:00+00:00</td>\n",
       "      <td>2024-03-19 14:31:00+00:00</td>\n",
       "    </tr>\n",
       "    <tr>\n",
       "      <th>2</th>\n",
       "      <td>KubeNodeNotReady</td>\n",
       "      <td>critical</td>\n",
       "      <td>15</td>\n",
       "      <td>2024-03-19 14:07:00+00:00</td>\n",
       "      <td>2024-03-19 14:34:00+00:00</td>\n",
       "    </tr>\n",
       "    <tr>\n",
       "      <th>3</th>\n",
       "      <td>noise_h</td>\n",
       "      <td>warning</td>\n",
       "      <td>15</td>\n",
       "      <td>2024-03-19 14:08:00+00:00</td>\n",
       "      <td>2024-03-19 14:35:00+00:00</td>\n",
       "    </tr>\n",
       "    <tr>\n",
       "      <th>4</th>\n",
       "      <td>TargetDown</td>\n",
       "      <td>warning</td>\n",
       "      <td>32</td>\n",
       "      <td>2024-03-19 22:13:00+00:00</td>\n",
       "      <td>2024-03-19 22:42:00+00:00</td>\n",
       "    </tr>\n",
       "    <tr>\n",
       "      <th>...</th>\n",
       "      <td>...</td>\n",
       "      <td>...</td>\n",
       "      <td>...</td>\n",
       "      <td>...</td>\n",
       "      <td>...</td>\n",
       "    </tr>\n",
       "    <tr>\n",
       "      <th>79</th>\n",
       "      <td>ElasticsearchJVMHeapUseHigh</td>\n",
       "      <td>info</td>\n",
       "      <td>57</td>\n",
       "      <td>2024-03-19 20:11:00+00:00</td>\n",
       "      <td>2024-03-19 20:13:00+00:00</td>\n",
       "    </tr>\n",
       "    <tr>\n",
       "      <th>80</th>\n",
       "      <td>ElasticsearchJVMHeapUseHigh</td>\n",
       "      <td>info</td>\n",
       "      <td>57</td>\n",
       "      <td>2024-03-19 20:15:00+00:00</td>\n",
       "      <td>2024-03-19 20:19:00+00:00</td>\n",
       "    </tr>\n",
       "    <tr>\n",
       "      <th>81</th>\n",
       "      <td>ElasticsearchJVMHeapUseHigh</td>\n",
       "      <td>info</td>\n",
       "      <td>57</td>\n",
       "      <td>2024-03-19 20:24:00+00:00</td>\n",
       "      <td>2024-03-19 20:24:00+00:00</td>\n",
       "    </tr>\n",
       "    <tr>\n",
       "      <th>82</th>\n",
       "      <td>ElasticsearchJVMHeapUseHigh</td>\n",
       "      <td>info</td>\n",
       "      <td>57</td>\n",
       "      <td>2024-03-19 20:28:00+00:00</td>\n",
       "      <td>2024-03-19 20:33:00+00:00</td>\n",
       "    </tr>\n",
       "    <tr>\n",
       "      <th>83</th>\n",
       "      <td>noise_i</td>\n",
       "      <td>warning</td>\n",
       "      <td>57</td>\n",
       "      <td>2024-03-19 20:04:00+00:00</td>\n",
       "      <td>2024-03-19 20:32:00+00:00</td>\n",
       "    </tr>\n",
       "  </tbody>\n",
       "</table>\n",
       "<p>84 rows × 5 columns</p>\n",
       "</div>"
      ],
      "text/plain": [
       "                         alertname  severity instance_id  \\\n",
       "0                       TargetDown   warning          15   \n",
       "1   KubeDeploymentReplicasMismatch   warning          15   \n",
       "2                 KubeNodeNotReady  critical          15   \n",
       "3                          noise_h   warning          15   \n",
       "4                       TargetDown   warning          32   \n",
       "..                             ...       ...         ...   \n",
       "79     ElasticsearchJVMHeapUseHigh      info          57   \n",
       "80     ElasticsearchJVMHeapUseHigh      info          57   \n",
       "81     ElasticsearchJVMHeapUseHigh      info          57   \n",
       "82     ElasticsearchJVMHeapUseHigh      info          57   \n",
       "83                         noise_i   warning          57   \n",
       "\n",
       "                       start                       end  \n",
       "0  2024-03-19 14:05:00+00:00 2024-03-19 14:31:00+00:00  \n",
       "1  2024-03-19 14:04:00+00:00 2024-03-19 14:31:00+00:00  \n",
       "2  2024-03-19 14:07:00+00:00 2024-03-19 14:34:00+00:00  \n",
       "3  2024-03-19 14:08:00+00:00 2024-03-19 14:35:00+00:00  \n",
       "4  2024-03-19 22:13:00+00:00 2024-03-19 22:42:00+00:00  \n",
       "..                       ...                       ...  \n",
       "79 2024-03-19 20:11:00+00:00 2024-03-19 20:13:00+00:00  \n",
       "80 2024-03-19 20:15:00+00:00 2024-03-19 20:19:00+00:00  \n",
       "81 2024-03-19 20:24:00+00:00 2024-03-19 20:24:00+00:00  \n",
       "82 2024-03-19 20:28:00+00:00 2024-03-19 20:33:00+00:00  \n",
       "83 2024-03-19 20:04:00+00:00 2024-03-19 20:32:00+00:00  \n",
       "\n",
       "[84 rows x 5 columns]"
      ]
     },
     "execution_count": 6,
     "metadata": {},
     "output_type": "execute_result"
    }
   ],
   "source": [
    "alerts_intervals_collection = alerts_ranges_collection.fmap(\n",
    "    lambda ds: ds.to_intervals_ds(timedelta(minutes=1))\n",
    ")\n",
    "alerts_intervals_collection[0].df"
   ]
  },
  {
   "cell_type": "code",
   "execution_count": 7,
   "id": "e89ac381",
   "metadata": {
    "ExecuteTime": {
     "end_time": "2024-03-18T18:53:35.970849Z",
     "start_time": "2024-03-18T18:53:35.933317Z"
    }
   },
   "outputs": [
    {
     "data": {
      "application/vnd.jupyter.widget-view+json": {
       "model_id": "ef04dca3655c4a5ba2e2e94ce5e27d63",
       "version_major": 2,
       "version_minor": 0
      },
      "text/plain": [
       "  0%|          | 0/4 [00:00<?, ?it/s]"
      ]
     },
     "metadata": {},
     "output_type": "display_data"
    },
    {
     "data": {
      "text/html": [
       "<div>\n",
       "<style scoped>\n",
       "    .dataframe tbody tr th:only-of-type {\n",
       "        vertical-align: middle;\n",
       "    }\n",
       "\n",
       "    .dataframe tbody tr th {\n",
       "        vertical-align: top;\n",
       "    }\n",
       "\n",
       "    .dataframe thead th {\n",
       "        text-align: right;\n",
       "    }\n",
       "</style>\n",
       "<table border=\"1\" class=\"dataframe\">\n",
       "  <thead>\n",
       "    <tr style=\"text-align: right;\">\n",
       "      <th></th>\n",
       "      <th>alertname</th>\n",
       "      <th>severity</th>\n",
       "      <th>instance_id</th>\n",
       "      <th>start</th>\n",
       "      <th>end</th>\n",
       "    </tr>\n",
       "  </thead>\n",
       "  <tbody>\n",
       "    <tr>\n",
       "      <th>0</th>\n",
       "      <td>TargetDown</td>\n",
       "      <td>warning</td>\n",
       "      <td>15</td>\n",
       "      <td>2024-03-19 14:05:00+00:00</td>\n",
       "      <td>2024-03-19 14:32:00+00:00</td>\n",
       "    </tr>\n",
       "    <tr>\n",
       "      <th>1</th>\n",
       "      <td>KubeDeploymentReplicasMismatch</td>\n",
       "      <td>warning</td>\n",
       "      <td>15</td>\n",
       "      <td>2024-03-19 14:04:00+00:00</td>\n",
       "      <td>2024-03-19 14:32:00+00:00</td>\n",
       "    </tr>\n",
       "    <tr>\n",
       "      <th>2</th>\n",
       "      <td>KubeNodeNotReady</td>\n",
       "      <td>critical</td>\n",
       "      <td>15</td>\n",
       "      <td>2024-03-19 14:07:00+00:00</td>\n",
       "      <td>2024-03-19 14:35:00+00:00</td>\n",
       "    </tr>\n",
       "    <tr>\n",
       "      <th>3</th>\n",
       "      <td>noise_h</td>\n",
       "      <td>warning</td>\n",
       "      <td>15</td>\n",
       "      <td>2024-03-19 14:08:00+00:00</td>\n",
       "      <td>2024-03-19 14:36:00+00:00</td>\n",
       "    </tr>\n",
       "    <tr>\n",
       "      <th>4</th>\n",
       "      <td>TargetDown</td>\n",
       "      <td>warning</td>\n",
       "      <td>32</td>\n",
       "      <td>2024-03-19 22:13:00+00:00</td>\n",
       "      <td>2024-03-19 22:43:00+00:00</td>\n",
       "    </tr>\n",
       "    <tr>\n",
       "      <th>...</th>\n",
       "      <td>...</td>\n",
       "      <td>...</td>\n",
       "      <td>...</td>\n",
       "      <td>...</td>\n",
       "      <td>...</td>\n",
       "    </tr>\n",
       "    <tr>\n",
       "      <th>470</th>\n",
       "      <td>ElasticsearchJVMHeapUseHigh</td>\n",
       "      <td>info</td>\n",
       "      <td>30</td>\n",
       "      <td>2024-03-22 04:05:00+00:00</td>\n",
       "      <td>2024-03-22 04:06:00+00:00</td>\n",
       "    </tr>\n",
       "    <tr>\n",
       "      <th>471</th>\n",
       "      <td>ElasticsearchJVMHeapUseHigh</td>\n",
       "      <td>info</td>\n",
       "      <td>30</td>\n",
       "      <td>2024-03-22 04:08:00+00:00</td>\n",
       "      <td>2024-03-22 04:10:00+00:00</td>\n",
       "    </tr>\n",
       "    <tr>\n",
       "      <th>472</th>\n",
       "      <td>noise_s</td>\n",
       "      <td>warning</td>\n",
       "      <td>30</td>\n",
       "      <td>2024-03-22 03:43:00+00:00</td>\n",
       "      <td>2024-03-22 04:08:00+00:00</td>\n",
       "    </tr>\n",
       "    <tr>\n",
       "      <th>473</th>\n",
       "      <td>ElasticsearchClusterNotHealthy</td>\n",
       "      <td>warning</td>\n",
       "      <td>36</td>\n",
       "      <td>2024-03-22 23:53:00+00:00</td>\n",
       "      <td>2024-03-23 00:01:00+00:00</td>\n",
       "    </tr>\n",
       "    <tr>\n",
       "      <th>474</th>\n",
       "      <td>noise_p</td>\n",
       "      <td>warning</td>\n",
       "      <td>36</td>\n",
       "      <td>2024-03-22 23:56:00+00:00</td>\n",
       "      <td>2024-03-23 00:01:00+00:00</td>\n",
       "    </tr>\n",
       "  </tbody>\n",
       "</table>\n",
       "<p>475 rows × 5 columns</p>\n",
       "</div>"
      ],
      "text/plain": [
       "                          alertname  severity instance_id  \\\n",
       "0                        TargetDown   warning          15   \n",
       "1    KubeDeploymentReplicasMismatch   warning          15   \n",
       "2                  KubeNodeNotReady  critical          15   \n",
       "3                           noise_h   warning          15   \n",
       "4                        TargetDown   warning          32   \n",
       "..                              ...       ...         ...   \n",
       "470     ElasticsearchJVMHeapUseHigh      info          30   \n",
       "471     ElasticsearchJVMHeapUseHigh      info          30   \n",
       "472                         noise_s   warning          30   \n",
       "473  ElasticsearchClusterNotHealthy   warning          36   \n",
       "474                         noise_p   warning          36   \n",
       "\n",
       "                        start                       end  \n",
       "0   2024-03-19 14:05:00+00:00 2024-03-19 14:32:00+00:00  \n",
       "1   2024-03-19 14:04:00+00:00 2024-03-19 14:32:00+00:00  \n",
       "2   2024-03-19 14:07:00+00:00 2024-03-19 14:35:00+00:00  \n",
       "3   2024-03-19 14:08:00+00:00 2024-03-19 14:36:00+00:00  \n",
       "4   2024-03-19 22:13:00+00:00 2024-03-19 22:43:00+00:00  \n",
       "..                        ...                       ...  \n",
       "470 2024-03-22 04:05:00+00:00 2024-03-22 04:06:00+00:00  \n",
       "471 2024-03-22 04:08:00+00:00 2024-03-22 04:10:00+00:00  \n",
       "472 2024-03-22 03:43:00+00:00 2024-03-22 04:08:00+00:00  \n",
       "473 2024-03-22 23:53:00+00:00 2024-03-23 00:01:00+00:00  \n",
       "474 2024-03-22 23:56:00+00:00 2024-03-23 00:01:00+00:00  \n",
       "\n",
       "[475 rows x 5 columns]"
      ]
     },
     "execution_count": 7,
     "metadata": {},
     "output_type": "execute_result"
    }
   ],
   "source": [
    "alerts_intervals = intervals_concat_days(\n",
    "    alerts_intervals_collection\n",
    ").correct_for_resolution(timedelta(minutes=1))\n",
    "alerts_intervals.df"
   ]
  },
  {
   "cell_type": "markdown",
   "id": "b0f90413",
   "metadata": {},
   "source": [
    "## Identifying groups of alerts"
   ]
  },
  {
   "cell_type": "code",
   "execution_count": 8,
   "id": "a2971ba6",
   "metadata": {
    "ExecuteTime": {
     "end_time": "2024-03-18T18:53:35.983150Z",
     "start_time": "2024-03-18T18:53:35.971633Z"
    }
   },
   "outputs": [],
   "source": [
    "alert_id = lambda a: f\"{a['alertname']}-{a['instance_id']}\""
   ]
  },
  {
   "cell_type": "code",
   "execution_count": 9,
   "id": "1f8944a8",
   "metadata": {
    "ExecuteTime": {
     "end_time": "2024-03-18T18:53:36.197726Z",
     "start_time": "2024-03-18T18:53:35.984380Z"
    }
   },
   "outputs": [
    {
     "data": {
      "application/vnd.plotly.v1+json": {
       "config": {
        "plotlyServerURL": "https://plot.ly"
       },
       "data": [
        {
         "alignmentgroup": "True",
         "base": [
          "2024-03-22T09:47:00+00:00",
          "2024-03-21T10:04:00+00:00",
          "2024-03-19T19:51:00+00:00",
          "2024-03-21T20:42:00+00:00",
          "2024-03-19T14:07:00+00:00",
          "2024-03-21T00:07:00+00:00",
          "2024-03-21T13:21:00+00:00",
          "2024-03-19T21:05:00+00:00",
          "2024-03-20T08:56:00+00:00",
          "2024-03-19T13:59:00+00:00",
          "2024-03-22T13:23:00+00:00",
          "2024-03-22T01:22:00+00:00",
          "2024-03-22T07:30:00+00:00",
          "2024-03-20T04:56:00+00:00",
          "2024-03-22T22:36:00+00:00",
          "2024-03-21T19:54:00+00:00",
          "2024-03-19T22:11:00+00:00",
          "2024-03-20T09:10:00+00:00",
          "2024-03-22T09:48:00+00:00",
          "2024-03-20T00:05:00+00:00",
          "2024-03-19T10:32:00+00:00",
          "2024-03-20T07:04:00+00:00",
          "2024-03-21T01:00:00+00:00",
          "2024-03-19T18:08:00+00:00",
          "2024-03-22T19:04:00+00:00",
          "2024-03-22T13:05:00+00:00",
          "2024-03-21T01:29:00+00:00",
          "2024-03-21T09:50:00+00:00",
          "2024-03-20T10:08:00+00:00",
          "2024-03-22T00:44:00+00:00",
          "2024-03-21T08:10:00+00:00",
          "2024-03-22T01:20:00+00:00",
          "2024-03-21T15:41:00+00:00",
          "2024-03-20T05:11:00+00:00",
          "2024-03-20T03:19:00+00:00",
          "2024-03-20T22:28:00+00:00",
          "2024-03-22T08:16:00+00:00",
          "2024-03-19T18:32:00+00:00",
          "2024-03-19T19:51:00+00:00",
          "2024-03-21T08:12:00+00:00",
          "2024-03-22T14:01:00+00:00",
          "2024-03-20T04:32:00+00:00",
          "2024-03-22T19:59:00+00:00",
          "2024-03-20T10:09:00+00:00",
          "2024-03-19T14:59:00+00:00",
          "2024-03-21T21:07:00+00:00",
          "2024-03-21T10:40:00+00:00",
          "2024-03-21T01:49:00+00:00",
          "2024-03-20T04:28:00+00:00",
          "2024-03-20T05:05:00+00:00"
         ],
         "hovertemplate": "severity=critical<br>start=%{base}<br>end=%{x}<br>alert_id=%{y}<extra></extra>",
         "legendgroup": "critical",
         "marker": {
          "color": "red",
          "pattern": {
           "shape": ""
          }
         },
         "name": "critical",
         "offsetgroup": "critical",
         "orientation": "h",
         "showlegend": true,
         "textposition": "auto",
         "type": "bar",
         "width": 0.8,
         "x": [
          1560000,
          1860000,
          1320000,
          1560000,
          1680000,
          2040000,
          2040000,
          1680000,
          1440000,
          1860000,
          2280000,
          1860000,
          1800000,
          1860000,
          1980000,
          1920000,
          1980000,
          1860000,
          1560000,
          2160000,
          1680000,
          2160000,
          1740000,
          1680000,
          1320000,
          1740000,
          1320000,
          1500000,
          1620000,
          1980000,
          1680000,
          2100000,
          1740000,
          1980000,
          1560000,
          1740000,
          1440000,
          2040000,
          1740000,
          2040000,
          2040000,
          1680000,
          1980000,
          1680000,
          1920000,
          2100000,
          1920000,
          1620000,
          1740000,
          1560000
         ],
         "xaxis": "x",
         "y": [
          "KubeNodeNotReady-1",
          "KubeNodeNotReady-100",
          "KubeNodeNotReady-12",
          "KubeNodeNotReady-14",
          "KubeNodeNotReady-15",
          "KubeNodeNotReady-17",
          "KubeNodeNotReady-18",
          "KubeNodeNotReady-20",
          "KubeNodeNotReady-21",
          "KubeNodeNotReady-23",
          "KubeNodeNotReady-25",
          "KubeNodeNotReady-26",
          "KubeNodeNotReady-28",
          "KubeNodeNotReady-29",
          "KubeNodeNotReady-3",
          "KubeNodeNotReady-30",
          "KubeNodeNotReady-32",
          "KubeNodeNotReady-36",
          "KubeNodeNotReady-39",
          "KubeNodeNotReady-4",
          "KubeNodeNotReady-44",
          "KubeNodeNotReady-47",
          "KubeNodeNotReady-5",
          "KubeNodeNotReady-52",
          "KubeNodeNotReady-54",
          "KubeNodeNotReady-55",
          "KubeNodeNotReady-58",
          "KubeNodeNotReady-59",
          "KubeNodeNotReady-6",
          "KubeNodeNotReady-63",
          "KubeNodeNotReady-65",
          "KubeNodeNotReady-68",
          "KubeNodeNotReady-69",
          "KubeNodeNotReady-7",
          "KubeNodeNotReady-70",
          "KubeNodeNotReady-72",
          "KubeNodeNotReady-76",
          "KubeNodeNotReady-78",
          "KubeNodeNotReady-80",
          "KubeNodeNotReady-82",
          "KubeNodeNotReady-83",
          "KubeNodeNotReady-85",
          "KubeNodeNotReady-87",
          "KubeNodeNotReady-89",
          "KubeNodeNotReady-90",
          "KubeNodeNotReady-91",
          "KubeNodeNotReady-94",
          "KubeNodeNotReady-95",
          "KubeNodeNotReady-96",
          "KubeNodeNotReady-98"
         ],
         "yaxis": "y"
        },
        {
         "alignmentgroup": "True",
         "base": [
          "2024-03-21T03:50:00+00:00",
          "2024-03-21T03:53:00+00:00",
          "2024-03-21T03:57:00+00:00",
          "2024-03-21T04:00:00+00:00",
          "2024-03-21T04:04:00+00:00",
          "2024-03-21T04:09:00+00:00",
          "2024-03-21T04:13:00+00:00",
          "2024-03-21T04:16:00+00:00",
          "2024-03-21T04:18:00+00:00",
          "2024-03-21T04:20:00+00:00",
          "2024-03-21T04:22:00+00:00",
          "2024-03-21T14:55:00+00:00",
          "2024-03-21T14:59:00+00:00",
          "2024-03-21T15:03:00+00:00",
          "2024-03-21T15:05:00+00:00",
          "2024-03-21T15:07:00+00:00",
          "2024-03-21T15:10:00+00:00",
          "2024-03-21T15:14:00+00:00",
          "2024-03-21T15:17:00+00:00",
          "2024-03-21T15:21:00+00:00",
          "2024-03-22T06:10:00+00:00",
          "2024-03-22T06:14:00+00:00",
          "2024-03-22T06:17:00+00:00",
          "2024-03-22T06:24:00+00:00",
          "2024-03-22T06:29:00+00:00",
          "2024-03-22T06:31:00+00:00",
          "2024-03-22T06:33:00+00:00",
          "2024-03-20T14:23:00+00:00",
          "2024-03-20T14:27:00+00:00",
          "2024-03-20T14:31:00+00:00",
          "2024-03-20T14:35:00+00:00",
          "2024-03-20T14:39:00+00:00",
          "2024-03-20T14:46:00+00:00",
          "2024-03-19T23:40:00+00:00",
          "2024-03-19T23:45:00+00:00",
          "2024-03-19T23:48:00+00:00",
          "2024-03-19T23:50:00+00:00",
          "2024-03-19T23:54:00+00:00",
          "2024-03-20T00:01:00+00:00",
          "2024-03-22T03:42:00+00:00",
          "2024-03-22T03:48:00+00:00",
          "2024-03-22T03:52:00+00:00",
          "2024-03-22T03:55:00+00:00",
          "2024-03-22T04:00:00+00:00",
          "2024-03-22T04:02:00+00:00",
          "2024-03-22T04:05:00+00:00",
          "2024-03-22T04:08:00+00:00",
          "2024-03-19T19:56:00+00:00",
          "2024-03-19T19:58:00+00:00",
          "2024-03-19T20:02:00+00:00",
          "2024-03-19T20:07:00+00:00",
          "2024-03-19T20:10:00+00:00",
          "2024-03-19T20:13:00+00:00",
          "2024-03-19T20:22:00+00:00",
          "2024-03-19T20:27:00+00:00",
          "2024-03-20T19:15:00+00:00",
          "2024-03-20T19:17:00+00:00",
          "2024-03-20T19:19:00+00:00",
          "2024-03-20T19:22:00+00:00",
          "2024-03-20T19:28:00+00:00",
          "2024-03-20T19:33:00+00:00",
          "2024-03-20T19:37:00+00:00",
          "2024-03-20T19:40:00+00:00",
          "2024-03-20T19:43:00+00:00",
          "2024-03-22T19:31:00+00:00",
          "2024-03-22T19:33:00+00:00",
          "2024-03-22T19:35:00+00:00",
          "2024-03-22T19:42:00+00:00",
          "2024-03-22T19:46:00+00:00",
          "2024-03-22T19:54:00+00:00",
          "2024-03-22T19:57:00+00:00",
          "2024-03-22T19:59:00+00:00",
          "2024-03-22T07:44:00+00:00",
          "2024-03-22T07:47:00+00:00",
          "2024-03-22T07:54:00+00:00",
          "2024-03-22T07:56:00+00:00",
          "2024-03-22T07:58:00+00:00",
          "2024-03-22T08:02:00+00:00",
          "2024-03-22T08:04:00+00:00",
          "2024-03-22T08:09:00+00:00",
          "2024-03-20T22:57:00+00:00",
          "2024-03-20T22:59:00+00:00",
          "2024-03-20T23:02:00+00:00",
          "2024-03-20T23:04:00+00:00",
          "2024-03-20T23:08:00+00:00",
          "2024-03-20T23:12:00+00:00",
          "2024-03-20T23:14:00+00:00",
          "2024-03-20T23:20:00+00:00",
          "2024-03-20T23:25:00+00:00",
          "2024-03-21T20:24:00+00:00",
          "2024-03-21T20:28:00+00:00",
          "2024-03-21T20:31:00+00:00",
          "2024-03-21T20:34:00+00:00",
          "2024-03-21T20:38:00+00:00",
          "2024-03-21T20:40:00+00:00",
          "2024-03-21T20:44:00+00:00",
          "2024-03-21T20:46:00+00:00",
          "2024-03-21T20:49:00+00:00",
          "2024-03-21T20:51:00+00:00",
          "2024-03-21T17:21:00+00:00",
          "2024-03-21T17:24:00+00:00",
          "2024-03-21T17:28:00+00:00",
          "2024-03-21T17:34:00+00:00",
          "2024-03-21T17:37:00+00:00",
          "2024-03-21T17:39:00+00:00",
          "2024-03-21T17:44:00+00:00",
          "2024-03-21T17:47:00+00:00",
          "2024-03-21T17:51:00+00:00",
          "2024-03-21T22:57:00+00:00",
          "2024-03-21T23:01:00+00:00",
          "2024-03-21T23:05:00+00:00",
          "2024-03-21T23:08:00+00:00",
          "2024-03-21T23:10:00+00:00",
          "2024-03-21T23:16:00+00:00",
          "2024-03-21T23:22:00+00:00",
          "2024-03-19T20:03:00+00:00",
          "2024-03-19T20:05:00+00:00",
          "2024-03-19T20:11:00+00:00",
          "2024-03-19T20:15:00+00:00",
          "2024-03-19T20:24:00+00:00",
          "2024-03-19T20:28:00+00:00",
          "2024-03-21T22:53:00+00:00",
          "2024-03-21T22:55:00+00:00",
          "2024-03-21T23:02:00+00:00",
          "2024-03-21T23:06:00+00:00",
          "2024-03-21T23:10:00+00:00",
          "2024-03-21T23:15:00+00:00",
          "2024-03-21T23:19:00+00:00",
          "2024-03-21T05:15:00+00:00",
          "2024-03-21T05:20:00+00:00",
          "2024-03-21T05:25:00+00:00",
          "2024-03-21T05:28:00+00:00",
          "2024-03-19T14:00:00+00:00",
          "2024-03-19T14:06:00+00:00",
          "2024-03-19T14:08:00+00:00",
          "2024-03-19T14:12:00+00:00",
          "2024-03-19T14:14:00+00:00",
          "2024-03-19T14:17:00+00:00",
          "2024-03-19T14:19:00+00:00",
          "2024-03-19T14:22:00+00:00",
          "2024-03-19T14:25:00+00:00",
          "2024-03-21T02:52:00+00:00",
          "2024-03-21T02:56:00+00:00",
          "2024-03-21T03:01:00+00:00",
          "2024-03-21T03:06:00+00:00",
          "2024-03-21T03:11:00+00:00",
          "2024-03-21T03:13:00+00:00",
          "2024-03-21T03:16:00+00:00",
          "2024-03-22T21:15:00+00:00",
          "2024-03-22T21:19:00+00:00",
          "2024-03-22T21:21:00+00:00",
          "2024-03-22T21:23:00+00:00",
          "2024-03-22T21:29:00+00:00",
          "2024-03-22T21:32:00+00:00",
          "2024-03-22T21:34:00+00:00",
          "2024-03-22T10:11:00+00:00",
          "2024-03-22T10:14:00+00:00",
          "2024-03-22T10:18:00+00:00",
          "2024-03-22T10:21:00+00:00",
          "2024-03-22T10:23:00+00:00",
          "2024-03-22T10:25:00+00:00",
          "2024-03-22T10:30:00+00:00",
          "2024-03-22T10:33:00+00:00",
          "2024-03-20T05:25:00+00:00",
          "2024-03-20T05:29:00+00:00",
          "2024-03-20T05:36:00+00:00",
          "2024-03-20T05:39:00+00:00",
          "2024-03-20T19:07:00+00:00",
          "2024-03-20T19:11:00+00:00",
          "2024-03-20T19:14:00+00:00",
          "2024-03-20T19:19:00+00:00",
          "2024-03-20T19:21:00+00:00",
          "2024-03-20T19:25:00+00:00",
          "2024-03-20T19:29:00+00:00",
          "2024-03-20T19:31:00+00:00",
          "2024-03-19T14:35:00+00:00",
          "2024-03-19T14:40:00+00:00",
          "2024-03-19T14:43:00+00:00",
          "2024-03-19T14:46:00+00:00",
          "2024-03-19T14:52:00+00:00",
          "2024-03-19T14:54:00+00:00",
          "2024-03-22T06:32:00+00:00",
          "2024-03-22T06:34:00+00:00",
          "2024-03-22T06:39:00+00:00",
          "2024-03-22T06:41:00+00:00",
          "2024-03-22T06:47:00+00:00",
          "2024-03-22T06:50:00+00:00",
          "2024-03-21T00:43:00+00:00",
          "2024-03-21T00:48:00+00:00",
          "2024-03-21T00:50:00+00:00",
          "2024-03-21T00:54:00+00:00",
          "2024-03-21T00:58:00+00:00",
          "2024-03-21T01:02:00+00:00",
          "2024-03-21T01:04:00+00:00",
          "2024-03-20T20:27:00+00:00",
          "2024-03-20T20:29:00+00:00",
          "2024-03-20T20:34:00+00:00",
          "2024-03-20T20:36:00+00:00",
          "2024-03-20T20:39:00+00:00",
          "2024-03-20T20:43:00+00:00",
          "2024-03-20T20:47:00+00:00",
          "2024-03-20T20:51:00+00:00",
          "2024-03-21T19:07:00+00:00",
          "2024-03-21T19:11:00+00:00",
          "2024-03-21T19:19:00+00:00",
          "2024-03-21T19:21:00+00:00",
          "2024-03-22T11:47:00+00:00",
          "2024-03-22T11:49:00+00:00",
          "2024-03-22T11:53:00+00:00",
          "2024-03-22T11:55:00+00:00",
          "2024-03-22T11:58:00+00:00",
          "2024-03-22T12:03:00+00:00",
          "2024-03-22T12:06:00+00:00",
          "2024-03-22T12:10:00+00:00",
          "2024-03-22T12:15:00+00:00"
         ],
         "hovertemplate": "severity=info<br>start=%{base}<br>end=%{x}<br>alert_id=%{y}<extra></extra>",
         "legendgroup": "info",
         "marker": {
          "color": "blue",
          "pattern": {
           "shape": ""
          }
         },
         "name": "info",
         "offsetgroup": "info",
         "orientation": "h",
         "showlegend": true,
         "textposition": "auto",
         "type": "bar",
         "width": 0.8,
         "x": [
          60000,
          60000,
          120000,
          180000,
          120000,
          120000,
          120000,
          60000,
          60000,
          60000,
          60000,
          120000,
          60000,
          60000,
          60000,
          120000,
          120000,
          60000,
          180000,
          60000,
          120000,
          60000,
          60000,
          60000,
          60000,
          60000,
          60000,
          60000,
          60000,
          120000,
          180000,
          240000,
          120000,
          120000,
          120000,
          60000,
          180000,
          240000,
          60000,
          240000,
          60000,
          60000,
          240000,
          60000,
          60000,
          60000,
          120000,
          60000,
          120000,
          120000,
          60000,
          120000,
          180000,
          180000,
          60000,
          60000,
          60000,
          120000,
          120000,
          60000,
          180000,
          120000,
          120000,
          60000,
          60000,
          60000,
          180000,
          60000,
          60000,
          120000,
          60000,
          60000,
          60000,
          60000,
          60000,
          60000,
          60000,
          60000,
          120000,
          120000,
          60000,
          60000,
          60000,
          120000,
          60000,
          60000,
          240000,
          240000,
          300000,
          180000,
          60000,
          120000,
          120000,
          60000,
          120000,
          60000,
          60000,
          60000,
          60000,
          60000,
          120000,
          300000,
          120000,
          60000,
          240000,
          60000,
          60000,
          120000,
          120000,
          60000,
          60000,
          60000,
          60000,
          240000,
          60000,
          60000,
          120000,
          180000,
          300000,
          60000,
          360000,
          60000,
          120000,
          120000,
          120000,
          240000,
          180000,
          60000,
          240000,
          120000,
          60000,
          60000,
          120000,
          60000,
          60000,
          60000,
          60000,
          60000,
          60000,
          60000,
          120000,
          180000,
          120000,
          240000,
          120000,
          60000,
          60000,
          60000,
          120000,
          60000,
          60000,
          60000,
          120000,
          60000,
          120000,
          60000,
          180000,
          120000,
          60000,
          60000,
          180000,
          120000,
          180000,
          180000,
          240000,
          120000,
          60000,
          120000,
          60000,
          60000,
          60000,
          60000,
          60000,
          60000,
          120000,
          240000,
          120000,
          120000,
          300000,
          60000,
          120000,
          60000,
          240000,
          60000,
          120000,
          60000,
          120000,
          60000,
          60000,
          60000,
          120000,
          120000,
          60000,
          60000,
          60000,
          240000,
          60000,
          120000,
          60000,
          60000,
          180000,
          120000,
          60000,
          60000,
          60000,
          120000,
          60000,
          60000,
          60000,
          60000,
          120000,
          120000,
          60000,
          240000,
          60000
         ],
         "xaxis": "x",
         "y": [
          "ElasticsearchJVMHeapUseHigh-10",
          "ElasticsearchJVMHeapUseHigh-10",
          "ElasticsearchJVMHeapUseHigh-10",
          "ElasticsearchJVMHeapUseHigh-10",
          "ElasticsearchJVMHeapUseHigh-10",
          "ElasticsearchJVMHeapUseHigh-10",
          "ElasticsearchJVMHeapUseHigh-10",
          "ElasticsearchJVMHeapUseHigh-10",
          "ElasticsearchJVMHeapUseHigh-10",
          "ElasticsearchJVMHeapUseHigh-10",
          "ElasticsearchJVMHeapUseHigh-10",
          "ElasticsearchJVMHeapUseHigh-11",
          "ElasticsearchJVMHeapUseHigh-11",
          "ElasticsearchJVMHeapUseHigh-11",
          "ElasticsearchJVMHeapUseHigh-11",
          "ElasticsearchJVMHeapUseHigh-11",
          "ElasticsearchJVMHeapUseHigh-11",
          "ElasticsearchJVMHeapUseHigh-11",
          "ElasticsearchJVMHeapUseHigh-11",
          "ElasticsearchJVMHeapUseHigh-11",
          "ElasticsearchJVMHeapUseHigh-18",
          "ElasticsearchJVMHeapUseHigh-18",
          "ElasticsearchJVMHeapUseHigh-18",
          "ElasticsearchJVMHeapUseHigh-18",
          "ElasticsearchJVMHeapUseHigh-18",
          "ElasticsearchJVMHeapUseHigh-18",
          "ElasticsearchJVMHeapUseHigh-18",
          "ElasticsearchJVMHeapUseHigh-20",
          "ElasticsearchJVMHeapUseHigh-20",
          "ElasticsearchJVMHeapUseHigh-20",
          "ElasticsearchJVMHeapUseHigh-20",
          "ElasticsearchJVMHeapUseHigh-20",
          "ElasticsearchJVMHeapUseHigh-20",
          "ElasticsearchJVMHeapUseHigh-21",
          "ElasticsearchJVMHeapUseHigh-21",
          "ElasticsearchJVMHeapUseHigh-21",
          "ElasticsearchJVMHeapUseHigh-21",
          "ElasticsearchJVMHeapUseHigh-21",
          "ElasticsearchJVMHeapUseHigh-21",
          "ElasticsearchJVMHeapUseHigh-30",
          "ElasticsearchJVMHeapUseHigh-30",
          "ElasticsearchJVMHeapUseHigh-30",
          "ElasticsearchJVMHeapUseHigh-30",
          "ElasticsearchJVMHeapUseHigh-30",
          "ElasticsearchJVMHeapUseHigh-30",
          "ElasticsearchJVMHeapUseHigh-30",
          "ElasticsearchJVMHeapUseHigh-30",
          "ElasticsearchJVMHeapUseHigh-31",
          "ElasticsearchJVMHeapUseHigh-31",
          "ElasticsearchJVMHeapUseHigh-31",
          "ElasticsearchJVMHeapUseHigh-31",
          "ElasticsearchJVMHeapUseHigh-31",
          "ElasticsearchJVMHeapUseHigh-31",
          "ElasticsearchJVMHeapUseHigh-31",
          "ElasticsearchJVMHeapUseHigh-31",
          "ElasticsearchJVMHeapUseHigh-32",
          "ElasticsearchJVMHeapUseHigh-32",
          "ElasticsearchJVMHeapUseHigh-32",
          "ElasticsearchJVMHeapUseHigh-32",
          "ElasticsearchJVMHeapUseHigh-32",
          "ElasticsearchJVMHeapUseHigh-32",
          "ElasticsearchJVMHeapUseHigh-32",
          "ElasticsearchJVMHeapUseHigh-32",
          "ElasticsearchJVMHeapUseHigh-32",
          "ElasticsearchJVMHeapUseHigh-34",
          "ElasticsearchJVMHeapUseHigh-34",
          "ElasticsearchJVMHeapUseHigh-34",
          "ElasticsearchJVMHeapUseHigh-34",
          "ElasticsearchJVMHeapUseHigh-34",
          "ElasticsearchJVMHeapUseHigh-34",
          "ElasticsearchJVMHeapUseHigh-34",
          "ElasticsearchJVMHeapUseHigh-34",
          "ElasticsearchJVMHeapUseHigh-35",
          "ElasticsearchJVMHeapUseHigh-35",
          "ElasticsearchJVMHeapUseHigh-35",
          "ElasticsearchJVMHeapUseHigh-35",
          "ElasticsearchJVMHeapUseHigh-35",
          "ElasticsearchJVMHeapUseHigh-35",
          "ElasticsearchJVMHeapUseHigh-35",
          "ElasticsearchJVMHeapUseHigh-35",
          "ElasticsearchJVMHeapUseHigh-37",
          "ElasticsearchJVMHeapUseHigh-37",
          "ElasticsearchJVMHeapUseHigh-37",
          "ElasticsearchJVMHeapUseHigh-37",
          "ElasticsearchJVMHeapUseHigh-37",
          "ElasticsearchJVMHeapUseHigh-37",
          "ElasticsearchJVMHeapUseHigh-37",
          "ElasticsearchJVMHeapUseHigh-37",
          "ElasticsearchJVMHeapUseHigh-37",
          "ElasticsearchJVMHeapUseHigh-41",
          "ElasticsearchJVMHeapUseHigh-41",
          "ElasticsearchJVMHeapUseHigh-41",
          "ElasticsearchJVMHeapUseHigh-41",
          "ElasticsearchJVMHeapUseHigh-41",
          "ElasticsearchJVMHeapUseHigh-41",
          "ElasticsearchJVMHeapUseHigh-41",
          "ElasticsearchJVMHeapUseHigh-41",
          "ElasticsearchJVMHeapUseHigh-41",
          "ElasticsearchJVMHeapUseHigh-41",
          "ElasticsearchJVMHeapUseHigh-43",
          "ElasticsearchJVMHeapUseHigh-43",
          "ElasticsearchJVMHeapUseHigh-43",
          "ElasticsearchJVMHeapUseHigh-43",
          "ElasticsearchJVMHeapUseHigh-43",
          "ElasticsearchJVMHeapUseHigh-43",
          "ElasticsearchJVMHeapUseHigh-43",
          "ElasticsearchJVMHeapUseHigh-43",
          "ElasticsearchJVMHeapUseHigh-43",
          "ElasticsearchJVMHeapUseHigh-55",
          "ElasticsearchJVMHeapUseHigh-55",
          "ElasticsearchJVMHeapUseHigh-55",
          "ElasticsearchJVMHeapUseHigh-55",
          "ElasticsearchJVMHeapUseHigh-55",
          "ElasticsearchJVMHeapUseHigh-55",
          "ElasticsearchJVMHeapUseHigh-55",
          "ElasticsearchJVMHeapUseHigh-57",
          "ElasticsearchJVMHeapUseHigh-57",
          "ElasticsearchJVMHeapUseHigh-57",
          "ElasticsearchJVMHeapUseHigh-57",
          "ElasticsearchJVMHeapUseHigh-57",
          "ElasticsearchJVMHeapUseHigh-57",
          "ElasticsearchJVMHeapUseHigh-58",
          "ElasticsearchJVMHeapUseHigh-58",
          "ElasticsearchJVMHeapUseHigh-58",
          "ElasticsearchJVMHeapUseHigh-58",
          "ElasticsearchJVMHeapUseHigh-58",
          "ElasticsearchJVMHeapUseHigh-58",
          "ElasticsearchJVMHeapUseHigh-58",
          "ElasticsearchJVMHeapUseHigh-61",
          "ElasticsearchJVMHeapUseHigh-61",
          "ElasticsearchJVMHeapUseHigh-61",
          "ElasticsearchJVMHeapUseHigh-61",
          "ElasticsearchJVMHeapUseHigh-63",
          "ElasticsearchJVMHeapUseHigh-63",
          "ElasticsearchJVMHeapUseHigh-63",
          "ElasticsearchJVMHeapUseHigh-63",
          "ElasticsearchJVMHeapUseHigh-63",
          "ElasticsearchJVMHeapUseHigh-63",
          "ElasticsearchJVMHeapUseHigh-63",
          "ElasticsearchJVMHeapUseHigh-63",
          "ElasticsearchJVMHeapUseHigh-63",
          "ElasticsearchJVMHeapUseHigh-65",
          "ElasticsearchJVMHeapUseHigh-65",
          "ElasticsearchJVMHeapUseHigh-65",
          "ElasticsearchJVMHeapUseHigh-65",
          "ElasticsearchJVMHeapUseHigh-65",
          "ElasticsearchJVMHeapUseHigh-65",
          "ElasticsearchJVMHeapUseHigh-65",
          "ElasticsearchJVMHeapUseHigh-67",
          "ElasticsearchJVMHeapUseHigh-67",
          "ElasticsearchJVMHeapUseHigh-67",
          "ElasticsearchJVMHeapUseHigh-67",
          "ElasticsearchJVMHeapUseHigh-67",
          "ElasticsearchJVMHeapUseHigh-67",
          "ElasticsearchJVMHeapUseHigh-67",
          "ElasticsearchJVMHeapUseHigh-70",
          "ElasticsearchJVMHeapUseHigh-70",
          "ElasticsearchJVMHeapUseHigh-70",
          "ElasticsearchJVMHeapUseHigh-70",
          "ElasticsearchJVMHeapUseHigh-70",
          "ElasticsearchJVMHeapUseHigh-70",
          "ElasticsearchJVMHeapUseHigh-70",
          "ElasticsearchJVMHeapUseHigh-70",
          "ElasticsearchJVMHeapUseHigh-71",
          "ElasticsearchJVMHeapUseHigh-71",
          "ElasticsearchJVMHeapUseHigh-71",
          "ElasticsearchJVMHeapUseHigh-71",
          "ElasticsearchJVMHeapUseHigh-79",
          "ElasticsearchJVMHeapUseHigh-79",
          "ElasticsearchJVMHeapUseHigh-79",
          "ElasticsearchJVMHeapUseHigh-79",
          "ElasticsearchJVMHeapUseHigh-79",
          "ElasticsearchJVMHeapUseHigh-79",
          "ElasticsearchJVMHeapUseHigh-79",
          "ElasticsearchJVMHeapUseHigh-79",
          "ElasticsearchJVMHeapUseHigh-81",
          "ElasticsearchJVMHeapUseHigh-81",
          "ElasticsearchJVMHeapUseHigh-81",
          "ElasticsearchJVMHeapUseHigh-81",
          "ElasticsearchJVMHeapUseHigh-81",
          "ElasticsearchJVMHeapUseHigh-81",
          "ElasticsearchJVMHeapUseHigh-82",
          "ElasticsearchJVMHeapUseHigh-82",
          "ElasticsearchJVMHeapUseHigh-82",
          "ElasticsearchJVMHeapUseHigh-82",
          "ElasticsearchJVMHeapUseHigh-82",
          "ElasticsearchJVMHeapUseHigh-82",
          "ElasticsearchJVMHeapUseHigh-84",
          "ElasticsearchJVMHeapUseHigh-84",
          "ElasticsearchJVMHeapUseHigh-84",
          "ElasticsearchJVMHeapUseHigh-84",
          "ElasticsearchJVMHeapUseHigh-84",
          "ElasticsearchJVMHeapUseHigh-84",
          "ElasticsearchJVMHeapUseHigh-84",
          "ElasticsearchJVMHeapUseHigh-88",
          "ElasticsearchJVMHeapUseHigh-88",
          "ElasticsearchJVMHeapUseHigh-88",
          "ElasticsearchJVMHeapUseHigh-88",
          "ElasticsearchJVMHeapUseHigh-88",
          "ElasticsearchJVMHeapUseHigh-88",
          "ElasticsearchJVMHeapUseHigh-88",
          "ElasticsearchJVMHeapUseHigh-88",
          "ElasticsearchJVMHeapUseHigh-93",
          "ElasticsearchJVMHeapUseHigh-93",
          "ElasticsearchJVMHeapUseHigh-93",
          "ElasticsearchJVMHeapUseHigh-93",
          "ElasticsearchJVMHeapUseHigh-95",
          "ElasticsearchJVMHeapUseHigh-95",
          "ElasticsearchJVMHeapUseHigh-95",
          "ElasticsearchJVMHeapUseHigh-95",
          "ElasticsearchJVMHeapUseHigh-95",
          "ElasticsearchJVMHeapUseHigh-95",
          "ElasticsearchJVMHeapUseHigh-95",
          "ElasticsearchJVMHeapUseHigh-95",
          "ElasticsearchJVMHeapUseHigh-95"
         ],
         "yaxis": "y"
        },
        {
         "alignmentgroup": "True",
         "base": [
          "2024-03-21T03:53:00+00:00",
          "2024-03-21T15:01:00+00:00",
          "2024-03-22T06:05:00+00:00",
          "2024-03-20T14:18:00+00:00",
          "2024-03-19T23:42:00+00:00",
          "2024-03-22T03:37:00+00:00",
          "2024-03-19T19:58:00+00:00",
          "2024-03-20T19:16:00+00:00",
          "2024-03-22T19:25:00+00:00",
          "2024-03-22T07:43:00+00:00",
          "2024-03-22T23:53:00+00:00",
          "2024-03-20T23:02:00+00:00",
          "2024-03-21T20:26:00+00:00",
          "2024-03-21T17:21:00+00:00",
          "2024-03-21T22:50:00+00:00",
          "2024-03-19T20:06:00+00:00",
          "2024-03-21T22:56:00+00:00",
          "2024-03-21T05:10:00+00:00",
          "2024-03-19T14:03:00+00:00",
          "2024-03-21T02:53:00+00:00",
          "2024-03-22T21:13:00+00:00",
          "2024-03-22T10:12:00+00:00",
          "2024-03-20T05:10:00+00:00",
          "2024-03-20T19:01:00+00:00",
          "2024-03-19T14:29:00+00:00",
          "2024-03-22T06:31:00+00:00",
          "2024-03-21T00:46:00+00:00",
          "2024-03-20T20:20:00+00:00",
          "2024-03-21T19:06:00+00:00",
          "2024-03-22T11:49:00+00:00",
          "2024-03-22T09:47:00+00:00",
          "2024-03-21T10:03:00+00:00",
          "2024-03-19T19:42:00+00:00",
          "2024-03-21T20:37:00+00:00",
          "2024-03-19T14:04:00+00:00",
          "2024-03-21T00:05:00+00:00",
          "2024-03-21T13:24:00+00:00",
          "2024-03-19T21:07:00+00:00",
          "2024-03-20T08:51:00+00:00",
          "2024-03-19T14:02:00+00:00",
          "2024-03-22T13:26:00+00:00",
          "2024-03-22T01:15:00+00:00",
          "2024-03-22T07:30:00+00:00",
          "2024-03-20T04:56:00+00:00",
          "2024-03-22T22:39:00+00:00",
          "2024-03-21T19:59:00+00:00",
          "2024-03-19T22:09:00+00:00",
          "2024-03-20T09:07:00+00:00",
          "2024-03-22T09:45:00+00:00",
          "2024-03-20T00:04:00+00:00",
          "2024-03-19T10:26:00+00:00",
          "2024-03-20T07:08:00+00:00",
          "2024-03-21T00:56:00+00:00",
          "2024-03-19T18:09:00+00:00",
          "2024-03-22T19:04:00+00:00",
          "2024-03-22T13:02:00+00:00",
          "2024-03-21T01:27:00+00:00",
          "2024-03-21T09:43:00+00:00",
          "2024-03-20T10:08:00+00:00",
          "2024-03-22T00:46:00+00:00",
          "2024-03-21T08:11:00+00:00",
          "2024-03-22T01:23:00+00:00",
          "2024-03-21T15:43:00+00:00",
          "2024-03-20T05:14:00+00:00",
          "2024-03-20T03:18:00+00:00",
          "2024-03-20T22:26:00+00:00",
          "2024-03-22T08:10:00+00:00",
          "2024-03-19T18:31:00+00:00",
          "2024-03-19T19:42:00+00:00",
          "2024-03-21T08:11:00+00:00",
          "2024-03-22T14:02:00+00:00",
          "2024-03-20T04:32:00+00:00",
          "2024-03-22T20:00:00+00:00",
          "2024-03-20T10:02:00+00:00",
          "2024-03-19T14:59:00+00:00",
          "2024-03-21T21:10:00+00:00",
          "2024-03-21T10:41:00+00:00",
          "2024-03-21T01:51:00+00:00",
          "2024-03-20T04:24:00+00:00",
          "2024-03-20T05:01:00+00:00",
          "2024-03-22T09:43:00+00:00",
          "2024-03-21T10:03:00+00:00",
          "2024-03-19T19:46:00+00:00",
          "2024-03-21T20:40:00+00:00",
          "2024-03-19T14:05:00+00:00",
          "2024-03-21T00:11:00+00:00",
          "2024-03-21T13:23:00+00:00",
          "2024-03-19T21:07:00+00:00",
          "2024-03-20T08:55:00+00:00",
          "2024-03-19T13:54:00+00:00",
          "2024-03-22T13:24:00+00:00",
          "2024-03-22T01:20:00+00:00",
          "2024-03-22T07:25:00+00:00",
          "2024-03-20T05:03:00+00:00",
          "2024-03-22T22:34:00+00:00",
          "2024-03-21T19:54:00+00:00",
          "2024-03-19T22:13:00+00:00",
          "2024-03-20T09:13:00+00:00",
          "2024-03-22T09:43:00+00:00",
          "2024-03-20T00:06:00+00:00",
          "2024-03-19T10:26:00+00:00",
          "2024-03-20T07:02:00+00:00",
          "2024-03-21T00:54:00+00:00",
          "2024-03-19T18:09:00+00:00",
          "2024-03-22T18:58:00+00:00",
          "2024-03-22T13:02:00+00:00",
          "2024-03-21T01:21:00+00:00",
          "2024-03-21T09:47:00+00:00",
          "2024-03-20T10:04:00+00:00",
          "2024-03-22T00:44:00+00:00",
          "2024-03-21T08:13:00+00:00",
          "2024-03-22T01:25:00+00:00",
          "2024-03-21T15:36:00+00:00",
          "2024-03-20T05:16:00+00:00",
          "2024-03-20T03:12:00+00:00",
          "2024-03-20T22:32:00+00:00",
          "2024-03-22T08:16:00+00:00",
          "2024-03-19T18:38:00+00:00",
          "2024-03-19T19:44:00+00:00",
          "2024-03-21T08:08:00+00:00",
          "2024-03-22T14:08:00+00:00",
          "2024-03-20T04:26:00+00:00",
          "2024-03-22T20:02:00+00:00",
          "2024-03-20T10:03:00+00:00",
          "2024-03-19T14:59:00+00:00",
          "2024-03-21T21:14:00+00:00",
          "2024-03-21T10:40:00+00:00",
          "2024-03-21T01:54:00+00:00",
          "2024-03-20T04:25:00+00:00",
          "2024-03-20T05:00:00+00:00",
          "2024-03-22T06:01:00+00:00",
          "2024-03-22T01:23:00+00:00",
          "2024-03-19T14:08:00+00:00",
          "2024-03-19T19:56:00+00:00",
          "2024-03-20T10:00:00+00:00",
          "2024-03-21T19:03:00+00:00",
          "2024-03-20T05:08:00+00:00",
          "2024-03-21T10:01:00+00:00",
          "2024-03-20T08:52:00+00:00",
          "2024-03-21T02:49:00+00:00",
          "2024-03-20T04:57:00+00:00",
          "2024-03-21T22:56:00+00:00",
          "2024-03-21T08:14:00+00:00",
          "2024-03-20T19:07:00+00:00",
          "2024-03-19T23:40:00+00:00",
          "2024-03-21T00:12:00+00:00",
          "2024-03-22T07:31:00+00:00",
          "2024-03-20T09:06:00+00:00",
          "2024-03-21T09:47:00+00:00",
          "2024-03-21T14:55:00+00:00",
          "2024-03-19T14:08:00+00:00",
          "2024-03-21T00:54:00+00:00",
          "2024-03-22T13:28:00+00:00",
          "2024-03-19T20:04:00+00:00",
          "2024-03-21T21:10:00+00:00",
          "2024-03-21T01:51:00+00:00",
          "2024-03-20T04:25:00+00:00",
          "2024-03-19T21:07:00+00:00",
          "2024-03-20T14:19:00+00:00",
          "2024-03-22T09:46:00+00:00",
          "2024-03-22T21:09:00+00:00",
          "2024-03-22T06:30:00+00:00",
          "2024-03-22T07:50:00+00:00",
          "2024-03-21T17:22:00+00:00",
          "2024-03-22T00:41:00+00:00",
          "2024-03-22T01:19:00+00:00",
          "2024-03-19T14:32:00+00:00",
          "2024-03-21T10:38:00+00:00",
          "2024-03-22T11:44:00+00:00",
          "2024-03-19T19:43:00+00:00",
          "2024-03-20T00:06:00+00:00",
          "2024-03-20T03:17:00+00:00",
          "2024-03-21T13:17:00+00:00",
          "2024-03-20T23:05:00+00:00",
          "2024-03-21T08:10:00+00:00",
          "2024-03-20T04:33:00+00:00",
          "2024-03-19T13:55:00+00:00",
          "2024-03-21T22:49:00+00:00",
          "2024-03-22T13:06:00+00:00",
          "2024-03-22T13:59:00+00:00",
          "2024-03-21T03:52:00+00:00",
          "2024-03-20T05:17:00+00:00",
          "2024-03-22T23:56:00+00:00",
          "2024-03-21T05:08:00+00:00",
          "2024-03-20T10:03:00+00:00",
          "2024-03-19T15:04:00+00:00",
          "2024-03-21T20:43:00+00:00",
          "2024-03-22T03:43:00+00:00",
          "2024-03-21T20:24:00+00:00",
          "2024-03-22T19:01:00+00:00",
          "2024-03-21T00:44:00+00:00",
          "2024-03-22T22:40:00+00:00",
          "2024-03-21T19:56:00+00:00",
          "2024-03-22T19:30:00+00:00",
          "2024-03-20T07:09:00+00:00",
          "2024-03-22T10:13:00+00:00",
          "2024-03-19T18:37:00+00:00",
          "2024-03-20T19:14:00+00:00",
          "2024-03-21T15:41:00+00:00",
          "2024-03-22T09:40:00+00:00",
          "2024-03-20T05:11:00+00:00",
          "2024-03-19T19:44:00+00:00",
          "2024-03-19T22:11:00+00:00",
          "2024-03-20T22:24:00+00:00",
          "2024-03-22T20:06:00+00:00",
          "2024-03-20T20:27:00+00:00",
          "2024-03-19T10:32:00+00:00",
          "2024-03-19T18:06:00+00:00",
          "2024-03-21T01:21:00+00:00",
          "2024-03-22T08:12:00+00:00"
         ],
         "hovertemplate": "severity=warning<br>start=%{base}<br>end=%{x}<br>alert_id=%{y}<extra></extra>",
         "legendgroup": "warning",
         "marker": {
          "color": "orange",
          "pattern": {
           "shape": ""
          }
         },
         "name": "warning",
         "offsetgroup": "warning",
         "orientation": "h",
         "showlegend": true,
         "textposition": "auto",
         "type": "bar",
         "width": 0.8,
         "x": [
          1680000,
          1620000,
          1740000,
          1980000,
          1380000,
          2160000,
          1800000,
          2100000,
          2100000,
          2220000,
          480000,
          1680000,
          1800000,
          2160000,
          2160000,
          1440000,
          1560000,
          1440000,
          1980000,
          1440000,
          1560000,
          1620000,
          1860000,
          1680000,
          1740000,
          1800000,
          1560000,
          2040000,
          1560000,
          1860000,
          1320000,
          1860000,
          1980000,
          1980000,
          1680000,
          1740000,
          1860000,
          1680000,
          1800000,
          1500000,
          1560000,
          2340000,
          1740000,
          1740000,
          1980000,
          1740000,
          2100000,
          2040000,
          1980000,
          2280000,
          2100000,
          1620000,
          1500000,
          1800000,
          1260000,
          1860000,
          1920000,
          2220000,
          1680000,
          1380000,
          1980000,
          1680000,
          1560000,
          1800000,
          1320000,
          1860000,
          2100000,
          1920000,
          2100000,
          2100000,
          1740000,
          1440000,
          2160000,
          2220000,
          2280000,
          1560000,
          1680000,
          1500000,
          1920000,
          1740000,
          2100000,
          1500000,
          1740000,
          1860000,
          1620000,
          1740000,
          1980000,
          1500000,
          1440000,
          2280000,
          2220000,
          1500000,
          1800000,
          1740000,
          2160000,
          1740000,
          1800000,
          1560000,
          1740000,
          1860000,
          1920000,
          1860000,
          1680000,
          1860000,
          2160000,
          2100000,
          1740000,
          1800000,
          1860000,
          1980000,
          1560000,
          1620000,
          1980000,
          1740000,
          2160000,
          1740000,
          1440000,
          1320000,
          2160000,
          2220000,
          1380000,
          1920000,
          2040000,
          2100000,
          1860000,
          1740000,
          1740000,
          1500000,
          1980000,
          1980000,
          1800000,
          1440000,
          1260000,
          1920000,
          1860000,
          1740000,
          1500000,
          1920000,
          1680000,
          1920000,
          2040000,
          1620000,
          1860000,
          1800000,
          1680000,
          1560000,
          1380000,
          1920000,
          1920000,
          1620000,
          1680000,
          2160000,
          1740000,
          1740000,
          1560000,
          1860000,
          2100000,
          1980000,
          1920000,
          1800000,
          1860000,
          1740000,
          1680000,
          1920000,
          1860000,
          2220000,
          1920000,
          1920000,
          2160000,
          2160000,
          1740000,
          1380000,
          1860000,
          1800000,
          1680000,
          1620000,
          2040000,
          1980000,
          1860000,
          1920000,
          2040000,
          1740000,
          300000,
          1560000,
          2040000,
          1500000,
          1380000,
          1500000,
          1560000,
          1980000,
          1440000,
          1740000,
          1800000,
          1740000,
          1380000,
          1440000,
          1800000,
          2100000,
          1680000,
          1860000,
          1560000,
          2040000,
          1740000,
          2340000,
          1860000,
          1620000,
          1320000,
          1980000,
          2220000,
          2040000
         ],
         "xaxis": "x",
         "y": [
          "ElasticsearchClusterNotHealthy-10",
          "ElasticsearchClusterNotHealthy-11",
          "ElasticsearchClusterNotHealthy-18",
          "ElasticsearchClusterNotHealthy-20",
          "ElasticsearchClusterNotHealthy-21",
          "ElasticsearchClusterNotHealthy-30",
          "ElasticsearchClusterNotHealthy-31",
          "ElasticsearchClusterNotHealthy-32",
          "ElasticsearchClusterNotHealthy-34",
          "ElasticsearchClusterNotHealthy-35",
          "ElasticsearchClusterNotHealthy-36",
          "ElasticsearchClusterNotHealthy-37",
          "ElasticsearchClusterNotHealthy-41",
          "ElasticsearchClusterNotHealthy-43",
          "ElasticsearchClusterNotHealthy-55",
          "ElasticsearchClusterNotHealthy-57",
          "ElasticsearchClusterNotHealthy-58",
          "ElasticsearchClusterNotHealthy-61",
          "ElasticsearchClusterNotHealthy-63",
          "ElasticsearchClusterNotHealthy-65",
          "ElasticsearchClusterNotHealthy-67",
          "ElasticsearchClusterNotHealthy-70",
          "ElasticsearchClusterNotHealthy-71",
          "ElasticsearchClusterNotHealthy-79",
          "ElasticsearchClusterNotHealthy-81",
          "ElasticsearchClusterNotHealthy-82",
          "ElasticsearchClusterNotHealthy-84",
          "ElasticsearchClusterNotHealthy-88",
          "ElasticsearchClusterNotHealthy-93",
          "ElasticsearchClusterNotHealthy-95",
          "KubeDeploymentReplicasMismatch-1",
          "KubeDeploymentReplicasMismatch-100",
          "KubeDeploymentReplicasMismatch-12",
          "KubeDeploymentReplicasMismatch-14",
          "KubeDeploymentReplicasMismatch-15",
          "KubeDeploymentReplicasMismatch-17",
          "KubeDeploymentReplicasMismatch-18",
          "KubeDeploymentReplicasMismatch-20",
          "KubeDeploymentReplicasMismatch-21",
          "KubeDeploymentReplicasMismatch-23",
          "KubeDeploymentReplicasMismatch-25",
          "KubeDeploymentReplicasMismatch-26",
          "KubeDeploymentReplicasMismatch-28",
          "KubeDeploymentReplicasMismatch-29",
          "KubeDeploymentReplicasMismatch-3",
          "KubeDeploymentReplicasMismatch-30",
          "KubeDeploymentReplicasMismatch-32",
          "KubeDeploymentReplicasMismatch-36",
          "KubeDeploymentReplicasMismatch-39",
          "KubeDeploymentReplicasMismatch-4",
          "KubeDeploymentReplicasMismatch-44",
          "KubeDeploymentReplicasMismatch-47",
          "KubeDeploymentReplicasMismatch-5",
          "KubeDeploymentReplicasMismatch-52",
          "KubeDeploymentReplicasMismatch-54",
          "KubeDeploymentReplicasMismatch-55",
          "KubeDeploymentReplicasMismatch-58",
          "KubeDeploymentReplicasMismatch-59",
          "KubeDeploymentReplicasMismatch-6",
          "KubeDeploymentReplicasMismatch-63",
          "KubeDeploymentReplicasMismatch-65",
          "KubeDeploymentReplicasMismatch-68",
          "KubeDeploymentReplicasMismatch-69",
          "KubeDeploymentReplicasMismatch-7",
          "KubeDeploymentReplicasMismatch-70",
          "KubeDeploymentReplicasMismatch-72",
          "KubeDeploymentReplicasMismatch-76",
          "KubeDeploymentReplicasMismatch-78",
          "KubeDeploymentReplicasMismatch-80",
          "KubeDeploymentReplicasMismatch-82",
          "KubeDeploymentReplicasMismatch-83",
          "KubeDeploymentReplicasMismatch-85",
          "KubeDeploymentReplicasMismatch-87",
          "KubeDeploymentReplicasMismatch-89",
          "KubeDeploymentReplicasMismatch-90",
          "KubeDeploymentReplicasMismatch-91",
          "KubeDeploymentReplicasMismatch-94",
          "KubeDeploymentReplicasMismatch-95",
          "KubeDeploymentReplicasMismatch-96",
          "KubeDeploymentReplicasMismatch-98",
          "TargetDown-1",
          "TargetDown-100",
          "TargetDown-12",
          "TargetDown-14",
          "TargetDown-15",
          "TargetDown-17",
          "TargetDown-18",
          "TargetDown-20",
          "TargetDown-21",
          "TargetDown-23",
          "TargetDown-25",
          "TargetDown-26",
          "TargetDown-28",
          "TargetDown-29",
          "TargetDown-3",
          "TargetDown-30",
          "TargetDown-32",
          "TargetDown-36",
          "TargetDown-39",
          "TargetDown-4",
          "TargetDown-44",
          "TargetDown-47",
          "TargetDown-5",
          "TargetDown-52",
          "TargetDown-54",
          "TargetDown-55",
          "TargetDown-58",
          "TargetDown-59",
          "TargetDown-6",
          "TargetDown-63",
          "TargetDown-65",
          "TargetDown-68",
          "TargetDown-69",
          "TargetDown-7",
          "TargetDown-70",
          "TargetDown-72",
          "TargetDown-76",
          "TargetDown-78",
          "TargetDown-80",
          "TargetDown-82",
          "TargetDown-83",
          "TargetDown-85",
          "TargetDown-87",
          "TargetDown-89",
          "TargetDown-90",
          "TargetDown-91",
          "TargetDown-94",
          "TargetDown-95",
          "TargetDown-96",
          "TargetDown-98",
          "noise_b-18",
          "noise_b-26",
          "noise_b-63",
          "noise_c-31",
          "noise_c-6",
          "noise_c-93",
          "noise_c-98",
          "noise_d-100",
          "noise_d-21",
          "noise_d-65",
          "noise_e-29",
          "noise_e-58",
          "noise_e-65",
          "noise_e-79",
          "noise_f-21",
          "noise_g-17",
          "noise_g-28",
          "noise_g-36",
          "noise_g-59",
          "noise_h-11",
          "noise_h-15",
          "noise_h-5",
          "noise_i-25",
          "noise_i-57",
          "noise_i-91",
          "noise_i-95",
          "noise_i-96",
          "noise_j-20",
          "noise_j-20",
          "noise_j-39",
          "noise_j-67",
          "noise_j-82",
          "noise_k-35",
          "noise_k-43",
          "noise_k-63",
          "noise_k-68",
          "noise_k-81",
          "noise_k-94",
          "noise_k-95",
          "noise_l-12",
          "noise_l-4",
          "noise_l-70",
          "noise_m-18",
          "noise_m-37",
          "noise_m-82",
          "noise_m-85",
          "noise_n-23",
          "noise_n-55",
          "noise_n-55",
          "noise_n-83",
          "noise_o-10",
          "noise_o-7",
          "noise_p-36",
          "noise_p-61",
          "noise_p-89",
          "noise_q-90",
          "noise_r-14",
          "noise_s-30",
          "noise_s-41",
          "noise_s-54",
          "noise_s-84",
          "noise_t-3",
          "noise_u-30",
          "noise_u-34",
          "noise_u-47",
          "noise_u-70",
          "noise_u-78",
          "noise_v-32",
          "noise_v-69",
          "noise_w-1",
          "noise_w-71",
          "noise_w-80",
          "noise_x-32",
          "noise_x-72",
          "noise_x-87",
          "noise_x-88",
          "noise_y-44",
          "noise_y-52",
          "noise_y-58",
          "noise_y-76"
         ],
         "yaxis": "y"
        }
       ],
       "layout": {
        "bargap": 0.1,
        "barmode": "overlay",
        "height": 600,
        "legend": {
         "title": {
          "text": "severity"
         },
         "tracegroupgap": 0
        },
        "showlegend": false,
        "template": {
         "data": {
          "bar": [
           {
            "error_x": {
             "color": "#2a3f5f"
            },
            "error_y": {
             "color": "#2a3f5f"
            },
            "marker": {
             "line": {
              "color": "#E5ECF6",
              "width": 0.5
             },
             "pattern": {
              "fillmode": "overlay",
              "size": 10,
              "solidity": 0.2
             }
            },
            "type": "bar"
           }
          ],
          "barpolar": [
           {
            "marker": {
             "line": {
              "color": "#E5ECF6",
              "width": 0.5
             },
             "pattern": {
              "fillmode": "overlay",
              "size": 10,
              "solidity": 0.2
             }
            },
            "type": "barpolar"
           }
          ],
          "carpet": [
           {
            "aaxis": {
             "endlinecolor": "#2a3f5f",
             "gridcolor": "white",
             "linecolor": "white",
             "minorgridcolor": "white",
             "startlinecolor": "#2a3f5f"
            },
            "baxis": {
             "endlinecolor": "#2a3f5f",
             "gridcolor": "white",
             "linecolor": "white",
             "minorgridcolor": "white",
             "startlinecolor": "#2a3f5f"
            },
            "type": "carpet"
           }
          ],
          "choropleth": [
           {
            "colorbar": {
             "outlinewidth": 0,
             "ticks": ""
            },
            "type": "choropleth"
           }
          ],
          "contour": [
           {
            "colorbar": {
             "outlinewidth": 0,
             "ticks": ""
            },
            "colorscale": [
             [
              0,
              "#0d0887"
             ],
             [
              0.1111111111111111,
              "#46039f"
             ],
             [
              0.2222222222222222,
              "#7201a8"
             ],
             [
              0.3333333333333333,
              "#9c179e"
             ],
             [
              0.4444444444444444,
              "#bd3786"
             ],
             [
              0.5555555555555556,
              "#d8576b"
             ],
             [
              0.6666666666666666,
              "#ed7953"
             ],
             [
              0.7777777777777778,
              "#fb9f3a"
             ],
             [
              0.8888888888888888,
              "#fdca26"
             ],
             [
              1,
              "#f0f921"
             ]
            ],
            "type": "contour"
           }
          ],
          "contourcarpet": [
           {
            "colorbar": {
             "outlinewidth": 0,
             "ticks": ""
            },
            "type": "contourcarpet"
           }
          ],
          "heatmap": [
           {
            "colorbar": {
             "outlinewidth": 0,
             "ticks": ""
            },
            "colorscale": [
             [
              0,
              "#0d0887"
             ],
             [
              0.1111111111111111,
              "#46039f"
             ],
             [
              0.2222222222222222,
              "#7201a8"
             ],
             [
              0.3333333333333333,
              "#9c179e"
             ],
             [
              0.4444444444444444,
              "#bd3786"
             ],
             [
              0.5555555555555556,
              "#d8576b"
             ],
             [
              0.6666666666666666,
              "#ed7953"
             ],
             [
              0.7777777777777778,
              "#fb9f3a"
             ],
             [
              0.8888888888888888,
              "#fdca26"
             ],
             [
              1,
              "#f0f921"
             ]
            ],
            "type": "heatmap"
           }
          ],
          "heatmapgl": [
           {
            "colorbar": {
             "outlinewidth": 0,
             "ticks": ""
            },
            "colorscale": [
             [
              0,
              "#0d0887"
             ],
             [
              0.1111111111111111,
              "#46039f"
             ],
             [
              0.2222222222222222,
              "#7201a8"
             ],
             [
              0.3333333333333333,
              "#9c179e"
             ],
             [
              0.4444444444444444,
              "#bd3786"
             ],
             [
              0.5555555555555556,
              "#d8576b"
             ],
             [
              0.6666666666666666,
              "#ed7953"
             ],
             [
              0.7777777777777778,
              "#fb9f3a"
             ],
             [
              0.8888888888888888,
              "#fdca26"
             ],
             [
              1,
              "#f0f921"
             ]
            ],
            "type": "heatmapgl"
           }
          ],
          "histogram": [
           {
            "marker": {
             "pattern": {
              "fillmode": "overlay",
              "size": 10,
              "solidity": 0.2
             }
            },
            "type": "histogram"
           }
          ],
          "histogram2d": [
           {
            "colorbar": {
             "outlinewidth": 0,
             "ticks": ""
            },
            "colorscale": [
             [
              0,
              "#0d0887"
             ],
             [
              0.1111111111111111,
              "#46039f"
             ],
             [
              0.2222222222222222,
              "#7201a8"
             ],
             [
              0.3333333333333333,
              "#9c179e"
             ],
             [
              0.4444444444444444,
              "#bd3786"
             ],
             [
              0.5555555555555556,
              "#d8576b"
             ],
             [
              0.6666666666666666,
              "#ed7953"
             ],
             [
              0.7777777777777778,
              "#fb9f3a"
             ],
             [
              0.8888888888888888,
              "#fdca26"
             ],
             [
              1,
              "#f0f921"
             ]
            ],
            "type": "histogram2d"
           }
          ],
          "histogram2dcontour": [
           {
            "colorbar": {
             "outlinewidth": 0,
             "ticks": ""
            },
            "colorscale": [
             [
              0,
              "#0d0887"
             ],
             [
              0.1111111111111111,
              "#46039f"
             ],
             [
              0.2222222222222222,
              "#7201a8"
             ],
             [
              0.3333333333333333,
              "#9c179e"
             ],
             [
              0.4444444444444444,
              "#bd3786"
             ],
             [
              0.5555555555555556,
              "#d8576b"
             ],
             [
              0.6666666666666666,
              "#ed7953"
             ],
             [
              0.7777777777777778,
              "#fb9f3a"
             ],
             [
              0.8888888888888888,
              "#fdca26"
             ],
             [
              1,
              "#f0f921"
             ]
            ],
            "type": "histogram2dcontour"
           }
          ],
          "mesh3d": [
           {
            "colorbar": {
             "outlinewidth": 0,
             "ticks": ""
            },
            "type": "mesh3d"
           }
          ],
          "parcoords": [
           {
            "line": {
             "colorbar": {
              "outlinewidth": 0,
              "ticks": ""
             }
            },
            "type": "parcoords"
           }
          ],
          "pie": [
           {
            "automargin": true,
            "type": "pie"
           }
          ],
          "scatter": [
           {
            "fillpattern": {
             "fillmode": "overlay",
             "size": 10,
             "solidity": 0.2
            },
            "type": "scatter"
           }
          ],
          "scatter3d": [
           {
            "line": {
             "colorbar": {
              "outlinewidth": 0,
              "ticks": ""
             }
            },
            "marker": {
             "colorbar": {
              "outlinewidth": 0,
              "ticks": ""
             }
            },
            "type": "scatter3d"
           }
          ],
          "scattercarpet": [
           {
            "marker": {
             "colorbar": {
              "outlinewidth": 0,
              "ticks": ""
             }
            },
            "type": "scattercarpet"
           }
          ],
          "scattergeo": [
           {
            "marker": {
             "colorbar": {
              "outlinewidth": 0,
              "ticks": ""
             }
            },
            "type": "scattergeo"
           }
          ],
          "scattergl": [
           {
            "marker": {
             "colorbar": {
              "outlinewidth": 0,
              "ticks": ""
             }
            },
            "type": "scattergl"
           }
          ],
          "scattermapbox": [
           {
            "marker": {
             "colorbar": {
              "outlinewidth": 0,
              "ticks": ""
             }
            },
            "type": "scattermapbox"
           }
          ],
          "scatterpolar": [
           {
            "marker": {
             "colorbar": {
              "outlinewidth": 0,
              "ticks": ""
             }
            },
            "type": "scatterpolar"
           }
          ],
          "scatterpolargl": [
           {
            "marker": {
             "colorbar": {
              "outlinewidth": 0,
              "ticks": ""
             }
            },
            "type": "scatterpolargl"
           }
          ],
          "scatterternary": [
           {
            "marker": {
             "colorbar": {
              "outlinewidth": 0,
              "ticks": ""
             }
            },
            "type": "scatterternary"
           }
          ],
          "surface": [
           {
            "colorbar": {
             "outlinewidth": 0,
             "ticks": ""
            },
            "colorscale": [
             [
              0,
              "#0d0887"
             ],
             [
              0.1111111111111111,
              "#46039f"
             ],
             [
              0.2222222222222222,
              "#7201a8"
             ],
             [
              0.3333333333333333,
              "#9c179e"
             ],
             [
              0.4444444444444444,
              "#bd3786"
             ],
             [
              0.5555555555555556,
              "#d8576b"
             ],
             [
              0.6666666666666666,
              "#ed7953"
             ],
             [
              0.7777777777777778,
              "#fb9f3a"
             ],
             [
              0.8888888888888888,
              "#fdca26"
             ],
             [
              1,
              "#f0f921"
             ]
            ],
            "type": "surface"
           }
          ],
          "table": [
           {
            "cells": {
             "fill": {
              "color": "#EBF0F8"
             },
             "line": {
              "color": "white"
             }
            },
            "header": {
             "fill": {
              "color": "#C8D4E3"
             },
             "line": {
              "color": "white"
             }
            },
            "type": "table"
           }
          ]
         },
         "layout": {
          "annotationdefaults": {
           "arrowcolor": "#2a3f5f",
           "arrowhead": 0,
           "arrowwidth": 1
          },
          "autotypenumbers": "strict",
          "coloraxis": {
           "colorbar": {
            "outlinewidth": 0,
            "ticks": ""
           }
          },
          "colorscale": {
           "diverging": [
            [
             0,
             "#8e0152"
            ],
            [
             0.1,
             "#c51b7d"
            ],
            [
             0.2,
             "#de77ae"
            ],
            [
             0.3,
             "#f1b6da"
            ],
            [
             0.4,
             "#fde0ef"
            ],
            [
             0.5,
             "#f7f7f7"
            ],
            [
             0.6,
             "#e6f5d0"
            ],
            [
             0.7,
             "#b8e186"
            ],
            [
             0.8,
             "#7fbc41"
            ],
            [
             0.9,
             "#4d9221"
            ],
            [
             1,
             "#276419"
            ]
           ],
           "sequential": [
            [
             0,
             "#0d0887"
            ],
            [
             0.1111111111111111,
             "#46039f"
            ],
            [
             0.2222222222222222,
             "#7201a8"
            ],
            [
             0.3333333333333333,
             "#9c179e"
            ],
            [
             0.4444444444444444,
             "#bd3786"
            ],
            [
             0.5555555555555556,
             "#d8576b"
            ],
            [
             0.6666666666666666,
             "#ed7953"
            ],
            [
             0.7777777777777778,
             "#fb9f3a"
            ],
            [
             0.8888888888888888,
             "#fdca26"
            ],
            [
             1,
             "#f0f921"
            ]
           ],
           "sequentialminus": [
            [
             0,
             "#0d0887"
            ],
            [
             0.1111111111111111,
             "#46039f"
            ],
            [
             0.2222222222222222,
             "#7201a8"
            ],
            [
             0.3333333333333333,
             "#9c179e"
            ],
            [
             0.4444444444444444,
             "#bd3786"
            ],
            [
             0.5555555555555556,
             "#d8576b"
            ],
            [
             0.6666666666666666,
             "#ed7953"
            ],
            [
             0.7777777777777778,
             "#fb9f3a"
            ],
            [
             0.8888888888888888,
             "#fdca26"
            ],
            [
             1,
             "#f0f921"
            ]
           ]
          },
          "colorway": [
           "#636efa",
           "#EF553B",
           "#00cc96",
           "#ab63fa",
           "#FFA15A",
           "#19d3f3",
           "#FF6692",
           "#B6E880",
           "#FF97FF",
           "#FECB52"
          ],
          "font": {
           "color": "#2a3f5f"
          },
          "geo": {
           "bgcolor": "white",
           "lakecolor": "white",
           "landcolor": "#E5ECF6",
           "showlakes": true,
           "showland": true,
           "subunitcolor": "white"
          },
          "hoverlabel": {
           "align": "left"
          },
          "hovermode": "closest",
          "mapbox": {
           "style": "light"
          },
          "paper_bgcolor": "white",
          "plot_bgcolor": "#E5ECF6",
          "polar": {
           "angularaxis": {
            "gridcolor": "white",
            "linecolor": "white",
            "ticks": ""
           },
           "bgcolor": "#E5ECF6",
           "radialaxis": {
            "gridcolor": "white",
            "linecolor": "white",
            "ticks": ""
           }
          },
          "scene": {
           "xaxis": {
            "backgroundcolor": "#E5ECF6",
            "gridcolor": "white",
            "gridwidth": 2,
            "linecolor": "white",
            "showbackground": true,
            "ticks": "",
            "zerolinecolor": "white"
           },
           "yaxis": {
            "backgroundcolor": "#E5ECF6",
            "gridcolor": "white",
            "gridwidth": 2,
            "linecolor": "white",
            "showbackground": true,
            "ticks": "",
            "zerolinecolor": "white"
           },
           "zaxis": {
            "backgroundcolor": "#E5ECF6",
            "gridcolor": "white",
            "gridwidth": 2,
            "linecolor": "white",
            "showbackground": true,
            "ticks": "",
            "zerolinecolor": "white"
           }
          },
          "shapedefaults": {
           "line": {
            "color": "#2a3f5f"
           }
          },
          "ternary": {
           "aaxis": {
            "gridcolor": "white",
            "linecolor": "white",
            "ticks": ""
           },
           "baxis": {
            "gridcolor": "white",
            "linecolor": "white",
            "ticks": ""
           },
           "bgcolor": "#E5ECF6",
           "caxis": {
            "gridcolor": "white",
            "linecolor": "white",
            "ticks": ""
           }
          },
          "title": {
           "x": 0.05
          },
          "xaxis": {
           "automargin": true,
           "gridcolor": "white",
           "linecolor": "white",
           "ticks": "",
           "title": {
            "standoff": 15
           },
           "zerolinecolor": "white",
           "zerolinewidth": 2
          },
          "yaxis": {
           "automargin": true,
           "gridcolor": "white",
           "linecolor": "white",
           "ticks": "",
           "title": {
            "standoff": 15
           },
           "zerolinecolor": "white",
           "zerolinewidth": 2
          }
         }
        },
        "title": {
         "text": "Timeline"
        },
        "xaxis": {
         "anchor": "y",
         "domain": [
          0,
          1
         ],
         "type": "date"
        },
        "yaxis": {
         "anchor": "x",
         "domain": [
          0,
          1
         ],
         "title": {
          "text": "alert_id"
         }
        }
       }
      },
      "text/html": [
       "<div>                            <div id=\"12e0e25f-cd39-4ee6-8364-d06138f0be64\" class=\"plotly-graph-div\" style=\"height:600px; width:100%;\"></div>            <script type=\"text/javascript\">                require([\"plotly\"], function(Plotly) {                    window.PLOTLYENV=window.PLOTLYENV || {};                                    if (document.getElementById(\"12e0e25f-cd39-4ee6-8364-d06138f0be64\")) {                    Plotly.newPlot(                        \"12e0e25f-cd39-4ee6-8364-d06138f0be64\",                        [{\"alignmentgroup\":\"True\",\"base\":[\"2024-03-22T09:47:00+00:00\",\"2024-03-21T10:04:00+00:00\",\"2024-03-19T19:51:00+00:00\",\"2024-03-21T20:42:00+00:00\",\"2024-03-19T14:07:00+00:00\",\"2024-03-21T00:07:00+00:00\",\"2024-03-21T13:21:00+00:00\",\"2024-03-19T21:05:00+00:00\",\"2024-03-20T08:56:00+00:00\",\"2024-03-19T13:59:00+00:00\",\"2024-03-22T13:23:00+00:00\",\"2024-03-22T01:22:00+00:00\",\"2024-03-22T07:30:00+00:00\",\"2024-03-20T04:56:00+00:00\",\"2024-03-22T22:36:00+00:00\",\"2024-03-21T19:54:00+00:00\",\"2024-03-19T22:11:00+00:00\",\"2024-03-20T09:10:00+00:00\",\"2024-03-22T09:48:00+00:00\",\"2024-03-20T00:05:00+00:00\",\"2024-03-19T10:32:00+00:00\",\"2024-03-20T07:04:00+00:00\",\"2024-03-21T01:00:00+00:00\",\"2024-03-19T18:08:00+00:00\",\"2024-03-22T19:04:00+00:00\",\"2024-03-22T13:05:00+00:00\",\"2024-03-21T01:29:00+00:00\",\"2024-03-21T09:50:00+00:00\",\"2024-03-20T10:08:00+00:00\",\"2024-03-22T00:44:00+00:00\",\"2024-03-21T08:10:00+00:00\",\"2024-03-22T01:20:00+00:00\",\"2024-03-21T15:41:00+00:00\",\"2024-03-20T05:11:00+00:00\",\"2024-03-20T03:19:00+00:00\",\"2024-03-20T22:28:00+00:00\",\"2024-03-22T08:16:00+00:00\",\"2024-03-19T18:32:00+00:00\",\"2024-03-19T19:51:00+00:00\",\"2024-03-21T08:12:00+00:00\",\"2024-03-22T14:01:00+00:00\",\"2024-03-20T04:32:00+00:00\",\"2024-03-22T19:59:00+00:00\",\"2024-03-20T10:09:00+00:00\",\"2024-03-19T14:59:00+00:00\",\"2024-03-21T21:07:00+00:00\",\"2024-03-21T10:40:00+00:00\",\"2024-03-21T01:49:00+00:00\",\"2024-03-20T04:28:00+00:00\",\"2024-03-20T05:05:00+00:00\"],\"hovertemplate\":\"severity=critical\\u003cbr\\u003estart=%{base}\\u003cbr\\u003eend=%{x}\\u003cbr\\u003ealert_id=%{y}\\u003cextra\\u003e\\u003c\\u002fextra\\u003e\",\"legendgroup\":\"critical\",\"marker\":{\"color\":\"red\",\"pattern\":{\"shape\":\"\"}},\"name\":\"critical\",\"offsetgroup\":\"critical\",\"orientation\":\"h\",\"showlegend\":true,\"textposition\":\"auto\",\"x\":[1560000.0,1860000.0,1320000.0,1560000.0,1680000.0,2040000.0,2040000.0,1680000.0,1440000.0,1860000.0,2280000.0,1860000.0,1800000.0,1860000.0,1980000.0,1920000.0,1980000.0,1860000.0,1560000.0,2160000.0,1680000.0,2160000.0,1740000.0,1680000.0,1320000.0,1740000.0,1320000.0,1500000.0,1620000.0,1980000.0,1680000.0,2100000.0,1740000.0,1980000.0,1560000.0,1740000.0,1440000.0,2040000.0,1740000.0,2040000.0,2040000.0,1680000.0,1980000.0,1680000.0,1920000.0,2100000.0,1920000.0,1620000.0,1740000.0,1560000.0],\"xaxis\":\"x\",\"y\":[\"KubeNodeNotReady-1\",\"KubeNodeNotReady-100\",\"KubeNodeNotReady-12\",\"KubeNodeNotReady-14\",\"KubeNodeNotReady-15\",\"KubeNodeNotReady-17\",\"KubeNodeNotReady-18\",\"KubeNodeNotReady-20\",\"KubeNodeNotReady-21\",\"KubeNodeNotReady-23\",\"KubeNodeNotReady-25\",\"KubeNodeNotReady-26\",\"KubeNodeNotReady-28\",\"KubeNodeNotReady-29\",\"KubeNodeNotReady-3\",\"KubeNodeNotReady-30\",\"KubeNodeNotReady-32\",\"KubeNodeNotReady-36\",\"KubeNodeNotReady-39\",\"KubeNodeNotReady-4\",\"KubeNodeNotReady-44\",\"KubeNodeNotReady-47\",\"KubeNodeNotReady-5\",\"KubeNodeNotReady-52\",\"KubeNodeNotReady-54\",\"KubeNodeNotReady-55\",\"KubeNodeNotReady-58\",\"KubeNodeNotReady-59\",\"KubeNodeNotReady-6\",\"KubeNodeNotReady-63\",\"KubeNodeNotReady-65\",\"KubeNodeNotReady-68\",\"KubeNodeNotReady-69\",\"KubeNodeNotReady-7\",\"KubeNodeNotReady-70\",\"KubeNodeNotReady-72\",\"KubeNodeNotReady-76\",\"KubeNodeNotReady-78\",\"KubeNodeNotReady-80\",\"KubeNodeNotReady-82\",\"KubeNodeNotReady-83\",\"KubeNodeNotReady-85\",\"KubeNodeNotReady-87\",\"KubeNodeNotReady-89\",\"KubeNodeNotReady-90\",\"KubeNodeNotReady-91\",\"KubeNodeNotReady-94\",\"KubeNodeNotReady-95\",\"KubeNodeNotReady-96\",\"KubeNodeNotReady-98\"],\"yaxis\":\"y\",\"type\":\"bar\",\"width\":0.8},{\"alignmentgroup\":\"True\",\"base\":[\"2024-03-21T03:50:00+00:00\",\"2024-03-21T03:53:00+00:00\",\"2024-03-21T03:57:00+00:00\",\"2024-03-21T04:00:00+00:00\",\"2024-03-21T04:04:00+00:00\",\"2024-03-21T04:09:00+00:00\",\"2024-03-21T04:13:00+00:00\",\"2024-03-21T04:16:00+00:00\",\"2024-03-21T04:18:00+00:00\",\"2024-03-21T04:20:00+00:00\",\"2024-03-21T04:22:00+00:00\",\"2024-03-21T14:55:00+00:00\",\"2024-03-21T14:59:00+00:00\",\"2024-03-21T15:03:00+00:00\",\"2024-03-21T15:05:00+00:00\",\"2024-03-21T15:07:00+00:00\",\"2024-03-21T15:10:00+00:00\",\"2024-03-21T15:14:00+00:00\",\"2024-03-21T15:17:00+00:00\",\"2024-03-21T15:21:00+00:00\",\"2024-03-22T06:10:00+00:00\",\"2024-03-22T06:14:00+00:00\",\"2024-03-22T06:17:00+00:00\",\"2024-03-22T06:24:00+00:00\",\"2024-03-22T06:29:00+00:00\",\"2024-03-22T06:31:00+00:00\",\"2024-03-22T06:33:00+00:00\",\"2024-03-20T14:23:00+00:00\",\"2024-03-20T14:27:00+00:00\",\"2024-03-20T14:31:00+00:00\",\"2024-03-20T14:35:00+00:00\",\"2024-03-20T14:39:00+00:00\",\"2024-03-20T14:46:00+00:00\",\"2024-03-19T23:40:00+00:00\",\"2024-03-19T23:45:00+00:00\",\"2024-03-19T23:48:00+00:00\",\"2024-03-19T23:50:00+00:00\",\"2024-03-19T23:54:00+00:00\",\"2024-03-20T00:01:00+00:00\",\"2024-03-22T03:42:00+00:00\",\"2024-03-22T03:48:00+00:00\",\"2024-03-22T03:52:00+00:00\",\"2024-03-22T03:55:00+00:00\",\"2024-03-22T04:00:00+00:00\",\"2024-03-22T04:02:00+00:00\",\"2024-03-22T04:05:00+00:00\",\"2024-03-22T04:08:00+00:00\",\"2024-03-19T19:56:00+00:00\",\"2024-03-19T19:58:00+00:00\",\"2024-03-19T20:02:00+00:00\",\"2024-03-19T20:07:00+00:00\",\"2024-03-19T20:10:00+00:00\",\"2024-03-19T20:13:00+00:00\",\"2024-03-19T20:22:00+00:00\",\"2024-03-19T20:27:00+00:00\",\"2024-03-20T19:15:00+00:00\",\"2024-03-20T19:17:00+00:00\",\"2024-03-20T19:19:00+00:00\",\"2024-03-20T19:22:00+00:00\",\"2024-03-20T19:28:00+00:00\",\"2024-03-20T19:33:00+00:00\",\"2024-03-20T19:37:00+00:00\",\"2024-03-20T19:40:00+00:00\",\"2024-03-20T19:43:00+00:00\",\"2024-03-22T19:31:00+00:00\",\"2024-03-22T19:33:00+00:00\",\"2024-03-22T19:35:00+00:00\",\"2024-03-22T19:42:00+00:00\",\"2024-03-22T19:46:00+00:00\",\"2024-03-22T19:54:00+00:00\",\"2024-03-22T19:57:00+00:00\",\"2024-03-22T19:59:00+00:00\",\"2024-03-22T07:44:00+00:00\",\"2024-03-22T07:47:00+00:00\",\"2024-03-22T07:54:00+00:00\",\"2024-03-22T07:56:00+00:00\",\"2024-03-22T07:58:00+00:00\",\"2024-03-22T08:02:00+00:00\",\"2024-03-22T08:04:00+00:00\",\"2024-03-22T08:09:00+00:00\",\"2024-03-20T22:57:00+00:00\",\"2024-03-20T22:59:00+00:00\",\"2024-03-20T23:02:00+00:00\",\"2024-03-20T23:04:00+00:00\",\"2024-03-20T23:08:00+00:00\",\"2024-03-20T23:12:00+00:00\",\"2024-03-20T23:14:00+00:00\",\"2024-03-20T23:20:00+00:00\",\"2024-03-20T23:25:00+00:00\",\"2024-03-21T20:24:00+00:00\",\"2024-03-21T20:28:00+00:00\",\"2024-03-21T20:31:00+00:00\",\"2024-03-21T20:34:00+00:00\",\"2024-03-21T20:38:00+00:00\",\"2024-03-21T20:40:00+00:00\",\"2024-03-21T20:44:00+00:00\",\"2024-03-21T20:46:00+00:00\",\"2024-03-21T20:49:00+00:00\",\"2024-03-21T20:51:00+00:00\",\"2024-03-21T17:21:00+00:00\",\"2024-03-21T17:24:00+00:00\",\"2024-03-21T17:28:00+00:00\",\"2024-03-21T17:34:00+00:00\",\"2024-03-21T17:37:00+00:00\",\"2024-03-21T17:39:00+00:00\",\"2024-03-21T17:44:00+00:00\",\"2024-03-21T17:47:00+00:00\",\"2024-03-21T17:51:00+00:00\",\"2024-03-21T22:57:00+00:00\",\"2024-03-21T23:01:00+00:00\",\"2024-03-21T23:05:00+00:00\",\"2024-03-21T23:08:00+00:00\",\"2024-03-21T23:10:00+00:00\",\"2024-03-21T23:16:00+00:00\",\"2024-03-21T23:22:00+00:00\",\"2024-03-19T20:03:00+00:00\",\"2024-03-19T20:05:00+00:00\",\"2024-03-19T20:11:00+00:00\",\"2024-03-19T20:15:00+00:00\",\"2024-03-19T20:24:00+00:00\",\"2024-03-19T20:28:00+00:00\",\"2024-03-21T22:53:00+00:00\",\"2024-03-21T22:55:00+00:00\",\"2024-03-21T23:02:00+00:00\",\"2024-03-21T23:06:00+00:00\",\"2024-03-21T23:10:00+00:00\",\"2024-03-21T23:15:00+00:00\",\"2024-03-21T23:19:00+00:00\",\"2024-03-21T05:15:00+00:00\",\"2024-03-21T05:20:00+00:00\",\"2024-03-21T05:25:00+00:00\",\"2024-03-21T05:28:00+00:00\",\"2024-03-19T14:00:00+00:00\",\"2024-03-19T14:06:00+00:00\",\"2024-03-19T14:08:00+00:00\",\"2024-03-19T14:12:00+00:00\",\"2024-03-19T14:14:00+00:00\",\"2024-03-19T14:17:00+00:00\",\"2024-03-19T14:19:00+00:00\",\"2024-03-19T14:22:00+00:00\",\"2024-03-19T14:25:00+00:00\",\"2024-03-21T02:52:00+00:00\",\"2024-03-21T02:56:00+00:00\",\"2024-03-21T03:01:00+00:00\",\"2024-03-21T03:06:00+00:00\",\"2024-03-21T03:11:00+00:00\",\"2024-03-21T03:13:00+00:00\",\"2024-03-21T03:16:00+00:00\",\"2024-03-22T21:15:00+00:00\",\"2024-03-22T21:19:00+00:00\",\"2024-03-22T21:21:00+00:00\",\"2024-03-22T21:23:00+00:00\",\"2024-03-22T21:29:00+00:00\",\"2024-03-22T21:32:00+00:00\",\"2024-03-22T21:34:00+00:00\",\"2024-03-22T10:11:00+00:00\",\"2024-03-22T10:14:00+00:00\",\"2024-03-22T10:18:00+00:00\",\"2024-03-22T10:21:00+00:00\",\"2024-03-22T10:23:00+00:00\",\"2024-03-22T10:25:00+00:00\",\"2024-03-22T10:30:00+00:00\",\"2024-03-22T10:33:00+00:00\",\"2024-03-20T05:25:00+00:00\",\"2024-03-20T05:29:00+00:00\",\"2024-03-20T05:36:00+00:00\",\"2024-03-20T05:39:00+00:00\",\"2024-03-20T19:07:00+00:00\",\"2024-03-20T19:11:00+00:00\",\"2024-03-20T19:14:00+00:00\",\"2024-03-20T19:19:00+00:00\",\"2024-03-20T19:21:00+00:00\",\"2024-03-20T19:25:00+00:00\",\"2024-03-20T19:29:00+00:00\",\"2024-03-20T19:31:00+00:00\",\"2024-03-19T14:35:00+00:00\",\"2024-03-19T14:40:00+00:00\",\"2024-03-19T14:43:00+00:00\",\"2024-03-19T14:46:00+00:00\",\"2024-03-19T14:52:00+00:00\",\"2024-03-19T14:54:00+00:00\",\"2024-03-22T06:32:00+00:00\",\"2024-03-22T06:34:00+00:00\",\"2024-03-22T06:39:00+00:00\",\"2024-03-22T06:41:00+00:00\",\"2024-03-22T06:47:00+00:00\",\"2024-03-22T06:50:00+00:00\",\"2024-03-21T00:43:00+00:00\",\"2024-03-21T00:48:00+00:00\",\"2024-03-21T00:50:00+00:00\",\"2024-03-21T00:54:00+00:00\",\"2024-03-21T00:58:00+00:00\",\"2024-03-21T01:02:00+00:00\",\"2024-03-21T01:04:00+00:00\",\"2024-03-20T20:27:00+00:00\",\"2024-03-20T20:29:00+00:00\",\"2024-03-20T20:34:00+00:00\",\"2024-03-20T20:36:00+00:00\",\"2024-03-20T20:39:00+00:00\",\"2024-03-20T20:43:00+00:00\",\"2024-03-20T20:47:00+00:00\",\"2024-03-20T20:51:00+00:00\",\"2024-03-21T19:07:00+00:00\",\"2024-03-21T19:11:00+00:00\",\"2024-03-21T19:19:00+00:00\",\"2024-03-21T19:21:00+00:00\",\"2024-03-22T11:47:00+00:00\",\"2024-03-22T11:49:00+00:00\",\"2024-03-22T11:53:00+00:00\",\"2024-03-22T11:55:00+00:00\",\"2024-03-22T11:58:00+00:00\",\"2024-03-22T12:03:00+00:00\",\"2024-03-22T12:06:00+00:00\",\"2024-03-22T12:10:00+00:00\",\"2024-03-22T12:15:00+00:00\"],\"hovertemplate\":\"severity=info\\u003cbr\\u003estart=%{base}\\u003cbr\\u003eend=%{x}\\u003cbr\\u003ealert_id=%{y}\\u003cextra\\u003e\\u003c\\u002fextra\\u003e\",\"legendgroup\":\"info\",\"marker\":{\"color\":\"blue\",\"pattern\":{\"shape\":\"\"}},\"name\":\"info\",\"offsetgroup\":\"info\",\"orientation\":\"h\",\"showlegend\":true,\"textposition\":\"auto\",\"x\":[60000.0,60000.0,120000.0,180000.0,120000.0,120000.0,120000.0,60000.0,60000.0,60000.0,60000.0,120000.0,60000.0,60000.0,60000.0,120000.0,120000.0,60000.0,180000.0,60000.0,120000.0,60000.0,60000.0,60000.0,60000.0,60000.0,60000.0,60000.0,60000.0,120000.0,180000.0,240000.0,120000.0,120000.0,120000.0,60000.0,180000.0,240000.0,60000.0,240000.0,60000.0,60000.0,240000.0,60000.0,60000.0,60000.0,120000.0,60000.0,120000.0,120000.0,60000.0,120000.0,180000.0,180000.0,60000.0,60000.0,60000.0,120000.0,120000.0,60000.0,180000.0,120000.0,120000.0,60000.0,60000.0,60000.0,180000.0,60000.0,60000.0,120000.0,60000.0,60000.0,60000.0,60000.0,60000.0,60000.0,60000.0,60000.0,120000.0,120000.0,60000.0,60000.0,60000.0,120000.0,60000.0,60000.0,240000.0,240000.0,300000.0,180000.0,60000.0,120000.0,120000.0,60000.0,120000.0,60000.0,60000.0,60000.0,60000.0,60000.0,120000.0,300000.0,120000.0,60000.0,240000.0,60000.0,60000.0,120000.0,120000.0,60000.0,60000.0,60000.0,60000.0,240000.0,60000.0,60000.0,120000.0,180000.0,300000.0,60000.0,360000.0,60000.0,120000.0,120000.0,120000.0,240000.0,180000.0,60000.0,240000.0,120000.0,60000.0,60000.0,120000.0,60000.0,60000.0,60000.0,60000.0,60000.0,60000.0,60000.0,120000.0,180000.0,120000.0,240000.0,120000.0,60000.0,60000.0,60000.0,120000.0,60000.0,60000.0,60000.0,120000.0,60000.0,120000.0,60000.0,180000.0,120000.0,60000.0,60000.0,180000.0,120000.0,180000.0,180000.0,240000.0,120000.0,60000.0,120000.0,60000.0,60000.0,60000.0,60000.0,60000.0,60000.0,120000.0,240000.0,120000.0,120000.0,300000.0,60000.0,120000.0,60000.0,240000.0,60000.0,120000.0,60000.0,120000.0,60000.0,60000.0,60000.0,120000.0,120000.0,60000.0,60000.0,60000.0,240000.0,60000.0,120000.0,60000.0,60000.0,180000.0,120000.0,60000.0,60000.0,60000.0,120000.0,60000.0,60000.0,60000.0,60000.0,120000.0,120000.0,60000.0,240000.0,60000.0],\"xaxis\":\"x\",\"y\":[\"ElasticsearchJVMHeapUseHigh-10\",\"ElasticsearchJVMHeapUseHigh-10\",\"ElasticsearchJVMHeapUseHigh-10\",\"ElasticsearchJVMHeapUseHigh-10\",\"ElasticsearchJVMHeapUseHigh-10\",\"ElasticsearchJVMHeapUseHigh-10\",\"ElasticsearchJVMHeapUseHigh-10\",\"ElasticsearchJVMHeapUseHigh-10\",\"ElasticsearchJVMHeapUseHigh-10\",\"ElasticsearchJVMHeapUseHigh-10\",\"ElasticsearchJVMHeapUseHigh-10\",\"ElasticsearchJVMHeapUseHigh-11\",\"ElasticsearchJVMHeapUseHigh-11\",\"ElasticsearchJVMHeapUseHigh-11\",\"ElasticsearchJVMHeapUseHigh-11\",\"ElasticsearchJVMHeapUseHigh-11\",\"ElasticsearchJVMHeapUseHigh-11\",\"ElasticsearchJVMHeapUseHigh-11\",\"ElasticsearchJVMHeapUseHigh-11\",\"ElasticsearchJVMHeapUseHigh-11\",\"ElasticsearchJVMHeapUseHigh-18\",\"ElasticsearchJVMHeapUseHigh-18\",\"ElasticsearchJVMHeapUseHigh-18\",\"ElasticsearchJVMHeapUseHigh-18\",\"ElasticsearchJVMHeapUseHigh-18\",\"ElasticsearchJVMHeapUseHigh-18\",\"ElasticsearchJVMHeapUseHigh-18\",\"ElasticsearchJVMHeapUseHigh-20\",\"ElasticsearchJVMHeapUseHigh-20\",\"ElasticsearchJVMHeapUseHigh-20\",\"ElasticsearchJVMHeapUseHigh-20\",\"ElasticsearchJVMHeapUseHigh-20\",\"ElasticsearchJVMHeapUseHigh-20\",\"ElasticsearchJVMHeapUseHigh-21\",\"ElasticsearchJVMHeapUseHigh-21\",\"ElasticsearchJVMHeapUseHigh-21\",\"ElasticsearchJVMHeapUseHigh-21\",\"ElasticsearchJVMHeapUseHigh-21\",\"ElasticsearchJVMHeapUseHigh-21\",\"ElasticsearchJVMHeapUseHigh-30\",\"ElasticsearchJVMHeapUseHigh-30\",\"ElasticsearchJVMHeapUseHigh-30\",\"ElasticsearchJVMHeapUseHigh-30\",\"ElasticsearchJVMHeapUseHigh-30\",\"ElasticsearchJVMHeapUseHigh-30\",\"ElasticsearchJVMHeapUseHigh-30\",\"ElasticsearchJVMHeapUseHigh-30\",\"ElasticsearchJVMHeapUseHigh-31\",\"ElasticsearchJVMHeapUseHigh-31\",\"ElasticsearchJVMHeapUseHigh-31\",\"ElasticsearchJVMHeapUseHigh-31\",\"ElasticsearchJVMHeapUseHigh-31\",\"ElasticsearchJVMHeapUseHigh-31\",\"ElasticsearchJVMHeapUseHigh-31\",\"ElasticsearchJVMHeapUseHigh-31\",\"ElasticsearchJVMHeapUseHigh-32\",\"ElasticsearchJVMHeapUseHigh-32\",\"ElasticsearchJVMHeapUseHigh-32\",\"ElasticsearchJVMHeapUseHigh-32\",\"ElasticsearchJVMHeapUseHigh-32\",\"ElasticsearchJVMHeapUseHigh-32\",\"ElasticsearchJVMHeapUseHigh-32\",\"ElasticsearchJVMHeapUseHigh-32\",\"ElasticsearchJVMHeapUseHigh-32\",\"ElasticsearchJVMHeapUseHigh-34\",\"ElasticsearchJVMHeapUseHigh-34\",\"ElasticsearchJVMHeapUseHigh-34\",\"ElasticsearchJVMHeapUseHigh-34\",\"ElasticsearchJVMHeapUseHigh-34\",\"ElasticsearchJVMHeapUseHigh-34\",\"ElasticsearchJVMHeapUseHigh-34\",\"ElasticsearchJVMHeapUseHigh-34\",\"ElasticsearchJVMHeapUseHigh-35\",\"ElasticsearchJVMHeapUseHigh-35\",\"ElasticsearchJVMHeapUseHigh-35\",\"ElasticsearchJVMHeapUseHigh-35\",\"ElasticsearchJVMHeapUseHigh-35\",\"ElasticsearchJVMHeapUseHigh-35\",\"ElasticsearchJVMHeapUseHigh-35\",\"ElasticsearchJVMHeapUseHigh-35\",\"ElasticsearchJVMHeapUseHigh-37\",\"ElasticsearchJVMHeapUseHigh-37\",\"ElasticsearchJVMHeapUseHigh-37\",\"ElasticsearchJVMHeapUseHigh-37\",\"ElasticsearchJVMHeapUseHigh-37\",\"ElasticsearchJVMHeapUseHigh-37\",\"ElasticsearchJVMHeapUseHigh-37\",\"ElasticsearchJVMHeapUseHigh-37\",\"ElasticsearchJVMHeapUseHigh-37\",\"ElasticsearchJVMHeapUseHigh-41\",\"ElasticsearchJVMHeapUseHigh-41\",\"ElasticsearchJVMHeapUseHigh-41\",\"ElasticsearchJVMHeapUseHigh-41\",\"ElasticsearchJVMHeapUseHigh-41\",\"ElasticsearchJVMHeapUseHigh-41\",\"ElasticsearchJVMHeapUseHigh-41\",\"ElasticsearchJVMHeapUseHigh-41\",\"ElasticsearchJVMHeapUseHigh-41\",\"ElasticsearchJVMHeapUseHigh-41\",\"ElasticsearchJVMHeapUseHigh-43\",\"ElasticsearchJVMHeapUseHigh-43\",\"ElasticsearchJVMHeapUseHigh-43\",\"ElasticsearchJVMHeapUseHigh-43\",\"ElasticsearchJVMHeapUseHigh-43\",\"ElasticsearchJVMHeapUseHigh-43\",\"ElasticsearchJVMHeapUseHigh-43\",\"ElasticsearchJVMHeapUseHigh-43\",\"ElasticsearchJVMHeapUseHigh-43\",\"ElasticsearchJVMHeapUseHigh-55\",\"ElasticsearchJVMHeapUseHigh-55\",\"ElasticsearchJVMHeapUseHigh-55\",\"ElasticsearchJVMHeapUseHigh-55\",\"ElasticsearchJVMHeapUseHigh-55\",\"ElasticsearchJVMHeapUseHigh-55\",\"ElasticsearchJVMHeapUseHigh-55\",\"ElasticsearchJVMHeapUseHigh-57\",\"ElasticsearchJVMHeapUseHigh-57\",\"ElasticsearchJVMHeapUseHigh-57\",\"ElasticsearchJVMHeapUseHigh-57\",\"ElasticsearchJVMHeapUseHigh-57\",\"ElasticsearchJVMHeapUseHigh-57\",\"ElasticsearchJVMHeapUseHigh-58\",\"ElasticsearchJVMHeapUseHigh-58\",\"ElasticsearchJVMHeapUseHigh-58\",\"ElasticsearchJVMHeapUseHigh-58\",\"ElasticsearchJVMHeapUseHigh-58\",\"ElasticsearchJVMHeapUseHigh-58\",\"ElasticsearchJVMHeapUseHigh-58\",\"ElasticsearchJVMHeapUseHigh-61\",\"ElasticsearchJVMHeapUseHigh-61\",\"ElasticsearchJVMHeapUseHigh-61\",\"ElasticsearchJVMHeapUseHigh-61\",\"ElasticsearchJVMHeapUseHigh-63\",\"ElasticsearchJVMHeapUseHigh-63\",\"ElasticsearchJVMHeapUseHigh-63\",\"ElasticsearchJVMHeapUseHigh-63\",\"ElasticsearchJVMHeapUseHigh-63\",\"ElasticsearchJVMHeapUseHigh-63\",\"ElasticsearchJVMHeapUseHigh-63\",\"ElasticsearchJVMHeapUseHigh-63\",\"ElasticsearchJVMHeapUseHigh-63\",\"ElasticsearchJVMHeapUseHigh-65\",\"ElasticsearchJVMHeapUseHigh-65\",\"ElasticsearchJVMHeapUseHigh-65\",\"ElasticsearchJVMHeapUseHigh-65\",\"ElasticsearchJVMHeapUseHigh-65\",\"ElasticsearchJVMHeapUseHigh-65\",\"ElasticsearchJVMHeapUseHigh-65\",\"ElasticsearchJVMHeapUseHigh-67\",\"ElasticsearchJVMHeapUseHigh-67\",\"ElasticsearchJVMHeapUseHigh-67\",\"ElasticsearchJVMHeapUseHigh-67\",\"ElasticsearchJVMHeapUseHigh-67\",\"ElasticsearchJVMHeapUseHigh-67\",\"ElasticsearchJVMHeapUseHigh-67\",\"ElasticsearchJVMHeapUseHigh-70\",\"ElasticsearchJVMHeapUseHigh-70\",\"ElasticsearchJVMHeapUseHigh-70\",\"ElasticsearchJVMHeapUseHigh-70\",\"ElasticsearchJVMHeapUseHigh-70\",\"ElasticsearchJVMHeapUseHigh-70\",\"ElasticsearchJVMHeapUseHigh-70\",\"ElasticsearchJVMHeapUseHigh-70\",\"ElasticsearchJVMHeapUseHigh-71\",\"ElasticsearchJVMHeapUseHigh-71\",\"ElasticsearchJVMHeapUseHigh-71\",\"ElasticsearchJVMHeapUseHigh-71\",\"ElasticsearchJVMHeapUseHigh-79\",\"ElasticsearchJVMHeapUseHigh-79\",\"ElasticsearchJVMHeapUseHigh-79\",\"ElasticsearchJVMHeapUseHigh-79\",\"ElasticsearchJVMHeapUseHigh-79\",\"ElasticsearchJVMHeapUseHigh-79\",\"ElasticsearchJVMHeapUseHigh-79\",\"ElasticsearchJVMHeapUseHigh-79\",\"ElasticsearchJVMHeapUseHigh-81\",\"ElasticsearchJVMHeapUseHigh-81\",\"ElasticsearchJVMHeapUseHigh-81\",\"ElasticsearchJVMHeapUseHigh-81\",\"ElasticsearchJVMHeapUseHigh-81\",\"ElasticsearchJVMHeapUseHigh-81\",\"ElasticsearchJVMHeapUseHigh-82\",\"ElasticsearchJVMHeapUseHigh-82\",\"ElasticsearchJVMHeapUseHigh-82\",\"ElasticsearchJVMHeapUseHigh-82\",\"ElasticsearchJVMHeapUseHigh-82\",\"ElasticsearchJVMHeapUseHigh-82\",\"ElasticsearchJVMHeapUseHigh-84\",\"ElasticsearchJVMHeapUseHigh-84\",\"ElasticsearchJVMHeapUseHigh-84\",\"ElasticsearchJVMHeapUseHigh-84\",\"ElasticsearchJVMHeapUseHigh-84\",\"ElasticsearchJVMHeapUseHigh-84\",\"ElasticsearchJVMHeapUseHigh-84\",\"ElasticsearchJVMHeapUseHigh-88\",\"ElasticsearchJVMHeapUseHigh-88\",\"ElasticsearchJVMHeapUseHigh-88\",\"ElasticsearchJVMHeapUseHigh-88\",\"ElasticsearchJVMHeapUseHigh-88\",\"ElasticsearchJVMHeapUseHigh-88\",\"ElasticsearchJVMHeapUseHigh-88\",\"ElasticsearchJVMHeapUseHigh-88\",\"ElasticsearchJVMHeapUseHigh-93\",\"ElasticsearchJVMHeapUseHigh-93\",\"ElasticsearchJVMHeapUseHigh-93\",\"ElasticsearchJVMHeapUseHigh-93\",\"ElasticsearchJVMHeapUseHigh-95\",\"ElasticsearchJVMHeapUseHigh-95\",\"ElasticsearchJVMHeapUseHigh-95\",\"ElasticsearchJVMHeapUseHigh-95\",\"ElasticsearchJVMHeapUseHigh-95\",\"ElasticsearchJVMHeapUseHigh-95\",\"ElasticsearchJVMHeapUseHigh-95\",\"ElasticsearchJVMHeapUseHigh-95\",\"ElasticsearchJVMHeapUseHigh-95\"],\"yaxis\":\"y\",\"type\":\"bar\",\"width\":0.8},{\"alignmentgroup\":\"True\",\"base\":[\"2024-03-21T03:53:00+00:00\",\"2024-03-21T15:01:00+00:00\",\"2024-03-22T06:05:00+00:00\",\"2024-03-20T14:18:00+00:00\",\"2024-03-19T23:42:00+00:00\",\"2024-03-22T03:37:00+00:00\",\"2024-03-19T19:58:00+00:00\",\"2024-03-20T19:16:00+00:00\",\"2024-03-22T19:25:00+00:00\",\"2024-03-22T07:43:00+00:00\",\"2024-03-22T23:53:00+00:00\",\"2024-03-20T23:02:00+00:00\",\"2024-03-21T20:26:00+00:00\",\"2024-03-21T17:21:00+00:00\",\"2024-03-21T22:50:00+00:00\",\"2024-03-19T20:06:00+00:00\",\"2024-03-21T22:56:00+00:00\",\"2024-03-21T05:10:00+00:00\",\"2024-03-19T14:03:00+00:00\",\"2024-03-21T02:53:00+00:00\",\"2024-03-22T21:13:00+00:00\",\"2024-03-22T10:12:00+00:00\",\"2024-03-20T05:10:00+00:00\",\"2024-03-20T19:01:00+00:00\",\"2024-03-19T14:29:00+00:00\",\"2024-03-22T06:31:00+00:00\",\"2024-03-21T00:46:00+00:00\",\"2024-03-20T20:20:00+00:00\",\"2024-03-21T19:06:00+00:00\",\"2024-03-22T11:49:00+00:00\",\"2024-03-22T09:47:00+00:00\",\"2024-03-21T10:03:00+00:00\",\"2024-03-19T19:42:00+00:00\",\"2024-03-21T20:37:00+00:00\",\"2024-03-19T14:04:00+00:00\",\"2024-03-21T00:05:00+00:00\",\"2024-03-21T13:24:00+00:00\",\"2024-03-19T21:07:00+00:00\",\"2024-03-20T08:51:00+00:00\",\"2024-03-19T14:02:00+00:00\",\"2024-03-22T13:26:00+00:00\",\"2024-03-22T01:15:00+00:00\",\"2024-03-22T07:30:00+00:00\",\"2024-03-20T04:56:00+00:00\",\"2024-03-22T22:39:00+00:00\",\"2024-03-21T19:59:00+00:00\",\"2024-03-19T22:09:00+00:00\",\"2024-03-20T09:07:00+00:00\",\"2024-03-22T09:45:00+00:00\",\"2024-03-20T00:04:00+00:00\",\"2024-03-19T10:26:00+00:00\",\"2024-03-20T07:08:00+00:00\",\"2024-03-21T00:56:00+00:00\",\"2024-03-19T18:09:00+00:00\",\"2024-03-22T19:04:00+00:00\",\"2024-03-22T13:02:00+00:00\",\"2024-03-21T01:27:00+00:00\",\"2024-03-21T09:43:00+00:00\",\"2024-03-20T10:08:00+00:00\",\"2024-03-22T00:46:00+00:00\",\"2024-03-21T08:11:00+00:00\",\"2024-03-22T01:23:00+00:00\",\"2024-03-21T15:43:00+00:00\",\"2024-03-20T05:14:00+00:00\",\"2024-03-20T03:18:00+00:00\",\"2024-03-20T22:26:00+00:00\",\"2024-03-22T08:10:00+00:00\",\"2024-03-19T18:31:00+00:00\",\"2024-03-19T19:42:00+00:00\",\"2024-03-21T08:11:00+00:00\",\"2024-03-22T14:02:00+00:00\",\"2024-03-20T04:32:00+00:00\",\"2024-03-22T20:00:00+00:00\",\"2024-03-20T10:02:00+00:00\",\"2024-03-19T14:59:00+00:00\",\"2024-03-21T21:10:00+00:00\",\"2024-03-21T10:41:00+00:00\",\"2024-03-21T01:51:00+00:00\",\"2024-03-20T04:24:00+00:00\",\"2024-03-20T05:01:00+00:00\",\"2024-03-22T09:43:00+00:00\",\"2024-03-21T10:03:00+00:00\",\"2024-03-19T19:46:00+00:00\",\"2024-03-21T20:40:00+00:00\",\"2024-03-19T14:05:00+00:00\",\"2024-03-21T00:11:00+00:00\",\"2024-03-21T13:23:00+00:00\",\"2024-03-19T21:07:00+00:00\",\"2024-03-20T08:55:00+00:00\",\"2024-03-19T13:54:00+00:00\",\"2024-03-22T13:24:00+00:00\",\"2024-03-22T01:20:00+00:00\",\"2024-03-22T07:25:00+00:00\",\"2024-03-20T05:03:00+00:00\",\"2024-03-22T22:34:00+00:00\",\"2024-03-21T19:54:00+00:00\",\"2024-03-19T22:13:00+00:00\",\"2024-03-20T09:13:00+00:00\",\"2024-03-22T09:43:00+00:00\",\"2024-03-20T00:06:00+00:00\",\"2024-03-19T10:26:00+00:00\",\"2024-03-20T07:02:00+00:00\",\"2024-03-21T00:54:00+00:00\",\"2024-03-19T18:09:00+00:00\",\"2024-03-22T18:58:00+00:00\",\"2024-03-22T13:02:00+00:00\",\"2024-03-21T01:21:00+00:00\",\"2024-03-21T09:47:00+00:00\",\"2024-03-20T10:04:00+00:00\",\"2024-03-22T00:44:00+00:00\",\"2024-03-21T08:13:00+00:00\",\"2024-03-22T01:25:00+00:00\",\"2024-03-21T15:36:00+00:00\",\"2024-03-20T05:16:00+00:00\",\"2024-03-20T03:12:00+00:00\",\"2024-03-20T22:32:00+00:00\",\"2024-03-22T08:16:00+00:00\",\"2024-03-19T18:38:00+00:00\",\"2024-03-19T19:44:00+00:00\",\"2024-03-21T08:08:00+00:00\",\"2024-03-22T14:08:00+00:00\",\"2024-03-20T04:26:00+00:00\",\"2024-03-22T20:02:00+00:00\",\"2024-03-20T10:03:00+00:00\",\"2024-03-19T14:59:00+00:00\",\"2024-03-21T21:14:00+00:00\",\"2024-03-21T10:40:00+00:00\",\"2024-03-21T01:54:00+00:00\",\"2024-03-20T04:25:00+00:00\",\"2024-03-20T05:00:00+00:00\",\"2024-03-22T06:01:00+00:00\",\"2024-03-22T01:23:00+00:00\",\"2024-03-19T14:08:00+00:00\",\"2024-03-19T19:56:00+00:00\",\"2024-03-20T10:00:00+00:00\",\"2024-03-21T19:03:00+00:00\",\"2024-03-20T05:08:00+00:00\",\"2024-03-21T10:01:00+00:00\",\"2024-03-20T08:52:00+00:00\",\"2024-03-21T02:49:00+00:00\",\"2024-03-20T04:57:00+00:00\",\"2024-03-21T22:56:00+00:00\",\"2024-03-21T08:14:00+00:00\",\"2024-03-20T19:07:00+00:00\",\"2024-03-19T23:40:00+00:00\",\"2024-03-21T00:12:00+00:00\",\"2024-03-22T07:31:00+00:00\",\"2024-03-20T09:06:00+00:00\",\"2024-03-21T09:47:00+00:00\",\"2024-03-21T14:55:00+00:00\",\"2024-03-19T14:08:00+00:00\",\"2024-03-21T00:54:00+00:00\",\"2024-03-22T13:28:00+00:00\",\"2024-03-19T20:04:00+00:00\",\"2024-03-21T21:10:00+00:00\",\"2024-03-21T01:51:00+00:00\",\"2024-03-20T04:25:00+00:00\",\"2024-03-19T21:07:00+00:00\",\"2024-03-20T14:19:00+00:00\",\"2024-03-22T09:46:00+00:00\",\"2024-03-22T21:09:00+00:00\",\"2024-03-22T06:30:00+00:00\",\"2024-03-22T07:50:00+00:00\",\"2024-03-21T17:22:00+00:00\",\"2024-03-22T00:41:00+00:00\",\"2024-03-22T01:19:00+00:00\",\"2024-03-19T14:32:00+00:00\",\"2024-03-21T10:38:00+00:00\",\"2024-03-22T11:44:00+00:00\",\"2024-03-19T19:43:00+00:00\",\"2024-03-20T00:06:00+00:00\",\"2024-03-20T03:17:00+00:00\",\"2024-03-21T13:17:00+00:00\",\"2024-03-20T23:05:00+00:00\",\"2024-03-21T08:10:00+00:00\",\"2024-03-20T04:33:00+00:00\",\"2024-03-19T13:55:00+00:00\",\"2024-03-21T22:49:00+00:00\",\"2024-03-22T13:06:00+00:00\",\"2024-03-22T13:59:00+00:00\",\"2024-03-21T03:52:00+00:00\",\"2024-03-20T05:17:00+00:00\",\"2024-03-22T23:56:00+00:00\",\"2024-03-21T05:08:00+00:00\",\"2024-03-20T10:03:00+00:00\",\"2024-03-19T15:04:00+00:00\",\"2024-03-21T20:43:00+00:00\",\"2024-03-22T03:43:00+00:00\",\"2024-03-21T20:24:00+00:00\",\"2024-03-22T19:01:00+00:00\",\"2024-03-21T00:44:00+00:00\",\"2024-03-22T22:40:00+00:00\",\"2024-03-21T19:56:00+00:00\",\"2024-03-22T19:30:00+00:00\",\"2024-03-20T07:09:00+00:00\",\"2024-03-22T10:13:00+00:00\",\"2024-03-19T18:37:00+00:00\",\"2024-03-20T19:14:00+00:00\",\"2024-03-21T15:41:00+00:00\",\"2024-03-22T09:40:00+00:00\",\"2024-03-20T05:11:00+00:00\",\"2024-03-19T19:44:00+00:00\",\"2024-03-19T22:11:00+00:00\",\"2024-03-20T22:24:00+00:00\",\"2024-03-22T20:06:00+00:00\",\"2024-03-20T20:27:00+00:00\",\"2024-03-19T10:32:00+00:00\",\"2024-03-19T18:06:00+00:00\",\"2024-03-21T01:21:00+00:00\",\"2024-03-22T08:12:00+00:00\"],\"hovertemplate\":\"severity=warning\\u003cbr\\u003estart=%{base}\\u003cbr\\u003eend=%{x}\\u003cbr\\u003ealert_id=%{y}\\u003cextra\\u003e\\u003c\\u002fextra\\u003e\",\"legendgroup\":\"warning\",\"marker\":{\"color\":\"orange\",\"pattern\":{\"shape\":\"\"}},\"name\":\"warning\",\"offsetgroup\":\"warning\",\"orientation\":\"h\",\"showlegend\":true,\"textposition\":\"auto\",\"x\":[1680000.0,1620000.0,1740000.0,1980000.0,1380000.0,2160000.0,1800000.0,2100000.0,2100000.0,2220000.0,480000.0,1680000.0,1800000.0,2160000.0,2160000.0,1440000.0,1560000.0,1440000.0,1980000.0,1440000.0,1560000.0,1620000.0,1860000.0,1680000.0,1740000.0,1800000.0,1560000.0,2040000.0,1560000.0,1860000.0,1320000.0,1860000.0,1980000.0,1980000.0,1680000.0,1740000.0,1860000.0,1680000.0,1800000.0,1500000.0,1560000.0,2340000.0,1740000.0,1740000.0,1980000.0,1740000.0,2100000.0,2040000.0,1980000.0,2280000.0,2100000.0,1620000.0,1500000.0,1800000.0,1260000.0,1860000.0,1920000.0,2220000.0,1680000.0,1380000.0,1980000.0,1680000.0,1560000.0,1800000.0,1320000.0,1860000.0,2100000.0,1920000.0,2100000.0,2100000.0,1740000.0,1440000.0,2160000.0,2220000.0,2280000.0,1560000.0,1680000.0,1500000.0,1920000.0,1740000.0,2100000.0,1500000.0,1740000.0,1860000.0,1620000.0,1740000.0,1980000.0,1500000.0,1440000.0,2280000.0,2220000.0,1500000.0,1800000.0,1740000.0,2160000.0,1740000.0,1800000.0,1560000.0,1740000.0,1860000.0,1920000.0,1860000.0,1680000.0,1860000.0,2160000.0,2100000.0,1740000.0,1800000.0,1860000.0,1980000.0,1560000.0,1620000.0,1980000.0,1740000.0,2160000.0,1740000.0,1440000.0,1320000.0,2160000.0,2220000.0,1380000.0,1920000.0,2040000.0,2100000.0,1860000.0,1740000.0,1740000.0,1500000.0,1980000.0,1980000.0,1800000.0,1440000.0,1260000.0,1920000.0,1860000.0,1740000.0,1500000.0,1920000.0,1680000.0,1920000.0,2040000.0,1620000.0,1860000.0,1800000.0,1680000.0,1560000.0,1380000.0,1920000.0,1920000.0,1620000.0,1680000.0,2160000.0,1740000.0,1740000.0,1560000.0,1860000.0,2100000.0,1980000.0,1920000.0,1800000.0,1860000.0,1740000.0,1680000.0,1920000.0,1860000.0,2220000.0,1920000.0,1920000.0,2160000.0,2160000.0,1740000.0,1380000.0,1860000.0,1800000.0,1680000.0,1620000.0,2040000.0,1980000.0,1860000.0,1920000.0,2040000.0,1740000.0,300000.0,1560000.0,2040000.0,1500000.0,1380000.0,1500000.0,1560000.0,1980000.0,1440000.0,1740000.0,1800000.0,1740000.0,1380000.0,1440000.0,1800000.0,2100000.0,1680000.0,1860000.0,1560000.0,2040000.0,1740000.0,2340000.0,1860000.0,1620000.0,1320000.0,1980000.0,2220000.0,2040000.0],\"xaxis\":\"x\",\"y\":[\"ElasticsearchClusterNotHealthy-10\",\"ElasticsearchClusterNotHealthy-11\",\"ElasticsearchClusterNotHealthy-18\",\"ElasticsearchClusterNotHealthy-20\",\"ElasticsearchClusterNotHealthy-21\",\"ElasticsearchClusterNotHealthy-30\",\"ElasticsearchClusterNotHealthy-31\",\"ElasticsearchClusterNotHealthy-32\",\"ElasticsearchClusterNotHealthy-34\",\"ElasticsearchClusterNotHealthy-35\",\"ElasticsearchClusterNotHealthy-36\",\"ElasticsearchClusterNotHealthy-37\",\"ElasticsearchClusterNotHealthy-41\",\"ElasticsearchClusterNotHealthy-43\",\"ElasticsearchClusterNotHealthy-55\",\"ElasticsearchClusterNotHealthy-57\",\"ElasticsearchClusterNotHealthy-58\",\"ElasticsearchClusterNotHealthy-61\",\"ElasticsearchClusterNotHealthy-63\",\"ElasticsearchClusterNotHealthy-65\",\"ElasticsearchClusterNotHealthy-67\",\"ElasticsearchClusterNotHealthy-70\",\"ElasticsearchClusterNotHealthy-71\",\"ElasticsearchClusterNotHealthy-79\",\"ElasticsearchClusterNotHealthy-81\",\"ElasticsearchClusterNotHealthy-82\",\"ElasticsearchClusterNotHealthy-84\",\"ElasticsearchClusterNotHealthy-88\",\"ElasticsearchClusterNotHealthy-93\",\"ElasticsearchClusterNotHealthy-95\",\"KubeDeploymentReplicasMismatch-1\",\"KubeDeploymentReplicasMismatch-100\",\"KubeDeploymentReplicasMismatch-12\",\"KubeDeploymentReplicasMismatch-14\",\"KubeDeploymentReplicasMismatch-15\",\"KubeDeploymentReplicasMismatch-17\",\"KubeDeploymentReplicasMismatch-18\",\"KubeDeploymentReplicasMismatch-20\",\"KubeDeploymentReplicasMismatch-21\",\"KubeDeploymentReplicasMismatch-23\",\"KubeDeploymentReplicasMismatch-25\",\"KubeDeploymentReplicasMismatch-26\",\"KubeDeploymentReplicasMismatch-28\",\"KubeDeploymentReplicasMismatch-29\",\"KubeDeploymentReplicasMismatch-3\",\"KubeDeploymentReplicasMismatch-30\",\"KubeDeploymentReplicasMismatch-32\",\"KubeDeploymentReplicasMismatch-36\",\"KubeDeploymentReplicasMismatch-39\",\"KubeDeploymentReplicasMismatch-4\",\"KubeDeploymentReplicasMismatch-44\",\"KubeDeploymentReplicasMismatch-47\",\"KubeDeploymentReplicasMismatch-5\",\"KubeDeploymentReplicasMismatch-52\",\"KubeDeploymentReplicasMismatch-54\",\"KubeDeploymentReplicasMismatch-55\",\"KubeDeploymentReplicasMismatch-58\",\"KubeDeploymentReplicasMismatch-59\",\"KubeDeploymentReplicasMismatch-6\",\"KubeDeploymentReplicasMismatch-63\",\"KubeDeploymentReplicasMismatch-65\",\"KubeDeploymentReplicasMismatch-68\",\"KubeDeploymentReplicasMismatch-69\",\"KubeDeploymentReplicasMismatch-7\",\"KubeDeploymentReplicasMismatch-70\",\"KubeDeploymentReplicasMismatch-72\",\"KubeDeploymentReplicasMismatch-76\",\"KubeDeploymentReplicasMismatch-78\",\"KubeDeploymentReplicasMismatch-80\",\"KubeDeploymentReplicasMismatch-82\",\"KubeDeploymentReplicasMismatch-83\",\"KubeDeploymentReplicasMismatch-85\",\"KubeDeploymentReplicasMismatch-87\",\"KubeDeploymentReplicasMismatch-89\",\"KubeDeploymentReplicasMismatch-90\",\"KubeDeploymentReplicasMismatch-91\",\"KubeDeploymentReplicasMismatch-94\",\"KubeDeploymentReplicasMismatch-95\",\"KubeDeploymentReplicasMismatch-96\",\"KubeDeploymentReplicasMismatch-98\",\"TargetDown-1\",\"TargetDown-100\",\"TargetDown-12\",\"TargetDown-14\",\"TargetDown-15\",\"TargetDown-17\",\"TargetDown-18\",\"TargetDown-20\",\"TargetDown-21\",\"TargetDown-23\",\"TargetDown-25\",\"TargetDown-26\",\"TargetDown-28\",\"TargetDown-29\",\"TargetDown-3\",\"TargetDown-30\",\"TargetDown-32\",\"TargetDown-36\",\"TargetDown-39\",\"TargetDown-4\",\"TargetDown-44\",\"TargetDown-47\",\"TargetDown-5\",\"TargetDown-52\",\"TargetDown-54\",\"TargetDown-55\",\"TargetDown-58\",\"TargetDown-59\",\"TargetDown-6\",\"TargetDown-63\",\"TargetDown-65\",\"TargetDown-68\",\"TargetDown-69\",\"TargetDown-7\",\"TargetDown-70\",\"TargetDown-72\",\"TargetDown-76\",\"TargetDown-78\",\"TargetDown-80\",\"TargetDown-82\",\"TargetDown-83\",\"TargetDown-85\",\"TargetDown-87\",\"TargetDown-89\",\"TargetDown-90\",\"TargetDown-91\",\"TargetDown-94\",\"TargetDown-95\",\"TargetDown-96\",\"TargetDown-98\",\"noise_b-18\",\"noise_b-26\",\"noise_b-63\",\"noise_c-31\",\"noise_c-6\",\"noise_c-93\",\"noise_c-98\",\"noise_d-100\",\"noise_d-21\",\"noise_d-65\",\"noise_e-29\",\"noise_e-58\",\"noise_e-65\",\"noise_e-79\",\"noise_f-21\",\"noise_g-17\",\"noise_g-28\",\"noise_g-36\",\"noise_g-59\",\"noise_h-11\",\"noise_h-15\",\"noise_h-5\",\"noise_i-25\",\"noise_i-57\",\"noise_i-91\",\"noise_i-95\",\"noise_i-96\",\"noise_j-20\",\"noise_j-20\",\"noise_j-39\",\"noise_j-67\",\"noise_j-82\",\"noise_k-35\",\"noise_k-43\",\"noise_k-63\",\"noise_k-68\",\"noise_k-81\",\"noise_k-94\",\"noise_k-95\",\"noise_l-12\",\"noise_l-4\",\"noise_l-70\",\"noise_m-18\",\"noise_m-37\",\"noise_m-82\",\"noise_m-85\",\"noise_n-23\",\"noise_n-55\",\"noise_n-55\",\"noise_n-83\",\"noise_o-10\",\"noise_o-7\",\"noise_p-36\",\"noise_p-61\",\"noise_p-89\",\"noise_q-90\",\"noise_r-14\",\"noise_s-30\",\"noise_s-41\",\"noise_s-54\",\"noise_s-84\",\"noise_t-3\",\"noise_u-30\",\"noise_u-34\",\"noise_u-47\",\"noise_u-70\",\"noise_u-78\",\"noise_v-32\",\"noise_v-69\",\"noise_w-1\",\"noise_w-71\",\"noise_w-80\",\"noise_x-32\",\"noise_x-72\",\"noise_x-87\",\"noise_x-88\",\"noise_y-44\",\"noise_y-52\",\"noise_y-58\",\"noise_y-76\"],\"yaxis\":\"y\",\"type\":\"bar\",\"width\":0.8}],                        {\"template\":{\"data\":{\"histogram2dcontour\":[{\"type\":\"histogram2dcontour\",\"colorbar\":{\"outlinewidth\":0,\"ticks\":\"\"},\"colorscale\":[[0.0,\"#0d0887\"],[0.1111111111111111,\"#46039f\"],[0.2222222222222222,\"#7201a8\"],[0.3333333333333333,\"#9c179e\"],[0.4444444444444444,\"#bd3786\"],[0.5555555555555556,\"#d8576b\"],[0.6666666666666666,\"#ed7953\"],[0.7777777777777778,\"#fb9f3a\"],[0.8888888888888888,\"#fdca26\"],[1.0,\"#f0f921\"]]}],\"choropleth\":[{\"type\":\"choropleth\",\"colorbar\":{\"outlinewidth\":0,\"ticks\":\"\"}}],\"histogram2d\":[{\"type\":\"histogram2d\",\"colorbar\":{\"outlinewidth\":0,\"ticks\":\"\"},\"colorscale\":[[0.0,\"#0d0887\"],[0.1111111111111111,\"#46039f\"],[0.2222222222222222,\"#7201a8\"],[0.3333333333333333,\"#9c179e\"],[0.4444444444444444,\"#bd3786\"],[0.5555555555555556,\"#d8576b\"],[0.6666666666666666,\"#ed7953\"],[0.7777777777777778,\"#fb9f3a\"],[0.8888888888888888,\"#fdca26\"],[1.0,\"#f0f921\"]]}],\"heatmap\":[{\"type\":\"heatmap\",\"colorbar\":{\"outlinewidth\":0,\"ticks\":\"\"},\"colorscale\":[[0.0,\"#0d0887\"],[0.1111111111111111,\"#46039f\"],[0.2222222222222222,\"#7201a8\"],[0.3333333333333333,\"#9c179e\"],[0.4444444444444444,\"#bd3786\"],[0.5555555555555556,\"#d8576b\"],[0.6666666666666666,\"#ed7953\"],[0.7777777777777778,\"#fb9f3a\"],[0.8888888888888888,\"#fdca26\"],[1.0,\"#f0f921\"]]}],\"heatmapgl\":[{\"type\":\"heatmapgl\",\"colorbar\":{\"outlinewidth\":0,\"ticks\":\"\"},\"colorscale\":[[0.0,\"#0d0887\"],[0.1111111111111111,\"#46039f\"],[0.2222222222222222,\"#7201a8\"],[0.3333333333333333,\"#9c179e\"],[0.4444444444444444,\"#bd3786\"],[0.5555555555555556,\"#d8576b\"],[0.6666666666666666,\"#ed7953\"],[0.7777777777777778,\"#fb9f3a\"],[0.8888888888888888,\"#fdca26\"],[1.0,\"#f0f921\"]]}],\"contourcarpet\":[{\"type\":\"contourcarpet\",\"colorbar\":{\"outlinewidth\":0,\"ticks\":\"\"}}],\"contour\":[{\"type\":\"contour\",\"colorbar\":{\"outlinewidth\":0,\"ticks\":\"\"},\"colorscale\":[[0.0,\"#0d0887\"],[0.1111111111111111,\"#46039f\"],[0.2222222222222222,\"#7201a8\"],[0.3333333333333333,\"#9c179e\"],[0.4444444444444444,\"#bd3786\"],[0.5555555555555556,\"#d8576b\"],[0.6666666666666666,\"#ed7953\"],[0.7777777777777778,\"#fb9f3a\"],[0.8888888888888888,\"#fdca26\"],[1.0,\"#f0f921\"]]}],\"surface\":[{\"type\":\"surface\",\"colorbar\":{\"outlinewidth\":0,\"ticks\":\"\"},\"colorscale\":[[0.0,\"#0d0887\"],[0.1111111111111111,\"#46039f\"],[0.2222222222222222,\"#7201a8\"],[0.3333333333333333,\"#9c179e\"],[0.4444444444444444,\"#bd3786\"],[0.5555555555555556,\"#d8576b\"],[0.6666666666666666,\"#ed7953\"],[0.7777777777777778,\"#fb9f3a\"],[0.8888888888888888,\"#fdca26\"],[1.0,\"#f0f921\"]]}],\"mesh3d\":[{\"type\":\"mesh3d\",\"colorbar\":{\"outlinewidth\":0,\"ticks\":\"\"}}],\"scatter\":[{\"fillpattern\":{\"fillmode\":\"overlay\",\"size\":10,\"solidity\":0.2},\"type\":\"scatter\"}],\"parcoords\":[{\"type\":\"parcoords\",\"line\":{\"colorbar\":{\"outlinewidth\":0,\"ticks\":\"\"}}}],\"scatterpolargl\":[{\"type\":\"scatterpolargl\",\"marker\":{\"colorbar\":{\"outlinewidth\":0,\"ticks\":\"\"}}}],\"bar\":[{\"error_x\":{\"color\":\"#2a3f5f\"},\"error_y\":{\"color\":\"#2a3f5f\"},\"marker\":{\"line\":{\"color\":\"#E5ECF6\",\"width\":0.5},\"pattern\":{\"fillmode\":\"overlay\",\"size\":10,\"solidity\":0.2}},\"type\":\"bar\"}],\"scattergeo\":[{\"type\":\"scattergeo\",\"marker\":{\"colorbar\":{\"outlinewidth\":0,\"ticks\":\"\"}}}],\"scatterpolar\":[{\"type\":\"scatterpolar\",\"marker\":{\"colorbar\":{\"outlinewidth\":0,\"ticks\":\"\"}}}],\"histogram\":[{\"marker\":{\"pattern\":{\"fillmode\":\"overlay\",\"size\":10,\"solidity\":0.2}},\"type\":\"histogram\"}],\"scattergl\":[{\"type\":\"scattergl\",\"marker\":{\"colorbar\":{\"outlinewidth\":0,\"ticks\":\"\"}}}],\"scatter3d\":[{\"type\":\"scatter3d\",\"line\":{\"colorbar\":{\"outlinewidth\":0,\"ticks\":\"\"}},\"marker\":{\"colorbar\":{\"outlinewidth\":0,\"ticks\":\"\"}}}],\"scattermapbox\":[{\"type\":\"scattermapbox\",\"marker\":{\"colorbar\":{\"outlinewidth\":0,\"ticks\":\"\"}}}],\"scatterternary\":[{\"type\":\"scatterternary\",\"marker\":{\"colorbar\":{\"outlinewidth\":0,\"ticks\":\"\"}}}],\"scattercarpet\":[{\"type\":\"scattercarpet\",\"marker\":{\"colorbar\":{\"outlinewidth\":0,\"ticks\":\"\"}}}],\"carpet\":[{\"aaxis\":{\"endlinecolor\":\"#2a3f5f\",\"gridcolor\":\"white\",\"linecolor\":\"white\",\"minorgridcolor\":\"white\",\"startlinecolor\":\"#2a3f5f\"},\"baxis\":{\"endlinecolor\":\"#2a3f5f\",\"gridcolor\":\"white\",\"linecolor\":\"white\",\"minorgridcolor\":\"white\",\"startlinecolor\":\"#2a3f5f\"},\"type\":\"carpet\"}],\"table\":[{\"cells\":{\"fill\":{\"color\":\"#EBF0F8\"},\"line\":{\"color\":\"white\"}},\"header\":{\"fill\":{\"color\":\"#C8D4E3\"},\"line\":{\"color\":\"white\"}},\"type\":\"table\"}],\"barpolar\":[{\"marker\":{\"line\":{\"color\":\"#E5ECF6\",\"width\":0.5},\"pattern\":{\"fillmode\":\"overlay\",\"size\":10,\"solidity\":0.2}},\"type\":\"barpolar\"}],\"pie\":[{\"automargin\":true,\"type\":\"pie\"}]},\"layout\":{\"autotypenumbers\":\"strict\",\"colorway\":[\"#636efa\",\"#EF553B\",\"#00cc96\",\"#ab63fa\",\"#FFA15A\",\"#19d3f3\",\"#FF6692\",\"#B6E880\",\"#FF97FF\",\"#FECB52\"],\"font\":{\"color\":\"#2a3f5f\"},\"hovermode\":\"closest\",\"hoverlabel\":{\"align\":\"left\"},\"paper_bgcolor\":\"white\",\"plot_bgcolor\":\"#E5ECF6\",\"polar\":{\"bgcolor\":\"#E5ECF6\",\"angularaxis\":{\"gridcolor\":\"white\",\"linecolor\":\"white\",\"ticks\":\"\"},\"radialaxis\":{\"gridcolor\":\"white\",\"linecolor\":\"white\",\"ticks\":\"\"}},\"ternary\":{\"bgcolor\":\"#E5ECF6\",\"aaxis\":{\"gridcolor\":\"white\",\"linecolor\":\"white\",\"ticks\":\"\"},\"baxis\":{\"gridcolor\":\"white\",\"linecolor\":\"white\",\"ticks\":\"\"},\"caxis\":{\"gridcolor\":\"white\",\"linecolor\":\"white\",\"ticks\":\"\"}},\"coloraxis\":{\"colorbar\":{\"outlinewidth\":0,\"ticks\":\"\"}},\"colorscale\":{\"sequential\":[[0.0,\"#0d0887\"],[0.1111111111111111,\"#46039f\"],[0.2222222222222222,\"#7201a8\"],[0.3333333333333333,\"#9c179e\"],[0.4444444444444444,\"#bd3786\"],[0.5555555555555556,\"#d8576b\"],[0.6666666666666666,\"#ed7953\"],[0.7777777777777778,\"#fb9f3a\"],[0.8888888888888888,\"#fdca26\"],[1.0,\"#f0f921\"]],\"sequentialminus\":[[0.0,\"#0d0887\"],[0.1111111111111111,\"#46039f\"],[0.2222222222222222,\"#7201a8\"],[0.3333333333333333,\"#9c179e\"],[0.4444444444444444,\"#bd3786\"],[0.5555555555555556,\"#d8576b\"],[0.6666666666666666,\"#ed7953\"],[0.7777777777777778,\"#fb9f3a\"],[0.8888888888888888,\"#fdca26\"],[1.0,\"#f0f921\"]],\"diverging\":[[0,\"#8e0152\"],[0.1,\"#c51b7d\"],[0.2,\"#de77ae\"],[0.3,\"#f1b6da\"],[0.4,\"#fde0ef\"],[0.5,\"#f7f7f7\"],[0.6,\"#e6f5d0\"],[0.7,\"#b8e186\"],[0.8,\"#7fbc41\"],[0.9,\"#4d9221\"],[1,\"#276419\"]]},\"xaxis\":{\"gridcolor\":\"white\",\"linecolor\":\"white\",\"ticks\":\"\",\"title\":{\"standoff\":15},\"zerolinecolor\":\"white\",\"automargin\":true,\"zerolinewidth\":2},\"yaxis\":{\"gridcolor\":\"white\",\"linecolor\":\"white\",\"ticks\":\"\",\"title\":{\"standoff\":15},\"zerolinecolor\":\"white\",\"automargin\":true,\"zerolinewidth\":2},\"scene\":{\"xaxis\":{\"backgroundcolor\":\"#E5ECF6\",\"gridcolor\":\"white\",\"linecolor\":\"white\",\"showbackground\":true,\"ticks\":\"\",\"zerolinecolor\":\"white\",\"gridwidth\":2},\"yaxis\":{\"backgroundcolor\":\"#E5ECF6\",\"gridcolor\":\"white\",\"linecolor\":\"white\",\"showbackground\":true,\"ticks\":\"\",\"zerolinecolor\":\"white\",\"gridwidth\":2},\"zaxis\":{\"backgroundcolor\":\"#E5ECF6\",\"gridcolor\":\"white\",\"linecolor\":\"white\",\"showbackground\":true,\"ticks\":\"\",\"zerolinecolor\":\"white\",\"gridwidth\":2}},\"shapedefaults\":{\"line\":{\"color\":\"#2a3f5f\"}},\"annotationdefaults\":{\"arrowcolor\":\"#2a3f5f\",\"arrowhead\":0,\"arrowwidth\":1},\"geo\":{\"bgcolor\":\"white\",\"landcolor\":\"#E5ECF6\",\"subunitcolor\":\"white\",\"showland\":true,\"showlakes\":true,\"lakecolor\":\"white\"},\"title\":{\"x\":0.05},\"mapbox\":{\"style\":\"light\"}}},\"xaxis\":{\"anchor\":\"y\",\"domain\":[0.0,1.0],\"type\":\"date\"},\"yaxis\":{\"anchor\":\"x\",\"domain\":[0.0,1.0],\"title\":{\"text\":\"alert_id\"}},\"legend\":{\"title\":{\"text\":\"severity\"},\"tracegroupgap\":0},\"title\":{\"text\":\"Timeline\"},\"barmode\":\"overlay\",\"showlegend\":false,\"bargap\":0.1,\"height\":600},                        {\"responsive\": true}                    ).then(function(){\n",
       "                            \n",
       "var gd = document.getElementById('12e0e25f-cd39-4ee6-8364-d06138f0be64');\n",
       "var x = new MutationObserver(function (mutations, observer) {{\n",
       "        var display = window.getComputedStyle(gd).display;\n",
       "        if (!display || display === 'none') {{\n",
       "            console.log([gd, 'removed!']);\n",
       "            Plotly.purge(gd);\n",
       "            observer.disconnect();\n",
       "        }}\n",
       "}});\n",
       "\n",
       "// Listen for the removal of the full notebook cells\n",
       "var notebookContainer = gd.closest('#notebook-container');\n",
       "if (notebookContainer) {{\n",
       "    x.observe(notebookContainer, {childList: true});\n",
       "}}\n",
       "\n",
       "// Listen for the clearing of the current output cell\n",
       "var outputEl = gd.closest('.output');\n",
       "if (outputEl) {{\n",
       "    x.observe(outputEl, {childList: true});\n",
       "}}\n",
       "\n",
       "                        })                };                });            </script>        </div>"
      ]
     },
     "metadata": {},
     "output_type": "display_data"
    },
    {
     "data": {
      "application/vnd.plotly.v1+json": {
       "config": {
        "plotlyServerURL": "https://plot.ly"
       },
       "data": [
        {
         "alignmentgroup": "True",
         "base": [
          "2024-03-22T09:47:00+00:00"
         ],
         "hovertemplate": "severity=critical<br>start=%{base}<br>end=%{x}<br>alert_id=%{y}<extra></extra>",
         "legendgroup": "critical",
         "marker": {
          "color": "red",
          "pattern": {
           "shape": ""
          }
         },
         "name": "critical",
         "offsetgroup": "critical",
         "orientation": "h",
         "showlegend": true,
         "textposition": "auto",
         "type": "bar",
         "width": 0.8,
         "x": [
          1560000
         ],
         "xaxis": "x",
         "y": [
          "KubeNodeNotReady-1"
         ],
         "yaxis": "y"
        },
        {
         "alignmentgroup": "True",
         "base": [
          "2024-03-22T09:47:00+00:00",
          "2024-03-22T09:43:00+00:00",
          "2024-03-22T09:40:00+00:00"
         ],
         "hovertemplate": "severity=warning<br>start=%{base}<br>end=%{x}<br>alert_id=%{y}<extra></extra>",
         "legendgroup": "warning",
         "marker": {
          "color": "orange",
          "pattern": {
           "shape": ""
          }
         },
         "name": "warning",
         "offsetgroup": "warning",
         "orientation": "h",
         "showlegend": true,
         "textposition": "auto",
         "type": "bar",
         "width": 0.8,
         "x": [
          1320000,
          2100000,
          1860000
         ],
         "xaxis": "x",
         "y": [
          "KubeDeploymentReplicasMismatch-1",
          "TargetDown-1",
          "noise_w-1"
         ],
         "yaxis": "y"
        }
       ],
       "layout": {
        "bargap": 0.1,
        "barmode": "overlay",
        "height": 600,
        "legend": {
         "title": {
          "text": "severity"
         },
         "tracegroupgap": 0
        },
        "showlegend": false,
        "template": {
         "data": {
          "bar": [
           {
            "error_x": {
             "color": "#2a3f5f"
            },
            "error_y": {
             "color": "#2a3f5f"
            },
            "marker": {
             "line": {
              "color": "#E5ECF6",
              "width": 0.5
             },
             "pattern": {
              "fillmode": "overlay",
              "size": 10,
              "solidity": 0.2
             }
            },
            "type": "bar"
           }
          ],
          "barpolar": [
           {
            "marker": {
             "line": {
              "color": "#E5ECF6",
              "width": 0.5
             },
             "pattern": {
              "fillmode": "overlay",
              "size": 10,
              "solidity": 0.2
             }
            },
            "type": "barpolar"
           }
          ],
          "carpet": [
           {
            "aaxis": {
             "endlinecolor": "#2a3f5f",
             "gridcolor": "white",
             "linecolor": "white",
             "minorgridcolor": "white",
             "startlinecolor": "#2a3f5f"
            },
            "baxis": {
             "endlinecolor": "#2a3f5f",
             "gridcolor": "white",
             "linecolor": "white",
             "minorgridcolor": "white",
             "startlinecolor": "#2a3f5f"
            },
            "type": "carpet"
           }
          ],
          "choropleth": [
           {
            "colorbar": {
             "outlinewidth": 0,
             "ticks": ""
            },
            "type": "choropleth"
           }
          ],
          "contour": [
           {
            "colorbar": {
             "outlinewidth": 0,
             "ticks": ""
            },
            "colorscale": [
             [
              0,
              "#0d0887"
             ],
             [
              0.1111111111111111,
              "#46039f"
             ],
             [
              0.2222222222222222,
              "#7201a8"
             ],
             [
              0.3333333333333333,
              "#9c179e"
             ],
             [
              0.4444444444444444,
              "#bd3786"
             ],
             [
              0.5555555555555556,
              "#d8576b"
             ],
             [
              0.6666666666666666,
              "#ed7953"
             ],
             [
              0.7777777777777778,
              "#fb9f3a"
             ],
             [
              0.8888888888888888,
              "#fdca26"
             ],
             [
              1,
              "#f0f921"
             ]
            ],
            "type": "contour"
           }
          ],
          "contourcarpet": [
           {
            "colorbar": {
             "outlinewidth": 0,
             "ticks": ""
            },
            "type": "contourcarpet"
           }
          ],
          "heatmap": [
           {
            "colorbar": {
             "outlinewidth": 0,
             "ticks": ""
            },
            "colorscale": [
             [
              0,
              "#0d0887"
             ],
             [
              0.1111111111111111,
              "#46039f"
             ],
             [
              0.2222222222222222,
              "#7201a8"
             ],
             [
              0.3333333333333333,
              "#9c179e"
             ],
             [
              0.4444444444444444,
              "#bd3786"
             ],
             [
              0.5555555555555556,
              "#d8576b"
             ],
             [
              0.6666666666666666,
              "#ed7953"
             ],
             [
              0.7777777777777778,
              "#fb9f3a"
             ],
             [
              0.8888888888888888,
              "#fdca26"
             ],
             [
              1,
              "#f0f921"
             ]
            ],
            "type": "heatmap"
           }
          ],
          "heatmapgl": [
           {
            "colorbar": {
             "outlinewidth": 0,
             "ticks": ""
            },
            "colorscale": [
             [
              0,
              "#0d0887"
             ],
             [
              0.1111111111111111,
              "#46039f"
             ],
             [
              0.2222222222222222,
              "#7201a8"
             ],
             [
              0.3333333333333333,
              "#9c179e"
             ],
             [
              0.4444444444444444,
              "#bd3786"
             ],
             [
              0.5555555555555556,
              "#d8576b"
             ],
             [
              0.6666666666666666,
              "#ed7953"
             ],
             [
              0.7777777777777778,
              "#fb9f3a"
             ],
             [
              0.8888888888888888,
              "#fdca26"
             ],
             [
              1,
              "#f0f921"
             ]
            ],
            "type": "heatmapgl"
           }
          ],
          "histogram": [
           {
            "marker": {
             "pattern": {
              "fillmode": "overlay",
              "size": 10,
              "solidity": 0.2
             }
            },
            "type": "histogram"
           }
          ],
          "histogram2d": [
           {
            "colorbar": {
             "outlinewidth": 0,
             "ticks": ""
            },
            "colorscale": [
             [
              0,
              "#0d0887"
             ],
             [
              0.1111111111111111,
              "#46039f"
             ],
             [
              0.2222222222222222,
              "#7201a8"
             ],
             [
              0.3333333333333333,
              "#9c179e"
             ],
             [
              0.4444444444444444,
              "#bd3786"
             ],
             [
              0.5555555555555556,
              "#d8576b"
             ],
             [
              0.6666666666666666,
              "#ed7953"
             ],
             [
              0.7777777777777778,
              "#fb9f3a"
             ],
             [
              0.8888888888888888,
              "#fdca26"
             ],
             [
              1,
              "#f0f921"
             ]
            ],
            "type": "histogram2d"
           }
          ],
          "histogram2dcontour": [
           {
            "colorbar": {
             "outlinewidth": 0,
             "ticks": ""
            },
            "colorscale": [
             [
              0,
              "#0d0887"
             ],
             [
              0.1111111111111111,
              "#46039f"
             ],
             [
              0.2222222222222222,
              "#7201a8"
             ],
             [
              0.3333333333333333,
              "#9c179e"
             ],
             [
              0.4444444444444444,
              "#bd3786"
             ],
             [
              0.5555555555555556,
              "#d8576b"
             ],
             [
              0.6666666666666666,
              "#ed7953"
             ],
             [
              0.7777777777777778,
              "#fb9f3a"
             ],
             [
              0.8888888888888888,
              "#fdca26"
             ],
             [
              1,
              "#f0f921"
             ]
            ],
            "type": "histogram2dcontour"
           }
          ],
          "mesh3d": [
           {
            "colorbar": {
             "outlinewidth": 0,
             "ticks": ""
            },
            "type": "mesh3d"
           }
          ],
          "parcoords": [
           {
            "line": {
             "colorbar": {
              "outlinewidth": 0,
              "ticks": ""
             }
            },
            "type": "parcoords"
           }
          ],
          "pie": [
           {
            "automargin": true,
            "type": "pie"
           }
          ],
          "scatter": [
           {
            "fillpattern": {
             "fillmode": "overlay",
             "size": 10,
             "solidity": 0.2
            },
            "type": "scatter"
           }
          ],
          "scatter3d": [
           {
            "line": {
             "colorbar": {
              "outlinewidth": 0,
              "ticks": ""
             }
            },
            "marker": {
             "colorbar": {
              "outlinewidth": 0,
              "ticks": ""
             }
            },
            "type": "scatter3d"
           }
          ],
          "scattercarpet": [
           {
            "marker": {
             "colorbar": {
              "outlinewidth": 0,
              "ticks": ""
             }
            },
            "type": "scattercarpet"
           }
          ],
          "scattergeo": [
           {
            "marker": {
             "colorbar": {
              "outlinewidth": 0,
              "ticks": ""
             }
            },
            "type": "scattergeo"
           }
          ],
          "scattergl": [
           {
            "marker": {
             "colorbar": {
              "outlinewidth": 0,
              "ticks": ""
             }
            },
            "type": "scattergl"
           }
          ],
          "scattermapbox": [
           {
            "marker": {
             "colorbar": {
              "outlinewidth": 0,
              "ticks": ""
             }
            },
            "type": "scattermapbox"
           }
          ],
          "scatterpolar": [
           {
            "marker": {
             "colorbar": {
              "outlinewidth": 0,
              "ticks": ""
             }
            },
            "type": "scatterpolar"
           }
          ],
          "scatterpolargl": [
           {
            "marker": {
             "colorbar": {
              "outlinewidth": 0,
              "ticks": ""
             }
            },
            "type": "scatterpolargl"
           }
          ],
          "scatterternary": [
           {
            "marker": {
             "colorbar": {
              "outlinewidth": 0,
              "ticks": ""
             }
            },
            "type": "scatterternary"
           }
          ],
          "surface": [
           {
            "colorbar": {
             "outlinewidth": 0,
             "ticks": ""
            },
            "colorscale": [
             [
              0,
              "#0d0887"
             ],
             [
              0.1111111111111111,
              "#46039f"
             ],
             [
              0.2222222222222222,
              "#7201a8"
             ],
             [
              0.3333333333333333,
              "#9c179e"
             ],
             [
              0.4444444444444444,
              "#bd3786"
             ],
             [
              0.5555555555555556,
              "#d8576b"
             ],
             [
              0.6666666666666666,
              "#ed7953"
             ],
             [
              0.7777777777777778,
              "#fb9f3a"
             ],
             [
              0.8888888888888888,
              "#fdca26"
             ],
             [
              1,
              "#f0f921"
             ]
            ],
            "type": "surface"
           }
          ],
          "table": [
           {
            "cells": {
             "fill": {
              "color": "#EBF0F8"
             },
             "line": {
              "color": "white"
             }
            },
            "header": {
             "fill": {
              "color": "#C8D4E3"
             },
             "line": {
              "color": "white"
             }
            },
            "type": "table"
           }
          ]
         },
         "layout": {
          "annotationdefaults": {
           "arrowcolor": "#2a3f5f",
           "arrowhead": 0,
           "arrowwidth": 1
          },
          "autotypenumbers": "strict",
          "coloraxis": {
           "colorbar": {
            "outlinewidth": 0,
            "ticks": ""
           }
          },
          "colorscale": {
           "diverging": [
            [
             0,
             "#8e0152"
            ],
            [
             0.1,
             "#c51b7d"
            ],
            [
             0.2,
             "#de77ae"
            ],
            [
             0.3,
             "#f1b6da"
            ],
            [
             0.4,
             "#fde0ef"
            ],
            [
             0.5,
             "#f7f7f7"
            ],
            [
             0.6,
             "#e6f5d0"
            ],
            [
             0.7,
             "#b8e186"
            ],
            [
             0.8,
             "#7fbc41"
            ],
            [
             0.9,
             "#4d9221"
            ],
            [
             1,
             "#276419"
            ]
           ],
           "sequential": [
            [
             0,
             "#0d0887"
            ],
            [
             0.1111111111111111,
             "#46039f"
            ],
            [
             0.2222222222222222,
             "#7201a8"
            ],
            [
             0.3333333333333333,
             "#9c179e"
            ],
            [
             0.4444444444444444,
             "#bd3786"
            ],
            [
             0.5555555555555556,
             "#d8576b"
            ],
            [
             0.6666666666666666,
             "#ed7953"
            ],
            [
             0.7777777777777778,
             "#fb9f3a"
            ],
            [
             0.8888888888888888,
             "#fdca26"
            ],
            [
             1,
             "#f0f921"
            ]
           ],
           "sequentialminus": [
            [
             0,
             "#0d0887"
            ],
            [
             0.1111111111111111,
             "#46039f"
            ],
            [
             0.2222222222222222,
             "#7201a8"
            ],
            [
             0.3333333333333333,
             "#9c179e"
            ],
            [
             0.4444444444444444,
             "#bd3786"
            ],
            [
             0.5555555555555556,
             "#d8576b"
            ],
            [
             0.6666666666666666,
             "#ed7953"
            ],
            [
             0.7777777777777778,
             "#fb9f3a"
            ],
            [
             0.8888888888888888,
             "#fdca26"
            ],
            [
             1,
             "#f0f921"
            ]
           ]
          },
          "colorway": [
           "#636efa",
           "#EF553B",
           "#00cc96",
           "#ab63fa",
           "#FFA15A",
           "#19d3f3",
           "#FF6692",
           "#B6E880",
           "#FF97FF",
           "#FECB52"
          ],
          "font": {
           "color": "#2a3f5f"
          },
          "geo": {
           "bgcolor": "white",
           "lakecolor": "white",
           "landcolor": "#E5ECF6",
           "showlakes": true,
           "showland": true,
           "subunitcolor": "white"
          },
          "hoverlabel": {
           "align": "left"
          },
          "hovermode": "closest",
          "mapbox": {
           "style": "light"
          },
          "paper_bgcolor": "white",
          "plot_bgcolor": "#E5ECF6",
          "polar": {
           "angularaxis": {
            "gridcolor": "white",
            "linecolor": "white",
            "ticks": ""
           },
           "bgcolor": "#E5ECF6",
           "radialaxis": {
            "gridcolor": "white",
            "linecolor": "white",
            "ticks": ""
           }
          },
          "scene": {
           "xaxis": {
            "backgroundcolor": "#E5ECF6",
            "gridcolor": "white",
            "gridwidth": 2,
            "linecolor": "white",
            "showbackground": true,
            "ticks": "",
            "zerolinecolor": "white"
           },
           "yaxis": {
            "backgroundcolor": "#E5ECF6",
            "gridcolor": "white",
            "gridwidth": 2,
            "linecolor": "white",
            "showbackground": true,
            "ticks": "",
            "zerolinecolor": "white"
           },
           "zaxis": {
            "backgroundcolor": "#E5ECF6",
            "gridcolor": "white",
            "gridwidth": 2,
            "linecolor": "white",
            "showbackground": true,
            "ticks": "",
            "zerolinecolor": "white"
           }
          },
          "shapedefaults": {
           "line": {
            "color": "#2a3f5f"
           }
          },
          "ternary": {
           "aaxis": {
            "gridcolor": "white",
            "linecolor": "white",
            "ticks": ""
           },
           "baxis": {
            "gridcolor": "white",
            "linecolor": "white",
            "ticks": ""
           },
           "bgcolor": "#E5ECF6",
           "caxis": {
            "gridcolor": "white",
            "linecolor": "white",
            "ticks": ""
           }
          },
          "title": {
           "x": 0.05
          },
          "xaxis": {
           "automargin": true,
           "gridcolor": "white",
           "linecolor": "white",
           "ticks": "",
           "title": {
            "standoff": 15
           },
           "zerolinecolor": "white",
           "zerolinewidth": 2
          },
          "yaxis": {
           "automargin": true,
           "gridcolor": "white",
           "linecolor": "white",
           "ticks": "",
           "title": {
            "standoff": 15
           },
           "zerolinecolor": "white",
           "zerolinewidth": 2
          }
         }
        },
        "title": {
         "text": "Timeline"
        },
        "xaxis": {
         "anchor": "y",
         "domain": [
          0,
          1
         ],
         "type": "date"
        },
        "yaxis": {
         "anchor": "x",
         "domain": [
          0,
          1
         ],
         "title": {
          "text": "alert_id"
         }
        }
       }
      },
      "text/html": [
       "<div>                            <div id=\"8b8f20c1-16f4-440a-89ab-5a645f4f0fae\" class=\"plotly-graph-div\" style=\"height:600px; width:100%;\"></div>            <script type=\"text/javascript\">                require([\"plotly\"], function(Plotly) {                    window.PLOTLYENV=window.PLOTLYENV || {};                                    if (document.getElementById(\"8b8f20c1-16f4-440a-89ab-5a645f4f0fae\")) {                    Plotly.newPlot(                        \"8b8f20c1-16f4-440a-89ab-5a645f4f0fae\",                        [{\"alignmentgroup\":\"True\",\"base\":[\"2024-03-22T09:47:00+00:00\"],\"hovertemplate\":\"severity=critical\\u003cbr\\u003estart=%{base}\\u003cbr\\u003eend=%{x}\\u003cbr\\u003ealert_id=%{y}\\u003cextra\\u003e\\u003c\\u002fextra\\u003e\",\"legendgroup\":\"critical\",\"marker\":{\"color\":\"red\",\"pattern\":{\"shape\":\"\"}},\"name\":\"critical\",\"offsetgroup\":\"critical\",\"orientation\":\"h\",\"showlegend\":true,\"textposition\":\"auto\",\"x\":[1560000.0],\"xaxis\":\"x\",\"y\":[\"KubeNodeNotReady-1\"],\"yaxis\":\"y\",\"type\":\"bar\",\"width\":0.8},{\"alignmentgroup\":\"True\",\"base\":[\"2024-03-22T09:47:00+00:00\",\"2024-03-22T09:43:00+00:00\",\"2024-03-22T09:40:00+00:00\"],\"hovertemplate\":\"severity=warning\\u003cbr\\u003estart=%{base}\\u003cbr\\u003eend=%{x}\\u003cbr\\u003ealert_id=%{y}\\u003cextra\\u003e\\u003c\\u002fextra\\u003e\",\"legendgroup\":\"warning\",\"marker\":{\"color\":\"orange\",\"pattern\":{\"shape\":\"\"}},\"name\":\"warning\",\"offsetgroup\":\"warning\",\"orientation\":\"h\",\"showlegend\":true,\"textposition\":\"auto\",\"x\":[1320000.0,2100000.0,1860000.0],\"xaxis\":\"x\",\"y\":[\"KubeDeploymentReplicasMismatch-1\",\"TargetDown-1\",\"noise_w-1\"],\"yaxis\":\"y\",\"type\":\"bar\",\"width\":0.8}],                        {\"template\":{\"data\":{\"histogram2dcontour\":[{\"type\":\"histogram2dcontour\",\"colorbar\":{\"outlinewidth\":0,\"ticks\":\"\"},\"colorscale\":[[0.0,\"#0d0887\"],[0.1111111111111111,\"#46039f\"],[0.2222222222222222,\"#7201a8\"],[0.3333333333333333,\"#9c179e\"],[0.4444444444444444,\"#bd3786\"],[0.5555555555555556,\"#d8576b\"],[0.6666666666666666,\"#ed7953\"],[0.7777777777777778,\"#fb9f3a\"],[0.8888888888888888,\"#fdca26\"],[1.0,\"#f0f921\"]]}],\"choropleth\":[{\"type\":\"choropleth\",\"colorbar\":{\"outlinewidth\":0,\"ticks\":\"\"}}],\"histogram2d\":[{\"type\":\"histogram2d\",\"colorbar\":{\"outlinewidth\":0,\"ticks\":\"\"},\"colorscale\":[[0.0,\"#0d0887\"],[0.1111111111111111,\"#46039f\"],[0.2222222222222222,\"#7201a8\"],[0.3333333333333333,\"#9c179e\"],[0.4444444444444444,\"#bd3786\"],[0.5555555555555556,\"#d8576b\"],[0.6666666666666666,\"#ed7953\"],[0.7777777777777778,\"#fb9f3a\"],[0.8888888888888888,\"#fdca26\"],[1.0,\"#f0f921\"]]}],\"heatmap\":[{\"type\":\"heatmap\",\"colorbar\":{\"outlinewidth\":0,\"ticks\":\"\"},\"colorscale\":[[0.0,\"#0d0887\"],[0.1111111111111111,\"#46039f\"],[0.2222222222222222,\"#7201a8\"],[0.3333333333333333,\"#9c179e\"],[0.4444444444444444,\"#bd3786\"],[0.5555555555555556,\"#d8576b\"],[0.6666666666666666,\"#ed7953\"],[0.7777777777777778,\"#fb9f3a\"],[0.8888888888888888,\"#fdca26\"],[1.0,\"#f0f921\"]]}],\"heatmapgl\":[{\"type\":\"heatmapgl\",\"colorbar\":{\"outlinewidth\":0,\"ticks\":\"\"},\"colorscale\":[[0.0,\"#0d0887\"],[0.1111111111111111,\"#46039f\"],[0.2222222222222222,\"#7201a8\"],[0.3333333333333333,\"#9c179e\"],[0.4444444444444444,\"#bd3786\"],[0.5555555555555556,\"#d8576b\"],[0.6666666666666666,\"#ed7953\"],[0.7777777777777778,\"#fb9f3a\"],[0.8888888888888888,\"#fdca26\"],[1.0,\"#f0f921\"]]}],\"contourcarpet\":[{\"type\":\"contourcarpet\",\"colorbar\":{\"outlinewidth\":0,\"ticks\":\"\"}}],\"contour\":[{\"type\":\"contour\",\"colorbar\":{\"outlinewidth\":0,\"ticks\":\"\"},\"colorscale\":[[0.0,\"#0d0887\"],[0.1111111111111111,\"#46039f\"],[0.2222222222222222,\"#7201a8\"],[0.3333333333333333,\"#9c179e\"],[0.4444444444444444,\"#bd3786\"],[0.5555555555555556,\"#d8576b\"],[0.6666666666666666,\"#ed7953\"],[0.7777777777777778,\"#fb9f3a\"],[0.8888888888888888,\"#fdca26\"],[1.0,\"#f0f921\"]]}],\"surface\":[{\"type\":\"surface\",\"colorbar\":{\"outlinewidth\":0,\"ticks\":\"\"},\"colorscale\":[[0.0,\"#0d0887\"],[0.1111111111111111,\"#46039f\"],[0.2222222222222222,\"#7201a8\"],[0.3333333333333333,\"#9c179e\"],[0.4444444444444444,\"#bd3786\"],[0.5555555555555556,\"#d8576b\"],[0.6666666666666666,\"#ed7953\"],[0.7777777777777778,\"#fb9f3a\"],[0.8888888888888888,\"#fdca26\"],[1.0,\"#f0f921\"]]}],\"mesh3d\":[{\"type\":\"mesh3d\",\"colorbar\":{\"outlinewidth\":0,\"ticks\":\"\"}}],\"scatter\":[{\"fillpattern\":{\"fillmode\":\"overlay\",\"size\":10,\"solidity\":0.2},\"type\":\"scatter\"}],\"parcoords\":[{\"type\":\"parcoords\",\"line\":{\"colorbar\":{\"outlinewidth\":0,\"ticks\":\"\"}}}],\"scatterpolargl\":[{\"type\":\"scatterpolargl\",\"marker\":{\"colorbar\":{\"outlinewidth\":0,\"ticks\":\"\"}}}],\"bar\":[{\"error_x\":{\"color\":\"#2a3f5f\"},\"error_y\":{\"color\":\"#2a3f5f\"},\"marker\":{\"line\":{\"color\":\"#E5ECF6\",\"width\":0.5},\"pattern\":{\"fillmode\":\"overlay\",\"size\":10,\"solidity\":0.2}},\"type\":\"bar\"}],\"scattergeo\":[{\"type\":\"scattergeo\",\"marker\":{\"colorbar\":{\"outlinewidth\":0,\"ticks\":\"\"}}}],\"scatterpolar\":[{\"type\":\"scatterpolar\",\"marker\":{\"colorbar\":{\"outlinewidth\":0,\"ticks\":\"\"}}}],\"histogram\":[{\"marker\":{\"pattern\":{\"fillmode\":\"overlay\",\"size\":10,\"solidity\":0.2}},\"type\":\"histogram\"}],\"scattergl\":[{\"type\":\"scattergl\",\"marker\":{\"colorbar\":{\"outlinewidth\":0,\"ticks\":\"\"}}}],\"scatter3d\":[{\"type\":\"scatter3d\",\"line\":{\"colorbar\":{\"outlinewidth\":0,\"ticks\":\"\"}},\"marker\":{\"colorbar\":{\"outlinewidth\":0,\"ticks\":\"\"}}}],\"scattermapbox\":[{\"type\":\"scattermapbox\",\"marker\":{\"colorbar\":{\"outlinewidth\":0,\"ticks\":\"\"}}}],\"scatterternary\":[{\"type\":\"scatterternary\",\"marker\":{\"colorbar\":{\"outlinewidth\":0,\"ticks\":\"\"}}}],\"scattercarpet\":[{\"type\":\"scattercarpet\",\"marker\":{\"colorbar\":{\"outlinewidth\":0,\"ticks\":\"\"}}}],\"carpet\":[{\"aaxis\":{\"endlinecolor\":\"#2a3f5f\",\"gridcolor\":\"white\",\"linecolor\":\"white\",\"minorgridcolor\":\"white\",\"startlinecolor\":\"#2a3f5f\"},\"baxis\":{\"endlinecolor\":\"#2a3f5f\",\"gridcolor\":\"white\",\"linecolor\":\"white\",\"minorgridcolor\":\"white\",\"startlinecolor\":\"#2a3f5f\"},\"type\":\"carpet\"}],\"table\":[{\"cells\":{\"fill\":{\"color\":\"#EBF0F8\"},\"line\":{\"color\":\"white\"}},\"header\":{\"fill\":{\"color\":\"#C8D4E3\"},\"line\":{\"color\":\"white\"}},\"type\":\"table\"}],\"barpolar\":[{\"marker\":{\"line\":{\"color\":\"#E5ECF6\",\"width\":0.5},\"pattern\":{\"fillmode\":\"overlay\",\"size\":10,\"solidity\":0.2}},\"type\":\"barpolar\"}],\"pie\":[{\"automargin\":true,\"type\":\"pie\"}]},\"layout\":{\"autotypenumbers\":\"strict\",\"colorway\":[\"#636efa\",\"#EF553B\",\"#00cc96\",\"#ab63fa\",\"#FFA15A\",\"#19d3f3\",\"#FF6692\",\"#B6E880\",\"#FF97FF\",\"#FECB52\"],\"font\":{\"color\":\"#2a3f5f\"},\"hovermode\":\"closest\",\"hoverlabel\":{\"align\":\"left\"},\"paper_bgcolor\":\"white\",\"plot_bgcolor\":\"#E5ECF6\",\"polar\":{\"bgcolor\":\"#E5ECF6\",\"angularaxis\":{\"gridcolor\":\"white\",\"linecolor\":\"white\",\"ticks\":\"\"},\"radialaxis\":{\"gridcolor\":\"white\",\"linecolor\":\"white\",\"ticks\":\"\"}},\"ternary\":{\"bgcolor\":\"#E5ECF6\",\"aaxis\":{\"gridcolor\":\"white\",\"linecolor\":\"white\",\"ticks\":\"\"},\"baxis\":{\"gridcolor\":\"white\",\"linecolor\":\"white\",\"ticks\":\"\"},\"caxis\":{\"gridcolor\":\"white\",\"linecolor\":\"white\",\"ticks\":\"\"}},\"coloraxis\":{\"colorbar\":{\"outlinewidth\":0,\"ticks\":\"\"}},\"colorscale\":{\"sequential\":[[0.0,\"#0d0887\"],[0.1111111111111111,\"#46039f\"],[0.2222222222222222,\"#7201a8\"],[0.3333333333333333,\"#9c179e\"],[0.4444444444444444,\"#bd3786\"],[0.5555555555555556,\"#d8576b\"],[0.6666666666666666,\"#ed7953\"],[0.7777777777777778,\"#fb9f3a\"],[0.8888888888888888,\"#fdca26\"],[1.0,\"#f0f921\"]],\"sequentialminus\":[[0.0,\"#0d0887\"],[0.1111111111111111,\"#46039f\"],[0.2222222222222222,\"#7201a8\"],[0.3333333333333333,\"#9c179e\"],[0.4444444444444444,\"#bd3786\"],[0.5555555555555556,\"#d8576b\"],[0.6666666666666666,\"#ed7953\"],[0.7777777777777778,\"#fb9f3a\"],[0.8888888888888888,\"#fdca26\"],[1.0,\"#f0f921\"]],\"diverging\":[[0,\"#8e0152\"],[0.1,\"#c51b7d\"],[0.2,\"#de77ae\"],[0.3,\"#f1b6da\"],[0.4,\"#fde0ef\"],[0.5,\"#f7f7f7\"],[0.6,\"#e6f5d0\"],[0.7,\"#b8e186\"],[0.8,\"#7fbc41\"],[0.9,\"#4d9221\"],[1,\"#276419\"]]},\"xaxis\":{\"gridcolor\":\"white\",\"linecolor\":\"white\",\"ticks\":\"\",\"title\":{\"standoff\":15},\"zerolinecolor\":\"white\",\"automargin\":true,\"zerolinewidth\":2},\"yaxis\":{\"gridcolor\":\"white\",\"linecolor\":\"white\",\"ticks\":\"\",\"title\":{\"standoff\":15},\"zerolinecolor\":\"white\",\"automargin\":true,\"zerolinewidth\":2},\"scene\":{\"xaxis\":{\"backgroundcolor\":\"#E5ECF6\",\"gridcolor\":\"white\",\"linecolor\":\"white\",\"showbackground\":true,\"ticks\":\"\",\"zerolinecolor\":\"white\",\"gridwidth\":2},\"yaxis\":{\"backgroundcolor\":\"#E5ECF6\",\"gridcolor\":\"white\",\"linecolor\":\"white\",\"showbackground\":true,\"ticks\":\"\",\"zerolinecolor\":\"white\",\"gridwidth\":2},\"zaxis\":{\"backgroundcolor\":\"#E5ECF6\",\"gridcolor\":\"white\",\"linecolor\":\"white\",\"showbackground\":true,\"ticks\":\"\",\"zerolinecolor\":\"white\",\"gridwidth\":2}},\"shapedefaults\":{\"line\":{\"color\":\"#2a3f5f\"}},\"annotationdefaults\":{\"arrowcolor\":\"#2a3f5f\",\"arrowhead\":0,\"arrowwidth\":1},\"geo\":{\"bgcolor\":\"white\",\"landcolor\":\"#E5ECF6\",\"subunitcolor\":\"white\",\"showland\":true,\"showlakes\":true,\"lakecolor\":\"white\"},\"title\":{\"x\":0.05},\"mapbox\":{\"style\":\"light\"}}},\"xaxis\":{\"anchor\":\"y\",\"domain\":[0.0,1.0],\"type\":\"date\"},\"yaxis\":{\"anchor\":\"x\",\"domain\":[0.0,1.0],\"title\":{\"text\":\"alert_id\"}},\"legend\":{\"title\":{\"text\":\"severity\"},\"tracegroupgap\":0},\"title\":{\"text\":\"Timeline\"},\"barmode\":\"overlay\",\"showlegend\":false,\"bargap\":0.1,\"height\":600},                        {\"responsive\": true}                    ).then(function(){\n",
       "                            \n",
       "var gd = document.getElementById('8b8f20c1-16f4-440a-89ab-5a645f4f0fae');\n",
       "var x = new MutationObserver(function (mutations, observer) {{\n",
       "        var display = window.getComputedStyle(gd).display;\n",
       "        if (!display || display === 'none') {{\n",
       "            console.log([gd, 'removed!']);\n",
       "            Plotly.purge(gd);\n",
       "            observer.disconnect();\n",
       "        }}\n",
       "}});\n",
       "\n",
       "// Listen for the removal of the full notebook cells\n",
       "var notebookContainer = gd.closest('#notebook-container');\n",
       "if (notebookContainer) {{\n",
       "    x.observe(notebookContainer, {childList: true});\n",
       "}}\n",
       "\n",
       "// Listen for the clearing of the current output cell\n",
       "var outputEl = gd.closest('.output');\n",
       "if (outputEl) {{\n",
       "    x.observe(outputEl, {childList: true});\n",
       "}}\n",
       "\n",
       "                        })                };                });            </script>        </div>"
      ]
     },
     "metadata": {},
     "output_type": "display_data"
    }
   ],
   "source": [
    "plot_alerts_timeline(alerts_intervals, alert_id=alert_id).show()\n",
    "\n",
    "plot_alerts_timeline(\n",
    "    alerts_intervals.fmap(lambda df: df.query(\"instance_id == '1'\")), alert_id=alert_id\n",
    ").show()"
   ]
  },
  {
   "cell_type": "code",
   "execution_count": 10,
   "id": "df0db889",
   "metadata": {
    "ExecuteTime": {
     "end_time": "2024-03-18T18:53:36.356172Z",
     "start_time": "2024-03-18T18:53:36.198573Z"
    }
   },
   "outputs": [
    {
     "data": {
      "text/html": [
       "<div>\n",
       "<style scoped>\n",
       "    .dataframe tbody tr th:only-of-type {\n",
       "        vertical-align: middle;\n",
       "    }\n",
       "\n",
       "    .dataframe tbody tr th {\n",
       "        vertical-align: top;\n",
       "    }\n",
       "\n",
       "    .dataframe thead th {\n",
       "        text-align: right;\n",
       "    }\n",
       "</style>\n",
       "<table border=\"1\" class=\"dataframe\">\n",
       "  <thead>\n",
       "    <tr style=\"text-align: right;\">\n",
       "      <th>alertname</th>\n",
       "      <th>ElasticsearchClusterNotHealthy</th>\n",
       "      <th>ElasticsearchJVMHeapUseHigh</th>\n",
       "      <th>KubeDeploymentReplicasMismatch</th>\n",
       "      <th>KubeNodeNotReady</th>\n",
       "      <th>TargetDown</th>\n",
       "      <th>noise_b</th>\n",
       "      <th>noise_c</th>\n",
       "      <th>noise_d</th>\n",
       "      <th>noise_e</th>\n",
       "      <th>noise_f</th>\n",
       "      <th>...</th>\n",
       "      <th>noise_p</th>\n",
       "      <th>noise_q</th>\n",
       "      <th>noise_r</th>\n",
       "      <th>noise_s</th>\n",
       "      <th>noise_t</th>\n",
       "      <th>noise_u</th>\n",
       "      <th>noise_v</th>\n",
       "      <th>noise_w</th>\n",
       "      <th>noise_x</th>\n",
       "      <th>noise_y</th>\n",
       "    </tr>\n",
       "    <tr>\n",
       "      <th>group_id</th>\n",
       "      <th></th>\n",
       "      <th></th>\n",
       "      <th></th>\n",
       "      <th></th>\n",
       "      <th></th>\n",
       "      <th></th>\n",
       "      <th></th>\n",
       "      <th></th>\n",
       "      <th></th>\n",
       "      <th></th>\n",
       "      <th></th>\n",
       "      <th></th>\n",
       "      <th></th>\n",
       "      <th></th>\n",
       "      <th></th>\n",
       "      <th></th>\n",
       "      <th></th>\n",
       "      <th></th>\n",
       "      <th></th>\n",
       "      <th></th>\n",
       "      <th></th>\n",
       "    </tr>\n",
       "  </thead>\n",
       "  <tbody>\n",
       "    <tr>\n",
       "      <th>1-0</th>\n",
       "      <td>0</td>\n",
       "      <td>0</td>\n",
       "      <td>0</td>\n",
       "      <td>0</td>\n",
       "      <td>1</td>\n",
       "      <td>0</td>\n",
       "      <td>0</td>\n",
       "      <td>0</td>\n",
       "      <td>0</td>\n",
       "      <td>0</td>\n",
       "      <td>...</td>\n",
       "      <td>0</td>\n",
       "      <td>0</td>\n",
       "      <td>0</td>\n",
       "      <td>0</td>\n",
       "      <td>0</td>\n",
       "      <td>0</td>\n",
       "      <td>0</td>\n",
       "      <td>1</td>\n",
       "      <td>0</td>\n",
       "      <td>0</td>\n",
       "    </tr>\n",
       "    <tr>\n",
       "      <th>1-1</th>\n",
       "      <td>0</td>\n",
       "      <td>0</td>\n",
       "      <td>1</td>\n",
       "      <td>1</td>\n",
       "      <td>0</td>\n",
       "      <td>0</td>\n",
       "      <td>0</td>\n",
       "      <td>0</td>\n",
       "      <td>0</td>\n",
       "      <td>0</td>\n",
       "      <td>...</td>\n",
       "      <td>0</td>\n",
       "      <td>0</td>\n",
       "      <td>0</td>\n",
       "      <td>0</td>\n",
       "      <td>0</td>\n",
       "      <td>0</td>\n",
       "      <td>0</td>\n",
       "      <td>0</td>\n",
       "      <td>0</td>\n",
       "      <td>0</td>\n",
       "    </tr>\n",
       "    <tr>\n",
       "      <th>10-0</th>\n",
       "      <td>1</td>\n",
       "      <td>1</td>\n",
       "      <td>0</td>\n",
       "      <td>0</td>\n",
       "      <td>0</td>\n",
       "      <td>0</td>\n",
       "      <td>0</td>\n",
       "      <td>0</td>\n",
       "      <td>0</td>\n",
       "      <td>0</td>\n",
       "      <td>...</td>\n",
       "      <td>0</td>\n",
       "      <td>0</td>\n",
       "      <td>0</td>\n",
       "      <td>0</td>\n",
       "      <td>0</td>\n",
       "      <td>0</td>\n",
       "      <td>0</td>\n",
       "      <td>0</td>\n",
       "      <td>0</td>\n",
       "      <td>0</td>\n",
       "    </tr>\n",
       "    <tr>\n",
       "      <th>10-1</th>\n",
       "      <td>0</td>\n",
       "      <td>1</td>\n",
       "      <td>0</td>\n",
       "      <td>0</td>\n",
       "      <td>0</td>\n",
       "      <td>0</td>\n",
       "      <td>0</td>\n",
       "      <td>0</td>\n",
       "      <td>0</td>\n",
       "      <td>0</td>\n",
       "      <td>...</td>\n",
       "      <td>0</td>\n",
       "      <td>0</td>\n",
       "      <td>0</td>\n",
       "      <td>0</td>\n",
       "      <td>0</td>\n",
       "      <td>0</td>\n",
       "      <td>0</td>\n",
       "      <td>0</td>\n",
       "      <td>0</td>\n",
       "      <td>0</td>\n",
       "    </tr>\n",
       "    <tr>\n",
       "      <th>10-2</th>\n",
       "      <td>0</td>\n",
       "      <td>1</td>\n",
       "      <td>0</td>\n",
       "      <td>0</td>\n",
       "      <td>0</td>\n",
       "      <td>0</td>\n",
       "      <td>0</td>\n",
       "      <td>0</td>\n",
       "      <td>0</td>\n",
       "      <td>0</td>\n",
       "      <td>...</td>\n",
       "      <td>0</td>\n",
       "      <td>0</td>\n",
       "      <td>0</td>\n",
       "      <td>0</td>\n",
       "      <td>0</td>\n",
       "      <td>0</td>\n",
       "      <td>0</td>\n",
       "      <td>0</td>\n",
       "      <td>0</td>\n",
       "      <td>0</td>\n",
       "    </tr>\n",
       "    <tr>\n",
       "      <th>...</th>\n",
       "      <td>...</td>\n",
       "      <td>...</td>\n",
       "      <td>...</td>\n",
       "      <td>...</td>\n",
       "      <td>...</td>\n",
       "      <td>...</td>\n",
       "      <td>...</td>\n",
       "      <td>...</td>\n",
       "      <td>...</td>\n",
       "      <td>...</td>\n",
       "      <td>...</td>\n",
       "      <td>...</td>\n",
       "      <td>...</td>\n",
       "      <td>...</td>\n",
       "      <td>...</td>\n",
       "      <td>...</td>\n",
       "      <td>...</td>\n",
       "      <td>...</td>\n",
       "      <td>...</td>\n",
       "      <td>...</td>\n",
       "      <td>...</td>\n",
       "    </tr>\n",
       "    <tr>\n",
       "      <th>95-4</th>\n",
       "      <td>0</td>\n",
       "      <td>1</td>\n",
       "      <td>0</td>\n",
       "      <td>0</td>\n",
       "      <td>0</td>\n",
       "      <td>0</td>\n",
       "      <td>0</td>\n",
       "      <td>0</td>\n",
       "      <td>0</td>\n",
       "      <td>0</td>\n",
       "      <td>...</td>\n",
       "      <td>0</td>\n",
       "      <td>0</td>\n",
       "      <td>0</td>\n",
       "      <td>0</td>\n",
       "      <td>0</td>\n",
       "      <td>0</td>\n",
       "      <td>0</td>\n",
       "      <td>0</td>\n",
       "      <td>0</td>\n",
       "      <td>0</td>\n",
       "    </tr>\n",
       "    <tr>\n",
       "      <th>95-5</th>\n",
       "      <td>0</td>\n",
       "      <td>1</td>\n",
       "      <td>0</td>\n",
       "      <td>0</td>\n",
       "      <td>0</td>\n",
       "      <td>0</td>\n",
       "      <td>0</td>\n",
       "      <td>0</td>\n",
       "      <td>0</td>\n",
       "      <td>0</td>\n",
       "      <td>...</td>\n",
       "      <td>0</td>\n",
       "      <td>0</td>\n",
       "      <td>0</td>\n",
       "      <td>0</td>\n",
       "      <td>0</td>\n",
       "      <td>0</td>\n",
       "      <td>0</td>\n",
       "      <td>0</td>\n",
       "      <td>0</td>\n",
       "      <td>0</td>\n",
       "    </tr>\n",
       "    <tr>\n",
       "      <th>96-0</th>\n",
       "      <td>0</td>\n",
       "      <td>0</td>\n",
       "      <td>1</td>\n",
       "      <td>1</td>\n",
       "      <td>1</td>\n",
       "      <td>0</td>\n",
       "      <td>0</td>\n",
       "      <td>0</td>\n",
       "      <td>0</td>\n",
       "      <td>0</td>\n",
       "      <td>...</td>\n",
       "      <td>0</td>\n",
       "      <td>0</td>\n",
       "      <td>0</td>\n",
       "      <td>0</td>\n",
       "      <td>0</td>\n",
       "      <td>0</td>\n",
       "      <td>0</td>\n",
       "      <td>0</td>\n",
       "      <td>0</td>\n",
       "      <td>0</td>\n",
       "    </tr>\n",
       "    <tr>\n",
       "      <th>98-0</th>\n",
       "      <td>0</td>\n",
       "      <td>0</td>\n",
       "      <td>1</td>\n",
       "      <td>0</td>\n",
       "      <td>1</td>\n",
       "      <td>0</td>\n",
       "      <td>0</td>\n",
       "      <td>0</td>\n",
       "      <td>0</td>\n",
       "      <td>0</td>\n",
       "      <td>...</td>\n",
       "      <td>0</td>\n",
       "      <td>0</td>\n",
       "      <td>0</td>\n",
       "      <td>0</td>\n",
       "      <td>0</td>\n",
       "      <td>0</td>\n",
       "      <td>0</td>\n",
       "      <td>0</td>\n",
       "      <td>0</td>\n",
       "      <td>0</td>\n",
       "    </tr>\n",
       "    <tr>\n",
       "      <th>98-1</th>\n",
       "      <td>0</td>\n",
       "      <td>0</td>\n",
       "      <td>0</td>\n",
       "      <td>1</td>\n",
       "      <td>0</td>\n",
       "      <td>0</td>\n",
       "      <td>1</td>\n",
       "      <td>0</td>\n",
       "      <td>0</td>\n",
       "      <td>0</td>\n",
       "      <td>...</td>\n",
       "      <td>0</td>\n",
       "      <td>0</td>\n",
       "      <td>0</td>\n",
       "      <td>0</td>\n",
       "      <td>0</td>\n",
       "      <td>0</td>\n",
       "      <td>0</td>\n",
       "      <td>0</td>\n",
       "      <td>0</td>\n",
       "      <td>0</td>\n",
       "    </tr>\n",
       "  </tbody>\n",
       "</table>\n",
       "<p>207 rows × 29 columns</p>\n",
       "</div>"
      ],
      "text/plain": [
       "alertname  ElasticsearchClusterNotHealthy  ElasticsearchJVMHeapUseHigh  \\\n",
       "group_id                                                                 \n",
       "1-0                                     0                            0   \n",
       "1-1                                     0                            0   \n",
       "10-0                                    1                            1   \n",
       "10-1                                    0                            1   \n",
       "10-2                                    0                            1   \n",
       "...                                   ...                          ...   \n",
       "95-4                                    0                            1   \n",
       "95-5                                    0                            1   \n",
       "96-0                                    0                            0   \n",
       "98-0                                    0                            0   \n",
       "98-1                                    0                            0   \n",
       "\n",
       "alertname  KubeDeploymentReplicasMismatch  KubeNodeNotReady  TargetDown  \\\n",
       "group_id                                                                  \n",
       "1-0                                     0                 0           1   \n",
       "1-1                                     1                 1           0   \n",
       "10-0                                    0                 0           0   \n",
       "10-1                                    0                 0           0   \n",
       "10-2                                    0                 0           0   \n",
       "...                                   ...               ...         ...   \n",
       "95-4                                    0                 0           0   \n",
       "95-5                                    0                 0           0   \n",
       "96-0                                    1                 1           1   \n",
       "98-0                                    1                 0           1   \n",
       "98-1                                    0                 1           0   \n",
       "\n",
       "alertname  noise_b  noise_c  noise_d  noise_e  noise_f  ...  noise_p  noise_q  \\\n",
       "group_id                                                ...                     \n",
       "1-0              0        0        0        0        0  ...        0        0   \n",
       "1-1              0        0        0        0        0  ...        0        0   \n",
       "10-0             0        0        0        0        0  ...        0        0   \n",
       "10-1             0        0        0        0        0  ...        0        0   \n",
       "10-2             0        0        0        0        0  ...        0        0   \n",
       "...            ...      ...      ...      ...      ...  ...      ...      ...   \n",
       "95-4             0        0        0        0        0  ...        0        0   \n",
       "95-5             0        0        0        0        0  ...        0        0   \n",
       "96-0             0        0        0        0        0  ...        0        0   \n",
       "98-0             0        0        0        0        0  ...        0        0   \n",
       "98-1             0        1        0        0        0  ...        0        0   \n",
       "\n",
       "alertname  noise_r  noise_s  noise_t  noise_u  noise_v  noise_w  noise_x  \\\n",
       "group_id                                                                   \n",
       "1-0              0        0        0        0        0        1        0   \n",
       "1-1              0        0        0        0        0        0        0   \n",
       "10-0             0        0        0        0        0        0        0   \n",
       "10-1             0        0        0        0        0        0        0   \n",
       "10-2             0        0        0        0        0        0        0   \n",
       "...            ...      ...      ...      ...      ...      ...      ...   \n",
       "95-4             0        0        0        0        0        0        0   \n",
       "95-5             0        0        0        0        0        0        0   \n",
       "96-0             0        0        0        0        0        0        0   \n",
       "98-0             0        0        0        0        0        0        0   \n",
       "98-1             0        0        0        0        0        0        0   \n",
       "\n",
       "alertname  noise_y  \n",
       "group_id            \n",
       "1-0              0  \n",
       "1-1              0  \n",
       "10-0             0  \n",
       "10-1             0  \n",
       "10-2             0  \n",
       "...            ...  \n",
       "95-4             0  \n",
       "95-5             0  \n",
       "96-0             0  \n",
       "98-0             0  \n",
       "98-1             0  \n",
       "\n",
       "[207 rows x 29 columns]"
      ]
     },
     "execution_count": 10,
     "metadata": {},
     "output_type": "execute_result"
    }
   ],
   "source": [
    "# Group alert starting within provided tolerange and turn data into one-hot encoding.\n",
    "one_hot = alerts_groups_one_hot(\n",
    "    alerts_intervals,\n",
    "    groupby_columns=[\"instance_id\"],\n",
    "    group_tolerance=timedelta(minutes=3),\n",
    ")\n",
    "\n",
    "one_hot"
   ]
  },
  {
   "cell_type": "markdown",
   "id": "71cc0caa",
   "metadata": {},
   "source": [
    "## Apply clustering alogorithm"
   ]
  },
  {
   "cell_type": "code",
   "execution_count": 11,
   "id": "7ca57e1a",
   "metadata": {
    "ExecuteTime": {
     "end_time": "2024-03-18T18:53:39.613912Z",
     "start_time": "2024-03-18T18:53:36.356985Z"
    }
   },
   "outputs": [
    {
     "data": {
      "application/vnd.plotly.v1+json": {
       "config": {
        "plotlyServerURL": "https://plot.ly"
       },
       "data": [
        {
         "marker": {
          "size": 2
         },
         "mode": "markers",
         "name": "grouping: -1",
         "text": [
          "noise_u",
          "noise_v"
         ],
         "type": "scatter3d",
         "x": [
          8.575338363647461,
          7.960437297821045
         ],
         "y": [
          1.4712144136428833,
          1.2151793241500854
         ],
         "z": [
          7.174133777618408,
          5.282956600189209
         ]
        },
        {
         "marker": {
          "size": 2
         },
         "mode": "markers",
         "name": "grouping: 0",
         "text": [
          "ElasticsearchClusterNotHealthy",
          "ElasticsearchJVMHeapUseHigh",
          "noise_b",
          "noise_c",
          "noise_d",
          "noise_e",
          "noise_f",
          "noise_g",
          "noise_h",
          "noise_i",
          "noise_j",
          "noise_l",
          "noise_m",
          "noise_n",
          "noise_o",
          "noise_p",
          "noise_q",
          "noise_r",
          "noise_s",
          "noise_w",
          "noise_x",
          "noise_y"
         ],
         "type": "scatter3d",
         "x": [
          10.385354042053223,
          10.594656944274902,
          9.043158531188965,
          9.344836235046387,
          8.590679168701172,
          9.812162399291992,
          8.850027084350586,
          8.983659744262695,
          10.203828811645508,
          9.417491912841797,
          10.02812671661377,
          9.546531677246094,
          9.991455078125,
          9.400964736938477,
          9.422139167785645,
          10.379376411437988,
          9.994071960449219,
          10.619595527648926,
          8.937660217285156,
          7.841290473937988,
          8.714742660522461,
          10.190963745117188
         ],
         "y": [
          2.364854574203491,
          2.6303598880767822,
          0.6090844869613647,
          0.09838438779115677,
          0.7043994069099426,
          1.9325106143951416,
          1.036466121673584,
          1.6089046001434326,
          1.3582208156585693,
          1.3563506603240967,
          1.1972401142120361,
          1.9005073308944702,
          1.5221939086914062,
          0.8119814395904541,
          1.3923195600509644,
          2.0827476978302,
          0.8277527093887329,
          1.3112438917160034,
          0.5591688752174377,
          1.1761488914489746,
          2.1313095092773438,
          2.0537943840026855
         ],
         "z": [
          5.315582275390625,
          5.082546710968018,
          6.948484420776367,
          6.360616683959961,
          6.1616716384887695,
          6.103759765625,
          5.9136528968811035,
          6.193650722503662,
          6.182085990905762,
          5.437123775482178,
          5.672202110290527,
          5.809682846069336,
          6.669546127319336,
          6.00461483001709,
          6.624145030975342,
          5.568164825439453,
          6.157322883605957,
          5.79209566116333,
          5.09272575378418,
          6.282773017883301,
          5.6262030601501465,
          6.485465049743652
         ]
        },
        {
         "marker": {
          "size": 2
         },
         "mode": "markers",
         "name": "grouping: 1",
         "text": [
          "KubeDeploymentReplicasMismatch",
          "KubeNodeNotReady",
          "TargetDown"
         ],
         "type": "scatter3d",
         "x": [
          -1.6609630584716797,
          -1.53969144821167,
          -1.747536540031433
         ],
         "y": [
          6.497725009918213,
          6.61890172958374,
          6.411075592041016
         ],
         "z": [
          16.657516479492188,
          16.5362548828125,
          16.744096755981445
         ]
        },
        {
         "marker": {
          "size": 2
         },
         "mode": "markers",
         "name": "grouping: 2",
         "text": [
          "noise_k",
          "noise_t"
         ],
         "type": "scatter3d",
         "x": [
          9.164762496948242,
          9.297593116760254
         ],
         "y": [
          4.681790828704834,
          4.486844062805176
         ],
         "z": [
          8.350434303283691,
          8.173213005065918
         ]
        }
       ],
       "layout": {
        "template": {
         "data": {
          "bar": [
           {
            "error_x": {
             "color": "#2a3f5f"
            },
            "error_y": {
             "color": "#2a3f5f"
            },
            "marker": {
             "line": {
              "color": "#E5ECF6",
              "width": 0.5
             },
             "pattern": {
              "fillmode": "overlay",
              "size": 10,
              "solidity": 0.2
             }
            },
            "type": "bar"
           }
          ],
          "barpolar": [
           {
            "marker": {
             "line": {
              "color": "#E5ECF6",
              "width": 0.5
             },
             "pattern": {
              "fillmode": "overlay",
              "size": 10,
              "solidity": 0.2
             }
            },
            "type": "barpolar"
           }
          ],
          "carpet": [
           {
            "aaxis": {
             "endlinecolor": "#2a3f5f",
             "gridcolor": "white",
             "linecolor": "white",
             "minorgridcolor": "white",
             "startlinecolor": "#2a3f5f"
            },
            "baxis": {
             "endlinecolor": "#2a3f5f",
             "gridcolor": "white",
             "linecolor": "white",
             "minorgridcolor": "white",
             "startlinecolor": "#2a3f5f"
            },
            "type": "carpet"
           }
          ],
          "choropleth": [
           {
            "colorbar": {
             "outlinewidth": 0,
             "ticks": ""
            },
            "type": "choropleth"
           }
          ],
          "contour": [
           {
            "colorbar": {
             "outlinewidth": 0,
             "ticks": ""
            },
            "colorscale": [
             [
              0,
              "#0d0887"
             ],
             [
              0.1111111111111111,
              "#46039f"
             ],
             [
              0.2222222222222222,
              "#7201a8"
             ],
             [
              0.3333333333333333,
              "#9c179e"
             ],
             [
              0.4444444444444444,
              "#bd3786"
             ],
             [
              0.5555555555555556,
              "#d8576b"
             ],
             [
              0.6666666666666666,
              "#ed7953"
             ],
             [
              0.7777777777777778,
              "#fb9f3a"
             ],
             [
              0.8888888888888888,
              "#fdca26"
             ],
             [
              1,
              "#f0f921"
             ]
            ],
            "type": "contour"
           }
          ],
          "contourcarpet": [
           {
            "colorbar": {
             "outlinewidth": 0,
             "ticks": ""
            },
            "type": "contourcarpet"
           }
          ],
          "heatmap": [
           {
            "colorbar": {
             "outlinewidth": 0,
             "ticks": ""
            },
            "colorscale": [
             [
              0,
              "#0d0887"
             ],
             [
              0.1111111111111111,
              "#46039f"
             ],
             [
              0.2222222222222222,
              "#7201a8"
             ],
             [
              0.3333333333333333,
              "#9c179e"
             ],
             [
              0.4444444444444444,
              "#bd3786"
             ],
             [
              0.5555555555555556,
              "#d8576b"
             ],
             [
              0.6666666666666666,
              "#ed7953"
             ],
             [
              0.7777777777777778,
              "#fb9f3a"
             ],
             [
              0.8888888888888888,
              "#fdca26"
             ],
             [
              1,
              "#f0f921"
             ]
            ],
            "type": "heatmap"
           }
          ],
          "heatmapgl": [
           {
            "colorbar": {
             "outlinewidth": 0,
             "ticks": ""
            },
            "colorscale": [
             [
              0,
              "#0d0887"
             ],
             [
              0.1111111111111111,
              "#46039f"
             ],
             [
              0.2222222222222222,
              "#7201a8"
             ],
             [
              0.3333333333333333,
              "#9c179e"
             ],
             [
              0.4444444444444444,
              "#bd3786"
             ],
             [
              0.5555555555555556,
              "#d8576b"
             ],
             [
              0.6666666666666666,
              "#ed7953"
             ],
             [
              0.7777777777777778,
              "#fb9f3a"
             ],
             [
              0.8888888888888888,
              "#fdca26"
             ],
             [
              1,
              "#f0f921"
             ]
            ],
            "type": "heatmapgl"
           }
          ],
          "histogram": [
           {
            "marker": {
             "pattern": {
              "fillmode": "overlay",
              "size": 10,
              "solidity": 0.2
             }
            },
            "type": "histogram"
           }
          ],
          "histogram2d": [
           {
            "colorbar": {
             "outlinewidth": 0,
             "ticks": ""
            },
            "colorscale": [
             [
              0,
              "#0d0887"
             ],
             [
              0.1111111111111111,
              "#46039f"
             ],
             [
              0.2222222222222222,
              "#7201a8"
             ],
             [
              0.3333333333333333,
              "#9c179e"
             ],
             [
              0.4444444444444444,
              "#bd3786"
             ],
             [
              0.5555555555555556,
              "#d8576b"
             ],
             [
              0.6666666666666666,
              "#ed7953"
             ],
             [
              0.7777777777777778,
              "#fb9f3a"
             ],
             [
              0.8888888888888888,
              "#fdca26"
             ],
             [
              1,
              "#f0f921"
             ]
            ],
            "type": "histogram2d"
           }
          ],
          "histogram2dcontour": [
           {
            "colorbar": {
             "outlinewidth": 0,
             "ticks": ""
            },
            "colorscale": [
             [
              0,
              "#0d0887"
             ],
             [
              0.1111111111111111,
              "#46039f"
             ],
             [
              0.2222222222222222,
              "#7201a8"
             ],
             [
              0.3333333333333333,
              "#9c179e"
             ],
             [
              0.4444444444444444,
              "#bd3786"
             ],
             [
              0.5555555555555556,
              "#d8576b"
             ],
             [
              0.6666666666666666,
              "#ed7953"
             ],
             [
              0.7777777777777778,
              "#fb9f3a"
             ],
             [
              0.8888888888888888,
              "#fdca26"
             ],
             [
              1,
              "#f0f921"
             ]
            ],
            "type": "histogram2dcontour"
           }
          ],
          "mesh3d": [
           {
            "colorbar": {
             "outlinewidth": 0,
             "ticks": ""
            },
            "type": "mesh3d"
           }
          ],
          "parcoords": [
           {
            "line": {
             "colorbar": {
              "outlinewidth": 0,
              "ticks": ""
             }
            },
            "type": "parcoords"
           }
          ],
          "pie": [
           {
            "automargin": true,
            "type": "pie"
           }
          ],
          "scatter": [
           {
            "fillpattern": {
             "fillmode": "overlay",
             "size": 10,
             "solidity": 0.2
            },
            "type": "scatter"
           }
          ],
          "scatter3d": [
           {
            "line": {
             "colorbar": {
              "outlinewidth": 0,
              "ticks": ""
             }
            },
            "marker": {
             "colorbar": {
              "outlinewidth": 0,
              "ticks": ""
             }
            },
            "type": "scatter3d"
           }
          ],
          "scattercarpet": [
           {
            "marker": {
             "colorbar": {
              "outlinewidth": 0,
              "ticks": ""
             }
            },
            "type": "scattercarpet"
           }
          ],
          "scattergeo": [
           {
            "marker": {
             "colorbar": {
              "outlinewidth": 0,
              "ticks": ""
             }
            },
            "type": "scattergeo"
           }
          ],
          "scattergl": [
           {
            "marker": {
             "colorbar": {
              "outlinewidth": 0,
              "ticks": ""
             }
            },
            "type": "scattergl"
           }
          ],
          "scattermapbox": [
           {
            "marker": {
             "colorbar": {
              "outlinewidth": 0,
              "ticks": ""
             }
            },
            "type": "scattermapbox"
           }
          ],
          "scatterpolar": [
           {
            "marker": {
             "colorbar": {
              "outlinewidth": 0,
              "ticks": ""
             }
            },
            "type": "scatterpolar"
           }
          ],
          "scatterpolargl": [
           {
            "marker": {
             "colorbar": {
              "outlinewidth": 0,
              "ticks": ""
             }
            },
            "type": "scatterpolargl"
           }
          ],
          "scatterternary": [
           {
            "marker": {
             "colorbar": {
              "outlinewidth": 0,
              "ticks": ""
             }
            },
            "type": "scatterternary"
           }
          ],
          "surface": [
           {
            "colorbar": {
             "outlinewidth": 0,
             "ticks": ""
            },
            "colorscale": [
             [
              0,
              "#0d0887"
             ],
             [
              0.1111111111111111,
              "#46039f"
             ],
             [
              0.2222222222222222,
              "#7201a8"
             ],
             [
              0.3333333333333333,
              "#9c179e"
             ],
             [
              0.4444444444444444,
              "#bd3786"
             ],
             [
              0.5555555555555556,
              "#d8576b"
             ],
             [
              0.6666666666666666,
              "#ed7953"
             ],
             [
              0.7777777777777778,
              "#fb9f3a"
             ],
             [
              0.8888888888888888,
              "#fdca26"
             ],
             [
              1,
              "#f0f921"
             ]
            ],
            "type": "surface"
           }
          ],
          "table": [
           {
            "cells": {
             "fill": {
              "color": "#EBF0F8"
             },
             "line": {
              "color": "white"
             }
            },
            "header": {
             "fill": {
              "color": "#C8D4E3"
             },
             "line": {
              "color": "white"
             }
            },
            "type": "table"
           }
          ]
         },
         "layout": {
          "annotationdefaults": {
           "arrowcolor": "#2a3f5f",
           "arrowhead": 0,
           "arrowwidth": 1
          },
          "autotypenumbers": "strict",
          "coloraxis": {
           "colorbar": {
            "outlinewidth": 0,
            "ticks": ""
           }
          },
          "colorscale": {
           "diverging": [
            [
             0,
             "#8e0152"
            ],
            [
             0.1,
             "#c51b7d"
            ],
            [
             0.2,
             "#de77ae"
            ],
            [
             0.3,
             "#f1b6da"
            ],
            [
             0.4,
             "#fde0ef"
            ],
            [
             0.5,
             "#f7f7f7"
            ],
            [
             0.6,
             "#e6f5d0"
            ],
            [
             0.7,
             "#b8e186"
            ],
            [
             0.8,
             "#7fbc41"
            ],
            [
             0.9,
             "#4d9221"
            ],
            [
             1,
             "#276419"
            ]
           ],
           "sequential": [
            [
             0,
             "#0d0887"
            ],
            [
             0.1111111111111111,
             "#46039f"
            ],
            [
             0.2222222222222222,
             "#7201a8"
            ],
            [
             0.3333333333333333,
             "#9c179e"
            ],
            [
             0.4444444444444444,
             "#bd3786"
            ],
            [
             0.5555555555555556,
             "#d8576b"
            ],
            [
             0.6666666666666666,
             "#ed7953"
            ],
            [
             0.7777777777777778,
             "#fb9f3a"
            ],
            [
             0.8888888888888888,
             "#fdca26"
            ],
            [
             1,
             "#f0f921"
            ]
           ],
           "sequentialminus": [
            [
             0,
             "#0d0887"
            ],
            [
             0.1111111111111111,
             "#46039f"
            ],
            [
             0.2222222222222222,
             "#7201a8"
            ],
            [
             0.3333333333333333,
             "#9c179e"
            ],
            [
             0.4444444444444444,
             "#bd3786"
            ],
            [
             0.5555555555555556,
             "#d8576b"
            ],
            [
             0.6666666666666666,
             "#ed7953"
            ],
            [
             0.7777777777777778,
             "#fb9f3a"
            ],
            [
             0.8888888888888888,
             "#fdca26"
            ],
            [
             1,
             "#f0f921"
            ]
           ]
          },
          "colorway": [
           "#636efa",
           "#EF553B",
           "#00cc96",
           "#ab63fa",
           "#FFA15A",
           "#19d3f3",
           "#FF6692",
           "#B6E880",
           "#FF97FF",
           "#FECB52"
          ],
          "font": {
           "color": "#2a3f5f"
          },
          "geo": {
           "bgcolor": "white",
           "lakecolor": "white",
           "landcolor": "#E5ECF6",
           "showlakes": true,
           "showland": true,
           "subunitcolor": "white"
          },
          "hoverlabel": {
           "align": "left"
          },
          "hovermode": "closest",
          "mapbox": {
           "style": "light"
          },
          "paper_bgcolor": "white",
          "plot_bgcolor": "#E5ECF6",
          "polar": {
           "angularaxis": {
            "gridcolor": "white",
            "linecolor": "white",
            "ticks": ""
           },
           "bgcolor": "#E5ECF6",
           "radialaxis": {
            "gridcolor": "white",
            "linecolor": "white",
            "ticks": ""
           }
          },
          "scene": {
           "xaxis": {
            "backgroundcolor": "#E5ECF6",
            "gridcolor": "white",
            "gridwidth": 2,
            "linecolor": "white",
            "showbackground": true,
            "ticks": "",
            "zerolinecolor": "white"
           },
           "yaxis": {
            "backgroundcolor": "#E5ECF6",
            "gridcolor": "white",
            "gridwidth": 2,
            "linecolor": "white",
            "showbackground": true,
            "ticks": "",
            "zerolinecolor": "white"
           },
           "zaxis": {
            "backgroundcolor": "#E5ECF6",
            "gridcolor": "white",
            "gridwidth": 2,
            "linecolor": "white",
            "showbackground": true,
            "ticks": "",
            "zerolinecolor": "white"
           }
          },
          "shapedefaults": {
           "line": {
            "color": "#2a3f5f"
           }
          },
          "ternary": {
           "aaxis": {
            "gridcolor": "white",
            "linecolor": "white",
            "ticks": ""
           },
           "baxis": {
            "gridcolor": "white",
            "linecolor": "white",
            "ticks": ""
           },
           "bgcolor": "#E5ECF6",
           "caxis": {
            "gridcolor": "white",
            "linecolor": "white",
            "ticks": ""
           }
          },
          "title": {
           "x": 0.05
          },
          "xaxis": {
           "automargin": true,
           "gridcolor": "white",
           "linecolor": "white",
           "ticks": "",
           "title": {
            "standoff": 15
           },
           "zerolinecolor": "white",
           "zerolinewidth": 2
          },
          "yaxis": {
           "automargin": true,
           "gridcolor": "white",
           "linecolor": "white",
           "ticks": "",
           "title": {
            "standoff": 15
           },
           "zerolinecolor": "white",
           "zerolinewidth": 2
          }
         }
        }
       }
      },
      "text/html": [
       "<div>                            <div id=\"859e5b6d-c335-42c7-ab20-acf2468609a9\" class=\"plotly-graph-div\" style=\"height:525px; width:100%;\"></div>            <script type=\"text/javascript\">                require([\"plotly\"], function(Plotly) {                    window.PLOTLYENV=window.PLOTLYENV || {};                                    if (document.getElementById(\"859e5b6d-c335-42c7-ab20-acf2468609a9\")) {                    Plotly.newPlot(                        \"859e5b6d-c335-42c7-ab20-acf2468609a9\",                        [{\"marker\":{\"size\":2},\"mode\":\"markers\",\"name\":\"grouping: -1\",\"text\":[\"noise_u\",\"noise_v\"],\"x\":[8.575338363647461,7.960437297821045],\"y\":[1.4712144136428833,1.2151793241500854],\"z\":[7.174133777618408,5.282956600189209],\"type\":\"scatter3d\"},{\"marker\":{\"size\":2},\"mode\":\"markers\",\"name\":\"grouping: 0\",\"text\":[\"ElasticsearchClusterNotHealthy\",\"ElasticsearchJVMHeapUseHigh\",\"noise_b\",\"noise_c\",\"noise_d\",\"noise_e\",\"noise_f\",\"noise_g\",\"noise_h\",\"noise_i\",\"noise_j\",\"noise_l\",\"noise_m\",\"noise_n\",\"noise_o\",\"noise_p\",\"noise_q\",\"noise_r\",\"noise_s\",\"noise_w\",\"noise_x\",\"noise_y\"],\"x\":[10.385354042053223,10.594656944274902,9.043158531188965,9.344836235046387,8.590679168701172,9.812162399291992,8.850027084350586,8.983659744262695,10.203828811645508,9.417491912841797,10.02812671661377,9.546531677246094,9.991455078125,9.400964736938477,9.422139167785645,10.379376411437988,9.994071960449219,10.619595527648926,8.937660217285156,7.841290473937988,8.714742660522461,10.190963745117188],\"y\":[2.364854574203491,2.6303598880767822,0.6090844869613647,0.09838438779115677,0.7043994069099426,1.9325106143951416,1.036466121673584,1.6089046001434326,1.3582208156585693,1.3563506603240967,1.1972401142120361,1.9005073308944702,1.5221939086914062,0.8119814395904541,1.3923195600509644,2.0827476978302,0.8277527093887329,1.3112438917160034,0.5591688752174377,1.1761488914489746,2.1313095092773438,2.0537943840026855],\"z\":[5.315582275390625,5.082546710968018,6.948484420776367,6.360616683959961,6.1616716384887695,6.103759765625,5.9136528968811035,6.193650722503662,6.182085990905762,5.437123775482178,5.672202110290527,5.809682846069336,6.669546127319336,6.00461483001709,6.624145030975342,5.568164825439453,6.157322883605957,5.79209566116333,5.09272575378418,6.282773017883301,5.6262030601501465,6.485465049743652],\"type\":\"scatter3d\"},{\"marker\":{\"size\":2},\"mode\":\"markers\",\"name\":\"grouping: 1\",\"text\":[\"KubeDeploymentReplicasMismatch\",\"KubeNodeNotReady\",\"TargetDown\"],\"x\":[-1.6609630584716797,-1.53969144821167,-1.747536540031433],\"y\":[6.497725009918213,6.61890172958374,6.411075592041016],\"z\":[16.657516479492188,16.5362548828125,16.744096755981445],\"type\":\"scatter3d\"},{\"marker\":{\"size\":2},\"mode\":\"markers\",\"name\":\"grouping: 2\",\"text\":[\"noise_k\",\"noise_t\"],\"x\":[9.164762496948242,9.297593116760254],\"y\":[4.681790828704834,4.486844062805176],\"z\":[8.350434303283691,8.173213005065918],\"type\":\"scatter3d\"}],                        {\"template\":{\"data\":{\"histogram2dcontour\":[{\"type\":\"histogram2dcontour\",\"colorbar\":{\"outlinewidth\":0,\"ticks\":\"\"},\"colorscale\":[[0.0,\"#0d0887\"],[0.1111111111111111,\"#46039f\"],[0.2222222222222222,\"#7201a8\"],[0.3333333333333333,\"#9c179e\"],[0.4444444444444444,\"#bd3786\"],[0.5555555555555556,\"#d8576b\"],[0.6666666666666666,\"#ed7953\"],[0.7777777777777778,\"#fb9f3a\"],[0.8888888888888888,\"#fdca26\"],[1.0,\"#f0f921\"]]}],\"choropleth\":[{\"type\":\"choropleth\",\"colorbar\":{\"outlinewidth\":0,\"ticks\":\"\"}}],\"histogram2d\":[{\"type\":\"histogram2d\",\"colorbar\":{\"outlinewidth\":0,\"ticks\":\"\"},\"colorscale\":[[0.0,\"#0d0887\"],[0.1111111111111111,\"#46039f\"],[0.2222222222222222,\"#7201a8\"],[0.3333333333333333,\"#9c179e\"],[0.4444444444444444,\"#bd3786\"],[0.5555555555555556,\"#d8576b\"],[0.6666666666666666,\"#ed7953\"],[0.7777777777777778,\"#fb9f3a\"],[0.8888888888888888,\"#fdca26\"],[1.0,\"#f0f921\"]]}],\"heatmap\":[{\"type\":\"heatmap\",\"colorbar\":{\"outlinewidth\":0,\"ticks\":\"\"},\"colorscale\":[[0.0,\"#0d0887\"],[0.1111111111111111,\"#46039f\"],[0.2222222222222222,\"#7201a8\"],[0.3333333333333333,\"#9c179e\"],[0.4444444444444444,\"#bd3786\"],[0.5555555555555556,\"#d8576b\"],[0.6666666666666666,\"#ed7953\"],[0.7777777777777778,\"#fb9f3a\"],[0.8888888888888888,\"#fdca26\"],[1.0,\"#f0f921\"]]}],\"heatmapgl\":[{\"type\":\"heatmapgl\",\"colorbar\":{\"outlinewidth\":0,\"ticks\":\"\"},\"colorscale\":[[0.0,\"#0d0887\"],[0.1111111111111111,\"#46039f\"],[0.2222222222222222,\"#7201a8\"],[0.3333333333333333,\"#9c179e\"],[0.4444444444444444,\"#bd3786\"],[0.5555555555555556,\"#d8576b\"],[0.6666666666666666,\"#ed7953\"],[0.7777777777777778,\"#fb9f3a\"],[0.8888888888888888,\"#fdca26\"],[1.0,\"#f0f921\"]]}],\"contourcarpet\":[{\"type\":\"contourcarpet\",\"colorbar\":{\"outlinewidth\":0,\"ticks\":\"\"}}],\"contour\":[{\"type\":\"contour\",\"colorbar\":{\"outlinewidth\":0,\"ticks\":\"\"},\"colorscale\":[[0.0,\"#0d0887\"],[0.1111111111111111,\"#46039f\"],[0.2222222222222222,\"#7201a8\"],[0.3333333333333333,\"#9c179e\"],[0.4444444444444444,\"#bd3786\"],[0.5555555555555556,\"#d8576b\"],[0.6666666666666666,\"#ed7953\"],[0.7777777777777778,\"#fb9f3a\"],[0.8888888888888888,\"#fdca26\"],[1.0,\"#f0f921\"]]}],\"surface\":[{\"type\":\"surface\",\"colorbar\":{\"outlinewidth\":0,\"ticks\":\"\"},\"colorscale\":[[0.0,\"#0d0887\"],[0.1111111111111111,\"#46039f\"],[0.2222222222222222,\"#7201a8\"],[0.3333333333333333,\"#9c179e\"],[0.4444444444444444,\"#bd3786\"],[0.5555555555555556,\"#d8576b\"],[0.6666666666666666,\"#ed7953\"],[0.7777777777777778,\"#fb9f3a\"],[0.8888888888888888,\"#fdca26\"],[1.0,\"#f0f921\"]]}],\"mesh3d\":[{\"type\":\"mesh3d\",\"colorbar\":{\"outlinewidth\":0,\"ticks\":\"\"}}],\"scatter\":[{\"fillpattern\":{\"fillmode\":\"overlay\",\"size\":10,\"solidity\":0.2},\"type\":\"scatter\"}],\"parcoords\":[{\"type\":\"parcoords\",\"line\":{\"colorbar\":{\"outlinewidth\":0,\"ticks\":\"\"}}}],\"scatterpolargl\":[{\"type\":\"scatterpolargl\",\"marker\":{\"colorbar\":{\"outlinewidth\":0,\"ticks\":\"\"}}}],\"bar\":[{\"error_x\":{\"color\":\"#2a3f5f\"},\"error_y\":{\"color\":\"#2a3f5f\"},\"marker\":{\"line\":{\"color\":\"#E5ECF6\",\"width\":0.5},\"pattern\":{\"fillmode\":\"overlay\",\"size\":10,\"solidity\":0.2}},\"type\":\"bar\"}],\"scattergeo\":[{\"type\":\"scattergeo\",\"marker\":{\"colorbar\":{\"outlinewidth\":0,\"ticks\":\"\"}}}],\"scatterpolar\":[{\"type\":\"scatterpolar\",\"marker\":{\"colorbar\":{\"outlinewidth\":0,\"ticks\":\"\"}}}],\"histogram\":[{\"marker\":{\"pattern\":{\"fillmode\":\"overlay\",\"size\":10,\"solidity\":0.2}},\"type\":\"histogram\"}],\"scattergl\":[{\"type\":\"scattergl\",\"marker\":{\"colorbar\":{\"outlinewidth\":0,\"ticks\":\"\"}}}],\"scatter3d\":[{\"type\":\"scatter3d\",\"line\":{\"colorbar\":{\"outlinewidth\":0,\"ticks\":\"\"}},\"marker\":{\"colorbar\":{\"outlinewidth\":0,\"ticks\":\"\"}}}],\"scattermapbox\":[{\"type\":\"scattermapbox\",\"marker\":{\"colorbar\":{\"outlinewidth\":0,\"ticks\":\"\"}}}],\"scatterternary\":[{\"type\":\"scatterternary\",\"marker\":{\"colorbar\":{\"outlinewidth\":0,\"ticks\":\"\"}}}],\"scattercarpet\":[{\"type\":\"scattercarpet\",\"marker\":{\"colorbar\":{\"outlinewidth\":0,\"ticks\":\"\"}}}],\"carpet\":[{\"aaxis\":{\"endlinecolor\":\"#2a3f5f\",\"gridcolor\":\"white\",\"linecolor\":\"white\",\"minorgridcolor\":\"white\",\"startlinecolor\":\"#2a3f5f\"},\"baxis\":{\"endlinecolor\":\"#2a3f5f\",\"gridcolor\":\"white\",\"linecolor\":\"white\",\"minorgridcolor\":\"white\",\"startlinecolor\":\"#2a3f5f\"},\"type\":\"carpet\"}],\"table\":[{\"cells\":{\"fill\":{\"color\":\"#EBF0F8\"},\"line\":{\"color\":\"white\"}},\"header\":{\"fill\":{\"color\":\"#C8D4E3\"},\"line\":{\"color\":\"white\"}},\"type\":\"table\"}],\"barpolar\":[{\"marker\":{\"line\":{\"color\":\"#E5ECF6\",\"width\":0.5},\"pattern\":{\"fillmode\":\"overlay\",\"size\":10,\"solidity\":0.2}},\"type\":\"barpolar\"}],\"pie\":[{\"automargin\":true,\"type\":\"pie\"}]},\"layout\":{\"autotypenumbers\":\"strict\",\"colorway\":[\"#636efa\",\"#EF553B\",\"#00cc96\",\"#ab63fa\",\"#FFA15A\",\"#19d3f3\",\"#FF6692\",\"#B6E880\",\"#FF97FF\",\"#FECB52\"],\"font\":{\"color\":\"#2a3f5f\"},\"hovermode\":\"closest\",\"hoverlabel\":{\"align\":\"left\"},\"paper_bgcolor\":\"white\",\"plot_bgcolor\":\"#E5ECF6\",\"polar\":{\"bgcolor\":\"#E5ECF6\",\"angularaxis\":{\"gridcolor\":\"white\",\"linecolor\":\"white\",\"ticks\":\"\"},\"radialaxis\":{\"gridcolor\":\"white\",\"linecolor\":\"white\",\"ticks\":\"\"}},\"ternary\":{\"bgcolor\":\"#E5ECF6\",\"aaxis\":{\"gridcolor\":\"white\",\"linecolor\":\"white\",\"ticks\":\"\"},\"baxis\":{\"gridcolor\":\"white\",\"linecolor\":\"white\",\"ticks\":\"\"},\"caxis\":{\"gridcolor\":\"white\",\"linecolor\":\"white\",\"ticks\":\"\"}},\"coloraxis\":{\"colorbar\":{\"outlinewidth\":0,\"ticks\":\"\"}},\"colorscale\":{\"sequential\":[[0.0,\"#0d0887\"],[0.1111111111111111,\"#46039f\"],[0.2222222222222222,\"#7201a8\"],[0.3333333333333333,\"#9c179e\"],[0.4444444444444444,\"#bd3786\"],[0.5555555555555556,\"#d8576b\"],[0.6666666666666666,\"#ed7953\"],[0.7777777777777778,\"#fb9f3a\"],[0.8888888888888888,\"#fdca26\"],[1.0,\"#f0f921\"]],\"sequentialminus\":[[0.0,\"#0d0887\"],[0.1111111111111111,\"#46039f\"],[0.2222222222222222,\"#7201a8\"],[0.3333333333333333,\"#9c179e\"],[0.4444444444444444,\"#bd3786\"],[0.5555555555555556,\"#d8576b\"],[0.6666666666666666,\"#ed7953\"],[0.7777777777777778,\"#fb9f3a\"],[0.8888888888888888,\"#fdca26\"],[1.0,\"#f0f921\"]],\"diverging\":[[0,\"#8e0152\"],[0.1,\"#c51b7d\"],[0.2,\"#de77ae\"],[0.3,\"#f1b6da\"],[0.4,\"#fde0ef\"],[0.5,\"#f7f7f7\"],[0.6,\"#e6f5d0\"],[0.7,\"#b8e186\"],[0.8,\"#7fbc41\"],[0.9,\"#4d9221\"],[1,\"#276419\"]]},\"xaxis\":{\"gridcolor\":\"white\",\"linecolor\":\"white\",\"ticks\":\"\",\"title\":{\"standoff\":15},\"zerolinecolor\":\"white\",\"automargin\":true,\"zerolinewidth\":2},\"yaxis\":{\"gridcolor\":\"white\",\"linecolor\":\"white\",\"ticks\":\"\",\"title\":{\"standoff\":15},\"zerolinecolor\":\"white\",\"automargin\":true,\"zerolinewidth\":2},\"scene\":{\"xaxis\":{\"backgroundcolor\":\"#E5ECF6\",\"gridcolor\":\"white\",\"linecolor\":\"white\",\"showbackground\":true,\"ticks\":\"\",\"zerolinecolor\":\"white\",\"gridwidth\":2},\"yaxis\":{\"backgroundcolor\":\"#E5ECF6\",\"gridcolor\":\"white\",\"linecolor\":\"white\",\"showbackground\":true,\"ticks\":\"\",\"zerolinecolor\":\"white\",\"gridwidth\":2},\"zaxis\":{\"backgroundcolor\":\"#E5ECF6\",\"gridcolor\":\"white\",\"linecolor\":\"white\",\"showbackground\":true,\"ticks\":\"\",\"zerolinecolor\":\"white\",\"gridwidth\":2}},\"shapedefaults\":{\"line\":{\"color\":\"#2a3f5f\"}},\"annotationdefaults\":{\"arrowcolor\":\"#2a3f5f\",\"arrowhead\":0,\"arrowwidth\":1},\"geo\":{\"bgcolor\":\"white\",\"landcolor\":\"#E5ECF6\",\"subunitcolor\":\"white\",\"showland\":true,\"showlakes\":true,\"lakecolor\":\"white\"},\"title\":{\"x\":0.05},\"mapbox\":{\"style\":\"light\"}}}},                        {\"responsive\": true}                    ).then(function(){\n",
       "                            \n",
       "var gd = document.getElementById('859e5b6d-c335-42c7-ab20-acf2468609a9');\n",
       "var x = new MutationObserver(function (mutations, observer) {{\n",
       "        var display = window.getComputedStyle(gd).display;\n",
       "        if (!display || display === 'none') {{\n",
       "            console.log([gd, 'removed!']);\n",
       "            Plotly.purge(gd);\n",
       "            observer.disconnect();\n",
       "        }}\n",
       "}});\n",
       "\n",
       "// Listen for the removal of the full notebook cells\n",
       "var notebookContainer = gd.closest('#notebook-container');\n",
       "if (notebookContainer) {{\n",
       "    x.observe(notebookContainer, {childList: true});\n",
       "}}\n",
       "\n",
       "// Listen for the clearing of the current output cell\n",
       "var outputEl = gd.closest('.output');\n",
       "if (outputEl) {{\n",
       "    x.observe(outputEl, {childList: true});\n",
       "}}\n",
       "\n",
       "                        })                };                });            </script>        </div>"
      ]
     },
     "metadata": {},
     "output_type": "display_data"
    }
   ],
   "source": [
    "# Apply the clustering.\n",
    "ac = alerts_clustering_dbscan(\n",
    "    one_hot,\n",
    "    eps=1,\n",
    "    n_neighbors=2,\n",
    "    min_samples=2,\n",
    "    min_dist=0.1,\n",
    ")\n",
    "\n",
    "plot_clustering(ac)"
   ]
  },
  {
   "cell_type": "markdown",
   "id": "01a1008b",
   "metadata": {},
   "source": [
    "## Additional data cleanup"
   ]
  },
  {
   "cell_type": "code",
   "execution_count": 12,
   "id": "2c10d1ec",
   "metadata": {
    "ExecuteTime": {
     "end_time": "2024-03-18T18:53:39.661111Z",
     "start_time": "2024-03-18T18:53:39.614685Z"
    }
   },
   "outputs": [
    {
     "data": {
      "text/html": [
       "<h3>With flapping</h3>"
      ],
      "text/plain": [
       "<IPython.core.display.HTML object>"
      ]
     },
     "metadata": {},
     "output_type": "display_data"
    },
    {
     "data": {
      "application/vnd.plotly.v1+json": {
       "config": {
        "plotlyServerURL": "https://plot.ly"
       },
       "data": [
        {
         "alignmentgroup": "True",
         "base": [
          "2024-03-21T03:50:00+00:00",
          "2024-03-21T03:53:00+00:00",
          "2024-03-21T03:57:00+00:00",
          "2024-03-21T04:00:00+00:00",
          "2024-03-21T04:04:00+00:00",
          "2024-03-21T04:09:00+00:00",
          "2024-03-21T04:13:00+00:00",
          "2024-03-21T04:16:00+00:00",
          "2024-03-21T04:18:00+00:00",
          "2024-03-21T04:20:00+00:00",
          "2024-03-21T04:22:00+00:00"
         ],
         "hovertemplate": "severity=info<br>start=%{base}<br>end=%{x}<br>alert_id=%{y}<extra></extra>",
         "legendgroup": "info",
         "marker": {
          "color": "blue",
          "pattern": {
           "shape": ""
          }
         },
         "name": "info",
         "offsetgroup": "info",
         "orientation": "h",
         "showlegend": true,
         "textposition": "auto",
         "type": "bar",
         "width": 0.8,
         "x": [
          60000,
          60000,
          120000,
          180000,
          120000,
          120000,
          120000,
          60000,
          60000,
          60000,
          60000
         ],
         "xaxis": "x",
         "y": [
          "ElasticsearchJVMHeapUseHigh-10",
          "ElasticsearchJVMHeapUseHigh-10",
          "ElasticsearchJVMHeapUseHigh-10",
          "ElasticsearchJVMHeapUseHigh-10",
          "ElasticsearchJVMHeapUseHigh-10",
          "ElasticsearchJVMHeapUseHigh-10",
          "ElasticsearchJVMHeapUseHigh-10",
          "ElasticsearchJVMHeapUseHigh-10",
          "ElasticsearchJVMHeapUseHigh-10",
          "ElasticsearchJVMHeapUseHigh-10",
          "ElasticsearchJVMHeapUseHigh-10"
         ],
         "yaxis": "y"
        },
        {
         "alignmentgroup": "True",
         "base": [
          "2024-03-21T03:53:00+00:00",
          "2024-03-21T03:52:00+00:00"
         ],
         "hovertemplate": "severity=warning<br>start=%{base}<br>end=%{x}<br>alert_id=%{y}<extra></extra>",
         "legendgroup": "warning",
         "marker": {
          "color": "orange",
          "pattern": {
           "shape": ""
          }
         },
         "name": "warning",
         "offsetgroup": "warning",
         "orientation": "h",
         "showlegend": true,
         "textposition": "auto",
         "type": "bar",
         "width": 0.8,
         "x": [
          1680000,
          2040000
         ],
         "xaxis": "x",
         "y": [
          "ElasticsearchClusterNotHealthy-10",
          "noise_o-10"
         ],
         "yaxis": "y"
        }
       ],
       "layout": {
        "bargap": 0.1,
        "barmode": "overlay",
        "height": 600,
        "legend": {
         "title": {
          "text": "severity"
         },
         "tracegroupgap": 0
        },
        "showlegend": false,
        "template": {
         "data": {
          "bar": [
           {
            "error_x": {
             "color": "#2a3f5f"
            },
            "error_y": {
             "color": "#2a3f5f"
            },
            "marker": {
             "line": {
              "color": "#E5ECF6",
              "width": 0.5
             },
             "pattern": {
              "fillmode": "overlay",
              "size": 10,
              "solidity": 0.2
             }
            },
            "type": "bar"
           }
          ],
          "barpolar": [
           {
            "marker": {
             "line": {
              "color": "#E5ECF6",
              "width": 0.5
             },
             "pattern": {
              "fillmode": "overlay",
              "size": 10,
              "solidity": 0.2
             }
            },
            "type": "barpolar"
           }
          ],
          "carpet": [
           {
            "aaxis": {
             "endlinecolor": "#2a3f5f",
             "gridcolor": "white",
             "linecolor": "white",
             "minorgridcolor": "white",
             "startlinecolor": "#2a3f5f"
            },
            "baxis": {
             "endlinecolor": "#2a3f5f",
             "gridcolor": "white",
             "linecolor": "white",
             "minorgridcolor": "white",
             "startlinecolor": "#2a3f5f"
            },
            "type": "carpet"
           }
          ],
          "choropleth": [
           {
            "colorbar": {
             "outlinewidth": 0,
             "ticks": ""
            },
            "type": "choropleth"
           }
          ],
          "contour": [
           {
            "colorbar": {
             "outlinewidth": 0,
             "ticks": ""
            },
            "colorscale": [
             [
              0,
              "#0d0887"
             ],
             [
              0.1111111111111111,
              "#46039f"
             ],
             [
              0.2222222222222222,
              "#7201a8"
             ],
             [
              0.3333333333333333,
              "#9c179e"
             ],
             [
              0.4444444444444444,
              "#bd3786"
             ],
             [
              0.5555555555555556,
              "#d8576b"
             ],
             [
              0.6666666666666666,
              "#ed7953"
             ],
             [
              0.7777777777777778,
              "#fb9f3a"
             ],
             [
              0.8888888888888888,
              "#fdca26"
             ],
             [
              1,
              "#f0f921"
             ]
            ],
            "type": "contour"
           }
          ],
          "contourcarpet": [
           {
            "colorbar": {
             "outlinewidth": 0,
             "ticks": ""
            },
            "type": "contourcarpet"
           }
          ],
          "heatmap": [
           {
            "colorbar": {
             "outlinewidth": 0,
             "ticks": ""
            },
            "colorscale": [
             [
              0,
              "#0d0887"
             ],
             [
              0.1111111111111111,
              "#46039f"
             ],
             [
              0.2222222222222222,
              "#7201a8"
             ],
             [
              0.3333333333333333,
              "#9c179e"
             ],
             [
              0.4444444444444444,
              "#bd3786"
             ],
             [
              0.5555555555555556,
              "#d8576b"
             ],
             [
              0.6666666666666666,
              "#ed7953"
             ],
             [
              0.7777777777777778,
              "#fb9f3a"
             ],
             [
              0.8888888888888888,
              "#fdca26"
             ],
             [
              1,
              "#f0f921"
             ]
            ],
            "type": "heatmap"
           }
          ],
          "heatmapgl": [
           {
            "colorbar": {
             "outlinewidth": 0,
             "ticks": ""
            },
            "colorscale": [
             [
              0,
              "#0d0887"
             ],
             [
              0.1111111111111111,
              "#46039f"
             ],
             [
              0.2222222222222222,
              "#7201a8"
             ],
             [
              0.3333333333333333,
              "#9c179e"
             ],
             [
              0.4444444444444444,
              "#bd3786"
             ],
             [
              0.5555555555555556,
              "#d8576b"
             ],
             [
              0.6666666666666666,
              "#ed7953"
             ],
             [
              0.7777777777777778,
              "#fb9f3a"
             ],
             [
              0.8888888888888888,
              "#fdca26"
             ],
             [
              1,
              "#f0f921"
             ]
            ],
            "type": "heatmapgl"
           }
          ],
          "histogram": [
           {
            "marker": {
             "pattern": {
              "fillmode": "overlay",
              "size": 10,
              "solidity": 0.2
             }
            },
            "type": "histogram"
           }
          ],
          "histogram2d": [
           {
            "colorbar": {
             "outlinewidth": 0,
             "ticks": ""
            },
            "colorscale": [
             [
              0,
              "#0d0887"
             ],
             [
              0.1111111111111111,
              "#46039f"
             ],
             [
              0.2222222222222222,
              "#7201a8"
             ],
             [
              0.3333333333333333,
              "#9c179e"
             ],
             [
              0.4444444444444444,
              "#bd3786"
             ],
             [
              0.5555555555555556,
              "#d8576b"
             ],
             [
              0.6666666666666666,
              "#ed7953"
             ],
             [
              0.7777777777777778,
              "#fb9f3a"
             ],
             [
              0.8888888888888888,
              "#fdca26"
             ],
             [
              1,
              "#f0f921"
             ]
            ],
            "type": "histogram2d"
           }
          ],
          "histogram2dcontour": [
           {
            "colorbar": {
             "outlinewidth": 0,
             "ticks": ""
            },
            "colorscale": [
             [
              0,
              "#0d0887"
             ],
             [
              0.1111111111111111,
              "#46039f"
             ],
             [
              0.2222222222222222,
              "#7201a8"
             ],
             [
              0.3333333333333333,
              "#9c179e"
             ],
             [
              0.4444444444444444,
              "#bd3786"
             ],
             [
              0.5555555555555556,
              "#d8576b"
             ],
             [
              0.6666666666666666,
              "#ed7953"
             ],
             [
              0.7777777777777778,
              "#fb9f3a"
             ],
             [
              0.8888888888888888,
              "#fdca26"
             ],
             [
              1,
              "#f0f921"
             ]
            ],
            "type": "histogram2dcontour"
           }
          ],
          "mesh3d": [
           {
            "colorbar": {
             "outlinewidth": 0,
             "ticks": ""
            },
            "type": "mesh3d"
           }
          ],
          "parcoords": [
           {
            "line": {
             "colorbar": {
              "outlinewidth": 0,
              "ticks": ""
             }
            },
            "type": "parcoords"
           }
          ],
          "pie": [
           {
            "automargin": true,
            "type": "pie"
           }
          ],
          "scatter": [
           {
            "fillpattern": {
             "fillmode": "overlay",
             "size": 10,
             "solidity": 0.2
            },
            "type": "scatter"
           }
          ],
          "scatter3d": [
           {
            "line": {
             "colorbar": {
              "outlinewidth": 0,
              "ticks": ""
             }
            },
            "marker": {
             "colorbar": {
              "outlinewidth": 0,
              "ticks": ""
             }
            },
            "type": "scatter3d"
           }
          ],
          "scattercarpet": [
           {
            "marker": {
             "colorbar": {
              "outlinewidth": 0,
              "ticks": ""
             }
            },
            "type": "scattercarpet"
           }
          ],
          "scattergeo": [
           {
            "marker": {
             "colorbar": {
              "outlinewidth": 0,
              "ticks": ""
             }
            },
            "type": "scattergeo"
           }
          ],
          "scattergl": [
           {
            "marker": {
             "colorbar": {
              "outlinewidth": 0,
              "ticks": ""
             }
            },
            "type": "scattergl"
           }
          ],
          "scattermapbox": [
           {
            "marker": {
             "colorbar": {
              "outlinewidth": 0,
              "ticks": ""
             }
            },
            "type": "scattermapbox"
           }
          ],
          "scatterpolar": [
           {
            "marker": {
             "colorbar": {
              "outlinewidth": 0,
              "ticks": ""
             }
            },
            "type": "scatterpolar"
           }
          ],
          "scatterpolargl": [
           {
            "marker": {
             "colorbar": {
              "outlinewidth": 0,
              "ticks": ""
             }
            },
            "type": "scatterpolargl"
           }
          ],
          "scatterternary": [
           {
            "marker": {
             "colorbar": {
              "outlinewidth": 0,
              "ticks": ""
             }
            },
            "type": "scatterternary"
           }
          ],
          "surface": [
           {
            "colorbar": {
             "outlinewidth": 0,
             "ticks": ""
            },
            "colorscale": [
             [
              0,
              "#0d0887"
             ],
             [
              0.1111111111111111,
              "#46039f"
             ],
             [
              0.2222222222222222,
              "#7201a8"
             ],
             [
              0.3333333333333333,
              "#9c179e"
             ],
             [
              0.4444444444444444,
              "#bd3786"
             ],
             [
              0.5555555555555556,
              "#d8576b"
             ],
             [
              0.6666666666666666,
              "#ed7953"
             ],
             [
              0.7777777777777778,
              "#fb9f3a"
             ],
             [
              0.8888888888888888,
              "#fdca26"
             ],
             [
              1,
              "#f0f921"
             ]
            ],
            "type": "surface"
           }
          ],
          "table": [
           {
            "cells": {
             "fill": {
              "color": "#EBF0F8"
             },
             "line": {
              "color": "white"
             }
            },
            "header": {
             "fill": {
              "color": "#C8D4E3"
             },
             "line": {
              "color": "white"
             }
            },
            "type": "table"
           }
          ]
         },
         "layout": {
          "annotationdefaults": {
           "arrowcolor": "#2a3f5f",
           "arrowhead": 0,
           "arrowwidth": 1
          },
          "autotypenumbers": "strict",
          "coloraxis": {
           "colorbar": {
            "outlinewidth": 0,
            "ticks": ""
           }
          },
          "colorscale": {
           "diverging": [
            [
             0,
             "#8e0152"
            ],
            [
             0.1,
             "#c51b7d"
            ],
            [
             0.2,
             "#de77ae"
            ],
            [
             0.3,
             "#f1b6da"
            ],
            [
             0.4,
             "#fde0ef"
            ],
            [
             0.5,
             "#f7f7f7"
            ],
            [
             0.6,
             "#e6f5d0"
            ],
            [
             0.7,
             "#b8e186"
            ],
            [
             0.8,
             "#7fbc41"
            ],
            [
             0.9,
             "#4d9221"
            ],
            [
             1,
             "#276419"
            ]
           ],
           "sequential": [
            [
             0,
             "#0d0887"
            ],
            [
             0.1111111111111111,
             "#46039f"
            ],
            [
             0.2222222222222222,
             "#7201a8"
            ],
            [
             0.3333333333333333,
             "#9c179e"
            ],
            [
             0.4444444444444444,
             "#bd3786"
            ],
            [
             0.5555555555555556,
             "#d8576b"
            ],
            [
             0.6666666666666666,
             "#ed7953"
            ],
            [
             0.7777777777777778,
             "#fb9f3a"
            ],
            [
             0.8888888888888888,
             "#fdca26"
            ],
            [
             1,
             "#f0f921"
            ]
           ],
           "sequentialminus": [
            [
             0,
             "#0d0887"
            ],
            [
             0.1111111111111111,
             "#46039f"
            ],
            [
             0.2222222222222222,
             "#7201a8"
            ],
            [
             0.3333333333333333,
             "#9c179e"
            ],
            [
             0.4444444444444444,
             "#bd3786"
            ],
            [
             0.5555555555555556,
             "#d8576b"
            ],
            [
             0.6666666666666666,
             "#ed7953"
            ],
            [
             0.7777777777777778,
             "#fb9f3a"
            ],
            [
             0.8888888888888888,
             "#fdca26"
            ],
            [
             1,
             "#f0f921"
            ]
           ]
          },
          "colorway": [
           "#636efa",
           "#EF553B",
           "#00cc96",
           "#ab63fa",
           "#FFA15A",
           "#19d3f3",
           "#FF6692",
           "#B6E880",
           "#FF97FF",
           "#FECB52"
          ],
          "font": {
           "color": "#2a3f5f"
          },
          "geo": {
           "bgcolor": "white",
           "lakecolor": "white",
           "landcolor": "#E5ECF6",
           "showlakes": true,
           "showland": true,
           "subunitcolor": "white"
          },
          "hoverlabel": {
           "align": "left"
          },
          "hovermode": "closest",
          "mapbox": {
           "style": "light"
          },
          "paper_bgcolor": "white",
          "plot_bgcolor": "#E5ECF6",
          "polar": {
           "angularaxis": {
            "gridcolor": "white",
            "linecolor": "white",
            "ticks": ""
           },
           "bgcolor": "#E5ECF6",
           "radialaxis": {
            "gridcolor": "white",
            "linecolor": "white",
            "ticks": ""
           }
          },
          "scene": {
           "xaxis": {
            "backgroundcolor": "#E5ECF6",
            "gridcolor": "white",
            "gridwidth": 2,
            "linecolor": "white",
            "showbackground": true,
            "ticks": "",
            "zerolinecolor": "white"
           },
           "yaxis": {
            "backgroundcolor": "#E5ECF6",
            "gridcolor": "white",
            "gridwidth": 2,
            "linecolor": "white",
            "showbackground": true,
            "ticks": "",
            "zerolinecolor": "white"
           },
           "zaxis": {
            "backgroundcolor": "#E5ECF6",
            "gridcolor": "white",
            "gridwidth": 2,
            "linecolor": "white",
            "showbackground": true,
            "ticks": "",
            "zerolinecolor": "white"
           }
          },
          "shapedefaults": {
           "line": {
            "color": "#2a3f5f"
           }
          },
          "ternary": {
           "aaxis": {
            "gridcolor": "white",
            "linecolor": "white",
            "ticks": ""
           },
           "baxis": {
            "gridcolor": "white",
            "linecolor": "white",
            "ticks": ""
           },
           "bgcolor": "#E5ECF6",
           "caxis": {
            "gridcolor": "white",
            "linecolor": "white",
            "ticks": ""
           }
          },
          "title": {
           "x": 0.05
          },
          "xaxis": {
           "automargin": true,
           "gridcolor": "white",
           "linecolor": "white",
           "ticks": "",
           "title": {
            "standoff": 15
           },
           "zerolinecolor": "white",
           "zerolinewidth": 2
          },
          "yaxis": {
           "automargin": true,
           "gridcolor": "white",
           "linecolor": "white",
           "ticks": "",
           "title": {
            "standoff": 15
           },
           "zerolinecolor": "white",
           "zerolinewidth": 2
          }
         }
        },
        "title": {
         "text": "Timeline"
        },
        "xaxis": {
         "anchor": "y",
         "domain": [
          0,
          1
         ],
         "type": "date"
        },
        "yaxis": {
         "anchor": "x",
         "domain": [
          0,
          1
         ],
         "title": {
          "text": "alert_id"
         }
        }
       }
      },
      "text/html": [
       "<div>                            <div id=\"4be54288-861a-4031-a1fe-015e19e866fd\" class=\"plotly-graph-div\" style=\"height:600px; width:100%;\"></div>            <script type=\"text/javascript\">                require([\"plotly\"], function(Plotly) {                    window.PLOTLYENV=window.PLOTLYENV || {};                                    if (document.getElementById(\"4be54288-861a-4031-a1fe-015e19e866fd\")) {                    Plotly.newPlot(                        \"4be54288-861a-4031-a1fe-015e19e866fd\",                        [{\"alignmentgroup\":\"True\",\"base\":[\"2024-03-21T03:50:00+00:00\",\"2024-03-21T03:53:00+00:00\",\"2024-03-21T03:57:00+00:00\",\"2024-03-21T04:00:00+00:00\",\"2024-03-21T04:04:00+00:00\",\"2024-03-21T04:09:00+00:00\",\"2024-03-21T04:13:00+00:00\",\"2024-03-21T04:16:00+00:00\",\"2024-03-21T04:18:00+00:00\",\"2024-03-21T04:20:00+00:00\",\"2024-03-21T04:22:00+00:00\"],\"hovertemplate\":\"severity=info\\u003cbr\\u003estart=%{base}\\u003cbr\\u003eend=%{x}\\u003cbr\\u003ealert_id=%{y}\\u003cextra\\u003e\\u003c\\u002fextra\\u003e\",\"legendgroup\":\"info\",\"marker\":{\"color\":\"blue\",\"pattern\":{\"shape\":\"\"}},\"name\":\"info\",\"offsetgroup\":\"info\",\"orientation\":\"h\",\"showlegend\":true,\"textposition\":\"auto\",\"x\":[60000.0,60000.0,120000.0,180000.0,120000.0,120000.0,120000.0,60000.0,60000.0,60000.0,60000.0],\"xaxis\":\"x\",\"y\":[\"ElasticsearchJVMHeapUseHigh-10\",\"ElasticsearchJVMHeapUseHigh-10\",\"ElasticsearchJVMHeapUseHigh-10\",\"ElasticsearchJVMHeapUseHigh-10\",\"ElasticsearchJVMHeapUseHigh-10\",\"ElasticsearchJVMHeapUseHigh-10\",\"ElasticsearchJVMHeapUseHigh-10\",\"ElasticsearchJVMHeapUseHigh-10\",\"ElasticsearchJVMHeapUseHigh-10\",\"ElasticsearchJVMHeapUseHigh-10\",\"ElasticsearchJVMHeapUseHigh-10\"],\"yaxis\":\"y\",\"type\":\"bar\",\"width\":0.8},{\"alignmentgroup\":\"True\",\"base\":[\"2024-03-21T03:53:00+00:00\",\"2024-03-21T03:52:00+00:00\"],\"hovertemplate\":\"severity=warning\\u003cbr\\u003estart=%{base}\\u003cbr\\u003eend=%{x}\\u003cbr\\u003ealert_id=%{y}\\u003cextra\\u003e\\u003c\\u002fextra\\u003e\",\"legendgroup\":\"warning\",\"marker\":{\"color\":\"orange\",\"pattern\":{\"shape\":\"\"}},\"name\":\"warning\",\"offsetgroup\":\"warning\",\"orientation\":\"h\",\"showlegend\":true,\"textposition\":\"auto\",\"x\":[1680000.0,2040000.0],\"xaxis\":\"x\",\"y\":[\"ElasticsearchClusterNotHealthy-10\",\"noise_o-10\"],\"yaxis\":\"y\",\"type\":\"bar\",\"width\":0.8}],                        {\"template\":{\"data\":{\"histogram2dcontour\":[{\"type\":\"histogram2dcontour\",\"colorbar\":{\"outlinewidth\":0,\"ticks\":\"\"},\"colorscale\":[[0.0,\"#0d0887\"],[0.1111111111111111,\"#46039f\"],[0.2222222222222222,\"#7201a8\"],[0.3333333333333333,\"#9c179e\"],[0.4444444444444444,\"#bd3786\"],[0.5555555555555556,\"#d8576b\"],[0.6666666666666666,\"#ed7953\"],[0.7777777777777778,\"#fb9f3a\"],[0.8888888888888888,\"#fdca26\"],[1.0,\"#f0f921\"]]}],\"choropleth\":[{\"type\":\"choropleth\",\"colorbar\":{\"outlinewidth\":0,\"ticks\":\"\"}}],\"histogram2d\":[{\"type\":\"histogram2d\",\"colorbar\":{\"outlinewidth\":0,\"ticks\":\"\"},\"colorscale\":[[0.0,\"#0d0887\"],[0.1111111111111111,\"#46039f\"],[0.2222222222222222,\"#7201a8\"],[0.3333333333333333,\"#9c179e\"],[0.4444444444444444,\"#bd3786\"],[0.5555555555555556,\"#d8576b\"],[0.6666666666666666,\"#ed7953\"],[0.7777777777777778,\"#fb9f3a\"],[0.8888888888888888,\"#fdca26\"],[1.0,\"#f0f921\"]]}],\"heatmap\":[{\"type\":\"heatmap\",\"colorbar\":{\"outlinewidth\":0,\"ticks\":\"\"},\"colorscale\":[[0.0,\"#0d0887\"],[0.1111111111111111,\"#46039f\"],[0.2222222222222222,\"#7201a8\"],[0.3333333333333333,\"#9c179e\"],[0.4444444444444444,\"#bd3786\"],[0.5555555555555556,\"#d8576b\"],[0.6666666666666666,\"#ed7953\"],[0.7777777777777778,\"#fb9f3a\"],[0.8888888888888888,\"#fdca26\"],[1.0,\"#f0f921\"]]}],\"heatmapgl\":[{\"type\":\"heatmapgl\",\"colorbar\":{\"outlinewidth\":0,\"ticks\":\"\"},\"colorscale\":[[0.0,\"#0d0887\"],[0.1111111111111111,\"#46039f\"],[0.2222222222222222,\"#7201a8\"],[0.3333333333333333,\"#9c179e\"],[0.4444444444444444,\"#bd3786\"],[0.5555555555555556,\"#d8576b\"],[0.6666666666666666,\"#ed7953\"],[0.7777777777777778,\"#fb9f3a\"],[0.8888888888888888,\"#fdca26\"],[1.0,\"#f0f921\"]]}],\"contourcarpet\":[{\"type\":\"contourcarpet\",\"colorbar\":{\"outlinewidth\":0,\"ticks\":\"\"}}],\"contour\":[{\"type\":\"contour\",\"colorbar\":{\"outlinewidth\":0,\"ticks\":\"\"},\"colorscale\":[[0.0,\"#0d0887\"],[0.1111111111111111,\"#46039f\"],[0.2222222222222222,\"#7201a8\"],[0.3333333333333333,\"#9c179e\"],[0.4444444444444444,\"#bd3786\"],[0.5555555555555556,\"#d8576b\"],[0.6666666666666666,\"#ed7953\"],[0.7777777777777778,\"#fb9f3a\"],[0.8888888888888888,\"#fdca26\"],[1.0,\"#f0f921\"]]}],\"surface\":[{\"type\":\"surface\",\"colorbar\":{\"outlinewidth\":0,\"ticks\":\"\"},\"colorscale\":[[0.0,\"#0d0887\"],[0.1111111111111111,\"#46039f\"],[0.2222222222222222,\"#7201a8\"],[0.3333333333333333,\"#9c179e\"],[0.4444444444444444,\"#bd3786\"],[0.5555555555555556,\"#d8576b\"],[0.6666666666666666,\"#ed7953\"],[0.7777777777777778,\"#fb9f3a\"],[0.8888888888888888,\"#fdca26\"],[1.0,\"#f0f921\"]]}],\"mesh3d\":[{\"type\":\"mesh3d\",\"colorbar\":{\"outlinewidth\":0,\"ticks\":\"\"}}],\"scatter\":[{\"fillpattern\":{\"fillmode\":\"overlay\",\"size\":10,\"solidity\":0.2},\"type\":\"scatter\"}],\"parcoords\":[{\"type\":\"parcoords\",\"line\":{\"colorbar\":{\"outlinewidth\":0,\"ticks\":\"\"}}}],\"scatterpolargl\":[{\"type\":\"scatterpolargl\",\"marker\":{\"colorbar\":{\"outlinewidth\":0,\"ticks\":\"\"}}}],\"bar\":[{\"error_x\":{\"color\":\"#2a3f5f\"},\"error_y\":{\"color\":\"#2a3f5f\"},\"marker\":{\"line\":{\"color\":\"#E5ECF6\",\"width\":0.5},\"pattern\":{\"fillmode\":\"overlay\",\"size\":10,\"solidity\":0.2}},\"type\":\"bar\"}],\"scattergeo\":[{\"type\":\"scattergeo\",\"marker\":{\"colorbar\":{\"outlinewidth\":0,\"ticks\":\"\"}}}],\"scatterpolar\":[{\"type\":\"scatterpolar\",\"marker\":{\"colorbar\":{\"outlinewidth\":0,\"ticks\":\"\"}}}],\"histogram\":[{\"marker\":{\"pattern\":{\"fillmode\":\"overlay\",\"size\":10,\"solidity\":0.2}},\"type\":\"histogram\"}],\"scattergl\":[{\"type\":\"scattergl\",\"marker\":{\"colorbar\":{\"outlinewidth\":0,\"ticks\":\"\"}}}],\"scatter3d\":[{\"type\":\"scatter3d\",\"line\":{\"colorbar\":{\"outlinewidth\":0,\"ticks\":\"\"}},\"marker\":{\"colorbar\":{\"outlinewidth\":0,\"ticks\":\"\"}}}],\"scattermapbox\":[{\"type\":\"scattermapbox\",\"marker\":{\"colorbar\":{\"outlinewidth\":0,\"ticks\":\"\"}}}],\"scatterternary\":[{\"type\":\"scatterternary\",\"marker\":{\"colorbar\":{\"outlinewidth\":0,\"ticks\":\"\"}}}],\"scattercarpet\":[{\"type\":\"scattercarpet\",\"marker\":{\"colorbar\":{\"outlinewidth\":0,\"ticks\":\"\"}}}],\"carpet\":[{\"aaxis\":{\"endlinecolor\":\"#2a3f5f\",\"gridcolor\":\"white\",\"linecolor\":\"white\",\"minorgridcolor\":\"white\",\"startlinecolor\":\"#2a3f5f\"},\"baxis\":{\"endlinecolor\":\"#2a3f5f\",\"gridcolor\":\"white\",\"linecolor\":\"white\",\"minorgridcolor\":\"white\",\"startlinecolor\":\"#2a3f5f\"},\"type\":\"carpet\"}],\"table\":[{\"cells\":{\"fill\":{\"color\":\"#EBF0F8\"},\"line\":{\"color\":\"white\"}},\"header\":{\"fill\":{\"color\":\"#C8D4E3\"},\"line\":{\"color\":\"white\"}},\"type\":\"table\"}],\"barpolar\":[{\"marker\":{\"line\":{\"color\":\"#E5ECF6\",\"width\":0.5},\"pattern\":{\"fillmode\":\"overlay\",\"size\":10,\"solidity\":0.2}},\"type\":\"barpolar\"}],\"pie\":[{\"automargin\":true,\"type\":\"pie\"}]},\"layout\":{\"autotypenumbers\":\"strict\",\"colorway\":[\"#636efa\",\"#EF553B\",\"#00cc96\",\"#ab63fa\",\"#FFA15A\",\"#19d3f3\",\"#FF6692\",\"#B6E880\",\"#FF97FF\",\"#FECB52\"],\"font\":{\"color\":\"#2a3f5f\"},\"hovermode\":\"closest\",\"hoverlabel\":{\"align\":\"left\"},\"paper_bgcolor\":\"white\",\"plot_bgcolor\":\"#E5ECF6\",\"polar\":{\"bgcolor\":\"#E5ECF6\",\"angularaxis\":{\"gridcolor\":\"white\",\"linecolor\":\"white\",\"ticks\":\"\"},\"radialaxis\":{\"gridcolor\":\"white\",\"linecolor\":\"white\",\"ticks\":\"\"}},\"ternary\":{\"bgcolor\":\"#E5ECF6\",\"aaxis\":{\"gridcolor\":\"white\",\"linecolor\":\"white\",\"ticks\":\"\"},\"baxis\":{\"gridcolor\":\"white\",\"linecolor\":\"white\",\"ticks\":\"\"},\"caxis\":{\"gridcolor\":\"white\",\"linecolor\":\"white\",\"ticks\":\"\"}},\"coloraxis\":{\"colorbar\":{\"outlinewidth\":0,\"ticks\":\"\"}},\"colorscale\":{\"sequential\":[[0.0,\"#0d0887\"],[0.1111111111111111,\"#46039f\"],[0.2222222222222222,\"#7201a8\"],[0.3333333333333333,\"#9c179e\"],[0.4444444444444444,\"#bd3786\"],[0.5555555555555556,\"#d8576b\"],[0.6666666666666666,\"#ed7953\"],[0.7777777777777778,\"#fb9f3a\"],[0.8888888888888888,\"#fdca26\"],[1.0,\"#f0f921\"]],\"sequentialminus\":[[0.0,\"#0d0887\"],[0.1111111111111111,\"#46039f\"],[0.2222222222222222,\"#7201a8\"],[0.3333333333333333,\"#9c179e\"],[0.4444444444444444,\"#bd3786\"],[0.5555555555555556,\"#d8576b\"],[0.6666666666666666,\"#ed7953\"],[0.7777777777777778,\"#fb9f3a\"],[0.8888888888888888,\"#fdca26\"],[1.0,\"#f0f921\"]],\"diverging\":[[0,\"#8e0152\"],[0.1,\"#c51b7d\"],[0.2,\"#de77ae\"],[0.3,\"#f1b6da\"],[0.4,\"#fde0ef\"],[0.5,\"#f7f7f7\"],[0.6,\"#e6f5d0\"],[0.7,\"#b8e186\"],[0.8,\"#7fbc41\"],[0.9,\"#4d9221\"],[1,\"#276419\"]]},\"xaxis\":{\"gridcolor\":\"white\",\"linecolor\":\"white\",\"ticks\":\"\",\"title\":{\"standoff\":15},\"zerolinecolor\":\"white\",\"automargin\":true,\"zerolinewidth\":2},\"yaxis\":{\"gridcolor\":\"white\",\"linecolor\":\"white\",\"ticks\":\"\",\"title\":{\"standoff\":15},\"zerolinecolor\":\"white\",\"automargin\":true,\"zerolinewidth\":2},\"scene\":{\"xaxis\":{\"backgroundcolor\":\"#E5ECF6\",\"gridcolor\":\"white\",\"linecolor\":\"white\",\"showbackground\":true,\"ticks\":\"\",\"zerolinecolor\":\"white\",\"gridwidth\":2},\"yaxis\":{\"backgroundcolor\":\"#E5ECF6\",\"gridcolor\":\"white\",\"linecolor\":\"white\",\"showbackground\":true,\"ticks\":\"\",\"zerolinecolor\":\"white\",\"gridwidth\":2},\"zaxis\":{\"backgroundcolor\":\"#E5ECF6\",\"gridcolor\":\"white\",\"linecolor\":\"white\",\"showbackground\":true,\"ticks\":\"\",\"zerolinecolor\":\"white\",\"gridwidth\":2}},\"shapedefaults\":{\"line\":{\"color\":\"#2a3f5f\"}},\"annotationdefaults\":{\"arrowcolor\":\"#2a3f5f\",\"arrowhead\":0,\"arrowwidth\":1},\"geo\":{\"bgcolor\":\"white\",\"landcolor\":\"#E5ECF6\",\"subunitcolor\":\"white\",\"showland\":true,\"showlakes\":true,\"lakecolor\":\"white\"},\"title\":{\"x\":0.05},\"mapbox\":{\"style\":\"light\"}}},\"xaxis\":{\"anchor\":\"y\",\"domain\":[0.0,1.0],\"type\":\"date\"},\"yaxis\":{\"anchor\":\"x\",\"domain\":[0.0,1.0],\"title\":{\"text\":\"alert_id\"}},\"legend\":{\"title\":{\"text\":\"severity\"},\"tracegroupgap\":0},\"title\":{\"text\":\"Timeline\"},\"barmode\":\"overlay\",\"showlegend\":false,\"bargap\":0.1,\"height\":600},                        {\"responsive\": true}                    ).then(function(){\n",
       "                            \n",
       "var gd = document.getElementById('4be54288-861a-4031-a1fe-015e19e866fd');\n",
       "var x = new MutationObserver(function (mutations, observer) {{\n",
       "        var display = window.getComputedStyle(gd).display;\n",
       "        if (!display || display === 'none') {{\n",
       "            console.log([gd, 'removed!']);\n",
       "            Plotly.purge(gd);\n",
       "            observer.disconnect();\n",
       "        }}\n",
       "}});\n",
       "\n",
       "// Listen for the removal of the full notebook cells\n",
       "var notebookContainer = gd.closest('#notebook-container');\n",
       "if (notebookContainer) {{\n",
       "    x.observe(notebookContainer, {childList: true});\n",
       "}}\n",
       "\n",
       "// Listen for the clearing of the current output cell\n",
       "var outputEl = gd.closest('.output');\n",
       "if (outputEl) {{\n",
       "    x.observe(outputEl, {childList: true});\n",
       "}}\n",
       "\n",
       "                        })                };                });            </script>        </div>"
      ]
     },
     "metadata": {},
     "output_type": "display_data"
    }
   ],
   "source": [
    "# Show case with flapping alerts.\n",
    "\n",
    "fig_flap = plot_alerts_timeline(\n",
    "    alerts_intervals.fmap(\n",
    "        lambda df: df.query(\"instance_id == '10'\")\n",
    "    ),\n",
    "    alert_id=alert_id,\n",
    "    height=600\n",
    ")\n",
    "\n",
    "display(HTML(\"<h3>With flapping</h3>\"))\n",
    "fig_flap.show()"
   ]
  },
  {
   "cell_type": "code",
   "execution_count": 13,
   "id": "3bbf74c1",
   "metadata": {
    "ExecuteTime": {
     "end_time": "2024-03-18T18:53:39.936675Z",
     "start_time": "2024-03-18T18:53:39.661959Z"
    }
   },
   "outputs": [
    {
     "data": {
      "text/html": [
       "<h3>Without flapping</h3>"
      ],
      "text/plain": [
       "<IPython.core.display.HTML object>"
      ]
     },
     "metadata": {},
     "output_type": "display_data"
    },
    {
     "data": {
      "application/vnd.plotly.v1+json": {
       "config": {
        "plotlyServerURL": "https://plot.ly"
       },
       "data": [
        {
         "alignmentgroup": "True",
         "base": [
          "2024-03-21T03:50:00+00:00"
         ],
         "hovertemplate": "severity=info<br>start=%{base}<br>end=%{x}<br>alert_id=%{y}<extra></extra>",
         "legendgroup": "info",
         "marker": {
          "color": "blue",
          "pattern": {
           "shape": ""
          }
         },
         "name": "info",
         "offsetgroup": "info",
         "orientation": "h",
         "showlegend": true,
         "textposition": "auto",
         "type": "bar",
         "width": 0.8,
         "x": [
          1980000
         ],
         "xaxis": "x",
         "y": [
          "ElasticsearchJVMHeapUseHigh-10"
         ],
         "yaxis": "y"
        },
        {
         "alignmentgroup": "True",
         "base": [
          "2024-03-21T03:53:00+00:00",
          "2024-03-21T03:52:00+00:00"
         ],
         "hovertemplate": "severity=warning<br>start=%{base}<br>end=%{x}<br>alert_id=%{y}<extra></extra>",
         "legendgroup": "warning",
         "marker": {
          "color": "orange",
          "pattern": {
           "shape": ""
          }
         },
         "name": "warning",
         "offsetgroup": "warning",
         "orientation": "h",
         "showlegend": true,
         "textposition": "auto",
         "type": "bar",
         "width": 0.8,
         "x": [
          1680000,
          2040000
         ],
         "xaxis": "x",
         "y": [
          "ElasticsearchClusterNotHealthy-10",
          "noise_o-10"
         ],
         "yaxis": "y"
        }
       ],
       "layout": {
        "bargap": 0.1,
        "barmode": "overlay",
        "height": 600,
        "legend": {
         "title": {
          "text": "severity"
         },
         "tracegroupgap": 0
        },
        "showlegend": false,
        "template": {
         "data": {
          "bar": [
           {
            "error_x": {
             "color": "#2a3f5f"
            },
            "error_y": {
             "color": "#2a3f5f"
            },
            "marker": {
             "line": {
              "color": "#E5ECF6",
              "width": 0.5
             },
             "pattern": {
              "fillmode": "overlay",
              "size": 10,
              "solidity": 0.2
             }
            },
            "type": "bar"
           }
          ],
          "barpolar": [
           {
            "marker": {
             "line": {
              "color": "#E5ECF6",
              "width": 0.5
             },
             "pattern": {
              "fillmode": "overlay",
              "size": 10,
              "solidity": 0.2
             }
            },
            "type": "barpolar"
           }
          ],
          "carpet": [
           {
            "aaxis": {
             "endlinecolor": "#2a3f5f",
             "gridcolor": "white",
             "linecolor": "white",
             "minorgridcolor": "white",
             "startlinecolor": "#2a3f5f"
            },
            "baxis": {
             "endlinecolor": "#2a3f5f",
             "gridcolor": "white",
             "linecolor": "white",
             "minorgridcolor": "white",
             "startlinecolor": "#2a3f5f"
            },
            "type": "carpet"
           }
          ],
          "choropleth": [
           {
            "colorbar": {
             "outlinewidth": 0,
             "ticks": ""
            },
            "type": "choropleth"
           }
          ],
          "contour": [
           {
            "colorbar": {
             "outlinewidth": 0,
             "ticks": ""
            },
            "colorscale": [
             [
              0,
              "#0d0887"
             ],
             [
              0.1111111111111111,
              "#46039f"
             ],
             [
              0.2222222222222222,
              "#7201a8"
             ],
             [
              0.3333333333333333,
              "#9c179e"
             ],
             [
              0.4444444444444444,
              "#bd3786"
             ],
             [
              0.5555555555555556,
              "#d8576b"
             ],
             [
              0.6666666666666666,
              "#ed7953"
             ],
             [
              0.7777777777777778,
              "#fb9f3a"
             ],
             [
              0.8888888888888888,
              "#fdca26"
             ],
             [
              1,
              "#f0f921"
             ]
            ],
            "type": "contour"
           }
          ],
          "contourcarpet": [
           {
            "colorbar": {
             "outlinewidth": 0,
             "ticks": ""
            },
            "type": "contourcarpet"
           }
          ],
          "heatmap": [
           {
            "colorbar": {
             "outlinewidth": 0,
             "ticks": ""
            },
            "colorscale": [
             [
              0,
              "#0d0887"
             ],
             [
              0.1111111111111111,
              "#46039f"
             ],
             [
              0.2222222222222222,
              "#7201a8"
             ],
             [
              0.3333333333333333,
              "#9c179e"
             ],
             [
              0.4444444444444444,
              "#bd3786"
             ],
             [
              0.5555555555555556,
              "#d8576b"
             ],
             [
              0.6666666666666666,
              "#ed7953"
             ],
             [
              0.7777777777777778,
              "#fb9f3a"
             ],
             [
              0.8888888888888888,
              "#fdca26"
             ],
             [
              1,
              "#f0f921"
             ]
            ],
            "type": "heatmap"
           }
          ],
          "heatmapgl": [
           {
            "colorbar": {
             "outlinewidth": 0,
             "ticks": ""
            },
            "colorscale": [
             [
              0,
              "#0d0887"
             ],
             [
              0.1111111111111111,
              "#46039f"
             ],
             [
              0.2222222222222222,
              "#7201a8"
             ],
             [
              0.3333333333333333,
              "#9c179e"
             ],
             [
              0.4444444444444444,
              "#bd3786"
             ],
             [
              0.5555555555555556,
              "#d8576b"
             ],
             [
              0.6666666666666666,
              "#ed7953"
             ],
             [
              0.7777777777777778,
              "#fb9f3a"
             ],
             [
              0.8888888888888888,
              "#fdca26"
             ],
             [
              1,
              "#f0f921"
             ]
            ],
            "type": "heatmapgl"
           }
          ],
          "histogram": [
           {
            "marker": {
             "pattern": {
              "fillmode": "overlay",
              "size": 10,
              "solidity": 0.2
             }
            },
            "type": "histogram"
           }
          ],
          "histogram2d": [
           {
            "colorbar": {
             "outlinewidth": 0,
             "ticks": ""
            },
            "colorscale": [
             [
              0,
              "#0d0887"
             ],
             [
              0.1111111111111111,
              "#46039f"
             ],
             [
              0.2222222222222222,
              "#7201a8"
             ],
             [
              0.3333333333333333,
              "#9c179e"
             ],
             [
              0.4444444444444444,
              "#bd3786"
             ],
             [
              0.5555555555555556,
              "#d8576b"
             ],
             [
              0.6666666666666666,
              "#ed7953"
             ],
             [
              0.7777777777777778,
              "#fb9f3a"
             ],
             [
              0.8888888888888888,
              "#fdca26"
             ],
             [
              1,
              "#f0f921"
             ]
            ],
            "type": "histogram2d"
           }
          ],
          "histogram2dcontour": [
           {
            "colorbar": {
             "outlinewidth": 0,
             "ticks": ""
            },
            "colorscale": [
             [
              0,
              "#0d0887"
             ],
             [
              0.1111111111111111,
              "#46039f"
             ],
             [
              0.2222222222222222,
              "#7201a8"
             ],
             [
              0.3333333333333333,
              "#9c179e"
             ],
             [
              0.4444444444444444,
              "#bd3786"
             ],
             [
              0.5555555555555556,
              "#d8576b"
             ],
             [
              0.6666666666666666,
              "#ed7953"
             ],
             [
              0.7777777777777778,
              "#fb9f3a"
             ],
             [
              0.8888888888888888,
              "#fdca26"
             ],
             [
              1,
              "#f0f921"
             ]
            ],
            "type": "histogram2dcontour"
           }
          ],
          "mesh3d": [
           {
            "colorbar": {
             "outlinewidth": 0,
             "ticks": ""
            },
            "type": "mesh3d"
           }
          ],
          "parcoords": [
           {
            "line": {
             "colorbar": {
              "outlinewidth": 0,
              "ticks": ""
             }
            },
            "type": "parcoords"
           }
          ],
          "pie": [
           {
            "automargin": true,
            "type": "pie"
           }
          ],
          "scatter": [
           {
            "fillpattern": {
             "fillmode": "overlay",
             "size": 10,
             "solidity": 0.2
            },
            "type": "scatter"
           }
          ],
          "scatter3d": [
           {
            "line": {
             "colorbar": {
              "outlinewidth": 0,
              "ticks": ""
             }
            },
            "marker": {
             "colorbar": {
              "outlinewidth": 0,
              "ticks": ""
             }
            },
            "type": "scatter3d"
           }
          ],
          "scattercarpet": [
           {
            "marker": {
             "colorbar": {
              "outlinewidth": 0,
              "ticks": ""
             }
            },
            "type": "scattercarpet"
           }
          ],
          "scattergeo": [
           {
            "marker": {
             "colorbar": {
              "outlinewidth": 0,
              "ticks": ""
             }
            },
            "type": "scattergeo"
           }
          ],
          "scattergl": [
           {
            "marker": {
             "colorbar": {
              "outlinewidth": 0,
              "ticks": ""
             }
            },
            "type": "scattergl"
           }
          ],
          "scattermapbox": [
           {
            "marker": {
             "colorbar": {
              "outlinewidth": 0,
              "ticks": ""
             }
            },
            "type": "scattermapbox"
           }
          ],
          "scatterpolar": [
           {
            "marker": {
             "colorbar": {
              "outlinewidth": 0,
              "ticks": ""
             }
            },
            "type": "scatterpolar"
           }
          ],
          "scatterpolargl": [
           {
            "marker": {
             "colorbar": {
              "outlinewidth": 0,
              "ticks": ""
             }
            },
            "type": "scatterpolargl"
           }
          ],
          "scatterternary": [
           {
            "marker": {
             "colorbar": {
              "outlinewidth": 0,
              "ticks": ""
             }
            },
            "type": "scatterternary"
           }
          ],
          "surface": [
           {
            "colorbar": {
             "outlinewidth": 0,
             "ticks": ""
            },
            "colorscale": [
             [
              0,
              "#0d0887"
             ],
             [
              0.1111111111111111,
              "#46039f"
             ],
             [
              0.2222222222222222,
              "#7201a8"
             ],
             [
              0.3333333333333333,
              "#9c179e"
             ],
             [
              0.4444444444444444,
              "#bd3786"
             ],
             [
              0.5555555555555556,
              "#d8576b"
             ],
             [
              0.6666666666666666,
              "#ed7953"
             ],
             [
              0.7777777777777778,
              "#fb9f3a"
             ],
             [
              0.8888888888888888,
              "#fdca26"
             ],
             [
              1,
              "#f0f921"
             ]
            ],
            "type": "surface"
           }
          ],
          "table": [
           {
            "cells": {
             "fill": {
              "color": "#EBF0F8"
             },
             "line": {
              "color": "white"
             }
            },
            "header": {
             "fill": {
              "color": "#C8D4E3"
             },
             "line": {
              "color": "white"
             }
            },
            "type": "table"
           }
          ]
         },
         "layout": {
          "annotationdefaults": {
           "arrowcolor": "#2a3f5f",
           "arrowhead": 0,
           "arrowwidth": 1
          },
          "autotypenumbers": "strict",
          "coloraxis": {
           "colorbar": {
            "outlinewidth": 0,
            "ticks": ""
           }
          },
          "colorscale": {
           "diverging": [
            [
             0,
             "#8e0152"
            ],
            [
             0.1,
             "#c51b7d"
            ],
            [
             0.2,
             "#de77ae"
            ],
            [
             0.3,
             "#f1b6da"
            ],
            [
             0.4,
             "#fde0ef"
            ],
            [
             0.5,
             "#f7f7f7"
            ],
            [
             0.6,
             "#e6f5d0"
            ],
            [
             0.7,
             "#b8e186"
            ],
            [
             0.8,
             "#7fbc41"
            ],
            [
             0.9,
             "#4d9221"
            ],
            [
             1,
             "#276419"
            ]
           ],
           "sequential": [
            [
             0,
             "#0d0887"
            ],
            [
             0.1111111111111111,
             "#46039f"
            ],
            [
             0.2222222222222222,
             "#7201a8"
            ],
            [
             0.3333333333333333,
             "#9c179e"
            ],
            [
             0.4444444444444444,
             "#bd3786"
            ],
            [
             0.5555555555555556,
             "#d8576b"
            ],
            [
             0.6666666666666666,
             "#ed7953"
            ],
            [
             0.7777777777777778,
             "#fb9f3a"
            ],
            [
             0.8888888888888888,
             "#fdca26"
            ],
            [
             1,
             "#f0f921"
            ]
           ],
           "sequentialminus": [
            [
             0,
             "#0d0887"
            ],
            [
             0.1111111111111111,
             "#46039f"
            ],
            [
             0.2222222222222222,
             "#7201a8"
            ],
            [
             0.3333333333333333,
             "#9c179e"
            ],
            [
             0.4444444444444444,
             "#bd3786"
            ],
            [
             0.5555555555555556,
             "#d8576b"
            ],
            [
             0.6666666666666666,
             "#ed7953"
            ],
            [
             0.7777777777777778,
             "#fb9f3a"
            ],
            [
             0.8888888888888888,
             "#fdca26"
            ],
            [
             1,
             "#f0f921"
            ]
           ]
          },
          "colorway": [
           "#636efa",
           "#EF553B",
           "#00cc96",
           "#ab63fa",
           "#FFA15A",
           "#19d3f3",
           "#FF6692",
           "#B6E880",
           "#FF97FF",
           "#FECB52"
          ],
          "font": {
           "color": "#2a3f5f"
          },
          "geo": {
           "bgcolor": "white",
           "lakecolor": "white",
           "landcolor": "#E5ECF6",
           "showlakes": true,
           "showland": true,
           "subunitcolor": "white"
          },
          "hoverlabel": {
           "align": "left"
          },
          "hovermode": "closest",
          "mapbox": {
           "style": "light"
          },
          "paper_bgcolor": "white",
          "plot_bgcolor": "#E5ECF6",
          "polar": {
           "angularaxis": {
            "gridcolor": "white",
            "linecolor": "white",
            "ticks": ""
           },
           "bgcolor": "#E5ECF6",
           "radialaxis": {
            "gridcolor": "white",
            "linecolor": "white",
            "ticks": ""
           }
          },
          "scene": {
           "xaxis": {
            "backgroundcolor": "#E5ECF6",
            "gridcolor": "white",
            "gridwidth": 2,
            "linecolor": "white",
            "showbackground": true,
            "ticks": "",
            "zerolinecolor": "white"
           },
           "yaxis": {
            "backgroundcolor": "#E5ECF6",
            "gridcolor": "white",
            "gridwidth": 2,
            "linecolor": "white",
            "showbackground": true,
            "ticks": "",
            "zerolinecolor": "white"
           },
           "zaxis": {
            "backgroundcolor": "#E5ECF6",
            "gridcolor": "white",
            "gridwidth": 2,
            "linecolor": "white",
            "showbackground": true,
            "ticks": "",
            "zerolinecolor": "white"
           }
          },
          "shapedefaults": {
           "line": {
            "color": "#2a3f5f"
           }
          },
          "ternary": {
           "aaxis": {
            "gridcolor": "white",
            "linecolor": "white",
            "ticks": ""
           },
           "baxis": {
            "gridcolor": "white",
            "linecolor": "white",
            "ticks": ""
           },
           "bgcolor": "#E5ECF6",
           "caxis": {
            "gridcolor": "white",
            "linecolor": "white",
            "ticks": ""
           }
          },
          "title": {
           "x": 0.05
          },
          "xaxis": {
           "automargin": true,
           "gridcolor": "white",
           "linecolor": "white",
           "ticks": "",
           "title": {
            "standoff": 15
           },
           "zerolinecolor": "white",
           "zerolinewidth": 2
          },
          "yaxis": {
           "automargin": true,
           "gridcolor": "white",
           "linecolor": "white",
           "ticks": "",
           "title": {
            "standoff": 15
           },
           "zerolinecolor": "white",
           "zerolinewidth": 2
          }
         }
        },
        "title": {
         "text": "Timeline"
        },
        "xaxis": {
         "anchor": "y",
         "domain": [
          0,
          1
         ],
         "type": "date"
        },
        "yaxis": {
         "anchor": "x",
         "domain": [
          0,
          1
         ],
         "title": {
          "text": "alert_id"
         }
        }
       }
      },
      "text/html": [
       "<div>                            <div id=\"2db842ca-9a99-47f8-a0d3-8916df3aae0f\" class=\"plotly-graph-div\" style=\"height:600px; width:100%;\"></div>            <script type=\"text/javascript\">                require([\"plotly\"], function(Plotly) {                    window.PLOTLYENV=window.PLOTLYENV || {};                                    if (document.getElementById(\"2db842ca-9a99-47f8-a0d3-8916df3aae0f\")) {                    Plotly.newPlot(                        \"2db842ca-9a99-47f8-a0d3-8916df3aae0f\",                        [{\"alignmentgroup\":\"True\",\"base\":[\"2024-03-21T03:50:00+00:00\"],\"hovertemplate\":\"severity=info\\u003cbr\\u003estart=%{base}\\u003cbr\\u003eend=%{x}\\u003cbr\\u003ealert_id=%{y}\\u003cextra\\u003e\\u003c\\u002fextra\\u003e\",\"legendgroup\":\"info\",\"marker\":{\"color\":\"blue\",\"pattern\":{\"shape\":\"\"}},\"name\":\"info\",\"offsetgroup\":\"info\",\"orientation\":\"h\",\"showlegend\":true,\"textposition\":\"auto\",\"x\":[1980000.0],\"xaxis\":\"x\",\"y\":[\"ElasticsearchJVMHeapUseHigh-10\"],\"yaxis\":\"y\",\"type\":\"bar\",\"width\":0.8},{\"alignmentgroup\":\"True\",\"base\":[\"2024-03-21T03:53:00+00:00\",\"2024-03-21T03:52:00+00:00\"],\"hovertemplate\":\"severity=warning\\u003cbr\\u003estart=%{base}\\u003cbr\\u003eend=%{x}\\u003cbr\\u003ealert_id=%{y}\\u003cextra\\u003e\\u003c\\u002fextra\\u003e\",\"legendgroup\":\"warning\",\"marker\":{\"color\":\"orange\",\"pattern\":{\"shape\":\"\"}},\"name\":\"warning\",\"offsetgroup\":\"warning\",\"orientation\":\"h\",\"showlegend\":true,\"textposition\":\"auto\",\"x\":[1680000.0,2040000.0],\"xaxis\":\"x\",\"y\":[\"ElasticsearchClusterNotHealthy-10\",\"noise_o-10\"],\"yaxis\":\"y\",\"type\":\"bar\",\"width\":0.8}],                        {\"template\":{\"data\":{\"histogram2dcontour\":[{\"type\":\"histogram2dcontour\",\"colorbar\":{\"outlinewidth\":0,\"ticks\":\"\"},\"colorscale\":[[0.0,\"#0d0887\"],[0.1111111111111111,\"#46039f\"],[0.2222222222222222,\"#7201a8\"],[0.3333333333333333,\"#9c179e\"],[0.4444444444444444,\"#bd3786\"],[0.5555555555555556,\"#d8576b\"],[0.6666666666666666,\"#ed7953\"],[0.7777777777777778,\"#fb9f3a\"],[0.8888888888888888,\"#fdca26\"],[1.0,\"#f0f921\"]]}],\"choropleth\":[{\"type\":\"choropleth\",\"colorbar\":{\"outlinewidth\":0,\"ticks\":\"\"}}],\"histogram2d\":[{\"type\":\"histogram2d\",\"colorbar\":{\"outlinewidth\":0,\"ticks\":\"\"},\"colorscale\":[[0.0,\"#0d0887\"],[0.1111111111111111,\"#46039f\"],[0.2222222222222222,\"#7201a8\"],[0.3333333333333333,\"#9c179e\"],[0.4444444444444444,\"#bd3786\"],[0.5555555555555556,\"#d8576b\"],[0.6666666666666666,\"#ed7953\"],[0.7777777777777778,\"#fb9f3a\"],[0.8888888888888888,\"#fdca26\"],[1.0,\"#f0f921\"]]}],\"heatmap\":[{\"type\":\"heatmap\",\"colorbar\":{\"outlinewidth\":0,\"ticks\":\"\"},\"colorscale\":[[0.0,\"#0d0887\"],[0.1111111111111111,\"#46039f\"],[0.2222222222222222,\"#7201a8\"],[0.3333333333333333,\"#9c179e\"],[0.4444444444444444,\"#bd3786\"],[0.5555555555555556,\"#d8576b\"],[0.6666666666666666,\"#ed7953\"],[0.7777777777777778,\"#fb9f3a\"],[0.8888888888888888,\"#fdca26\"],[1.0,\"#f0f921\"]]}],\"heatmapgl\":[{\"type\":\"heatmapgl\",\"colorbar\":{\"outlinewidth\":0,\"ticks\":\"\"},\"colorscale\":[[0.0,\"#0d0887\"],[0.1111111111111111,\"#46039f\"],[0.2222222222222222,\"#7201a8\"],[0.3333333333333333,\"#9c179e\"],[0.4444444444444444,\"#bd3786\"],[0.5555555555555556,\"#d8576b\"],[0.6666666666666666,\"#ed7953\"],[0.7777777777777778,\"#fb9f3a\"],[0.8888888888888888,\"#fdca26\"],[1.0,\"#f0f921\"]]}],\"contourcarpet\":[{\"type\":\"contourcarpet\",\"colorbar\":{\"outlinewidth\":0,\"ticks\":\"\"}}],\"contour\":[{\"type\":\"contour\",\"colorbar\":{\"outlinewidth\":0,\"ticks\":\"\"},\"colorscale\":[[0.0,\"#0d0887\"],[0.1111111111111111,\"#46039f\"],[0.2222222222222222,\"#7201a8\"],[0.3333333333333333,\"#9c179e\"],[0.4444444444444444,\"#bd3786\"],[0.5555555555555556,\"#d8576b\"],[0.6666666666666666,\"#ed7953\"],[0.7777777777777778,\"#fb9f3a\"],[0.8888888888888888,\"#fdca26\"],[1.0,\"#f0f921\"]]}],\"surface\":[{\"type\":\"surface\",\"colorbar\":{\"outlinewidth\":0,\"ticks\":\"\"},\"colorscale\":[[0.0,\"#0d0887\"],[0.1111111111111111,\"#46039f\"],[0.2222222222222222,\"#7201a8\"],[0.3333333333333333,\"#9c179e\"],[0.4444444444444444,\"#bd3786\"],[0.5555555555555556,\"#d8576b\"],[0.6666666666666666,\"#ed7953\"],[0.7777777777777778,\"#fb9f3a\"],[0.8888888888888888,\"#fdca26\"],[1.0,\"#f0f921\"]]}],\"mesh3d\":[{\"type\":\"mesh3d\",\"colorbar\":{\"outlinewidth\":0,\"ticks\":\"\"}}],\"scatter\":[{\"fillpattern\":{\"fillmode\":\"overlay\",\"size\":10,\"solidity\":0.2},\"type\":\"scatter\"}],\"parcoords\":[{\"type\":\"parcoords\",\"line\":{\"colorbar\":{\"outlinewidth\":0,\"ticks\":\"\"}}}],\"scatterpolargl\":[{\"type\":\"scatterpolargl\",\"marker\":{\"colorbar\":{\"outlinewidth\":0,\"ticks\":\"\"}}}],\"bar\":[{\"error_x\":{\"color\":\"#2a3f5f\"},\"error_y\":{\"color\":\"#2a3f5f\"},\"marker\":{\"line\":{\"color\":\"#E5ECF6\",\"width\":0.5},\"pattern\":{\"fillmode\":\"overlay\",\"size\":10,\"solidity\":0.2}},\"type\":\"bar\"}],\"scattergeo\":[{\"type\":\"scattergeo\",\"marker\":{\"colorbar\":{\"outlinewidth\":0,\"ticks\":\"\"}}}],\"scatterpolar\":[{\"type\":\"scatterpolar\",\"marker\":{\"colorbar\":{\"outlinewidth\":0,\"ticks\":\"\"}}}],\"histogram\":[{\"marker\":{\"pattern\":{\"fillmode\":\"overlay\",\"size\":10,\"solidity\":0.2}},\"type\":\"histogram\"}],\"scattergl\":[{\"type\":\"scattergl\",\"marker\":{\"colorbar\":{\"outlinewidth\":0,\"ticks\":\"\"}}}],\"scatter3d\":[{\"type\":\"scatter3d\",\"line\":{\"colorbar\":{\"outlinewidth\":0,\"ticks\":\"\"}},\"marker\":{\"colorbar\":{\"outlinewidth\":0,\"ticks\":\"\"}}}],\"scattermapbox\":[{\"type\":\"scattermapbox\",\"marker\":{\"colorbar\":{\"outlinewidth\":0,\"ticks\":\"\"}}}],\"scatterternary\":[{\"type\":\"scatterternary\",\"marker\":{\"colorbar\":{\"outlinewidth\":0,\"ticks\":\"\"}}}],\"scattercarpet\":[{\"type\":\"scattercarpet\",\"marker\":{\"colorbar\":{\"outlinewidth\":0,\"ticks\":\"\"}}}],\"carpet\":[{\"aaxis\":{\"endlinecolor\":\"#2a3f5f\",\"gridcolor\":\"white\",\"linecolor\":\"white\",\"minorgridcolor\":\"white\",\"startlinecolor\":\"#2a3f5f\"},\"baxis\":{\"endlinecolor\":\"#2a3f5f\",\"gridcolor\":\"white\",\"linecolor\":\"white\",\"minorgridcolor\":\"white\",\"startlinecolor\":\"#2a3f5f\"},\"type\":\"carpet\"}],\"table\":[{\"cells\":{\"fill\":{\"color\":\"#EBF0F8\"},\"line\":{\"color\":\"white\"}},\"header\":{\"fill\":{\"color\":\"#C8D4E3\"},\"line\":{\"color\":\"white\"}},\"type\":\"table\"}],\"barpolar\":[{\"marker\":{\"line\":{\"color\":\"#E5ECF6\",\"width\":0.5},\"pattern\":{\"fillmode\":\"overlay\",\"size\":10,\"solidity\":0.2}},\"type\":\"barpolar\"}],\"pie\":[{\"automargin\":true,\"type\":\"pie\"}]},\"layout\":{\"autotypenumbers\":\"strict\",\"colorway\":[\"#636efa\",\"#EF553B\",\"#00cc96\",\"#ab63fa\",\"#FFA15A\",\"#19d3f3\",\"#FF6692\",\"#B6E880\",\"#FF97FF\",\"#FECB52\"],\"font\":{\"color\":\"#2a3f5f\"},\"hovermode\":\"closest\",\"hoverlabel\":{\"align\":\"left\"},\"paper_bgcolor\":\"white\",\"plot_bgcolor\":\"#E5ECF6\",\"polar\":{\"bgcolor\":\"#E5ECF6\",\"angularaxis\":{\"gridcolor\":\"white\",\"linecolor\":\"white\",\"ticks\":\"\"},\"radialaxis\":{\"gridcolor\":\"white\",\"linecolor\":\"white\",\"ticks\":\"\"}},\"ternary\":{\"bgcolor\":\"#E5ECF6\",\"aaxis\":{\"gridcolor\":\"white\",\"linecolor\":\"white\",\"ticks\":\"\"},\"baxis\":{\"gridcolor\":\"white\",\"linecolor\":\"white\",\"ticks\":\"\"},\"caxis\":{\"gridcolor\":\"white\",\"linecolor\":\"white\",\"ticks\":\"\"}},\"coloraxis\":{\"colorbar\":{\"outlinewidth\":0,\"ticks\":\"\"}},\"colorscale\":{\"sequential\":[[0.0,\"#0d0887\"],[0.1111111111111111,\"#46039f\"],[0.2222222222222222,\"#7201a8\"],[0.3333333333333333,\"#9c179e\"],[0.4444444444444444,\"#bd3786\"],[0.5555555555555556,\"#d8576b\"],[0.6666666666666666,\"#ed7953\"],[0.7777777777777778,\"#fb9f3a\"],[0.8888888888888888,\"#fdca26\"],[1.0,\"#f0f921\"]],\"sequentialminus\":[[0.0,\"#0d0887\"],[0.1111111111111111,\"#46039f\"],[0.2222222222222222,\"#7201a8\"],[0.3333333333333333,\"#9c179e\"],[0.4444444444444444,\"#bd3786\"],[0.5555555555555556,\"#d8576b\"],[0.6666666666666666,\"#ed7953\"],[0.7777777777777778,\"#fb9f3a\"],[0.8888888888888888,\"#fdca26\"],[1.0,\"#f0f921\"]],\"diverging\":[[0,\"#8e0152\"],[0.1,\"#c51b7d\"],[0.2,\"#de77ae\"],[0.3,\"#f1b6da\"],[0.4,\"#fde0ef\"],[0.5,\"#f7f7f7\"],[0.6,\"#e6f5d0\"],[0.7,\"#b8e186\"],[0.8,\"#7fbc41\"],[0.9,\"#4d9221\"],[1,\"#276419\"]]},\"xaxis\":{\"gridcolor\":\"white\",\"linecolor\":\"white\",\"ticks\":\"\",\"title\":{\"standoff\":15},\"zerolinecolor\":\"white\",\"automargin\":true,\"zerolinewidth\":2},\"yaxis\":{\"gridcolor\":\"white\",\"linecolor\":\"white\",\"ticks\":\"\",\"title\":{\"standoff\":15},\"zerolinecolor\":\"white\",\"automargin\":true,\"zerolinewidth\":2},\"scene\":{\"xaxis\":{\"backgroundcolor\":\"#E5ECF6\",\"gridcolor\":\"white\",\"linecolor\":\"white\",\"showbackground\":true,\"ticks\":\"\",\"zerolinecolor\":\"white\",\"gridwidth\":2},\"yaxis\":{\"backgroundcolor\":\"#E5ECF6\",\"gridcolor\":\"white\",\"linecolor\":\"white\",\"showbackground\":true,\"ticks\":\"\",\"zerolinecolor\":\"white\",\"gridwidth\":2},\"zaxis\":{\"backgroundcolor\":\"#E5ECF6\",\"gridcolor\":\"white\",\"linecolor\":\"white\",\"showbackground\":true,\"ticks\":\"\",\"zerolinecolor\":\"white\",\"gridwidth\":2}},\"shapedefaults\":{\"line\":{\"color\":\"#2a3f5f\"}},\"annotationdefaults\":{\"arrowcolor\":\"#2a3f5f\",\"arrowhead\":0,\"arrowwidth\":1},\"geo\":{\"bgcolor\":\"white\",\"landcolor\":\"#E5ECF6\",\"subunitcolor\":\"white\",\"showland\":true,\"showlakes\":true,\"lakecolor\":\"white\"},\"title\":{\"x\":0.05},\"mapbox\":{\"style\":\"light\"}}},\"xaxis\":{\"anchor\":\"y\",\"domain\":[0.0,1.0],\"type\":\"date\"},\"yaxis\":{\"anchor\":\"x\",\"domain\":[0.0,1.0],\"title\":{\"text\":\"alert_id\"}},\"legend\":{\"title\":{\"text\":\"severity\"},\"tracegroupgap\":0},\"title\":{\"text\":\"Timeline\"},\"barmode\":\"overlay\",\"showlegend\":false,\"bargap\":0.1,\"height\":600},                        {\"responsive\": true}                    ).then(function(){\n",
       "                            \n",
       "var gd = document.getElementById('2db842ca-9a99-47f8-a0d3-8916df3aae0f');\n",
       "var x = new MutationObserver(function (mutations, observer) {{\n",
       "        var display = window.getComputedStyle(gd).display;\n",
       "        if (!display || display === 'none') {{\n",
       "            console.log([gd, 'removed!']);\n",
       "            Plotly.purge(gd);\n",
       "            observer.disconnect();\n",
       "        }}\n",
       "}});\n",
       "\n",
       "// Listen for the removal of the full notebook cells\n",
       "var notebookContainer = gd.closest('#notebook-container');\n",
       "if (notebookContainer) {{\n",
       "    x.observe(notebookContainer, {childList: true});\n",
       "}}\n",
       "\n",
       "// Listen for the clearing of the current output cell\n",
       "var outputEl = gd.closest('.output');\n",
       "if (outputEl) {{\n",
       "    x.observe(outputEl, {childList: true});\n",
       "}}\n",
       "\n",
       "                        })                };                });            </script>        </div>"
      ]
     },
     "metadata": {},
     "output_type": "display_data"
    }
   ],
   "source": [
    "# Reduce the flapping by merging with positive threshold.\n",
    "alerts_intervals_reduced_flap = alerts_intervals.merge_overlaps(\n",
    "    threshold=timedelta(minutes=30)\n",
    ")\n",
    "\n",
    "fig_noflap = plot_alerts_timeline(\n",
    "    alerts_intervals_reduced_flap.fmap(\n",
    "        lambda df: df.query(\"instance_id == '10'\")\n",
    "    ),\n",
    "    alert_id=alert_id,\n",
    "    height=600\n",
    ")\n",
    "\n",
    "display(HTML(\"<h3>Without flapping</h3>\"))\n",
    "fig_noflap.show()"
   ]
  },
  {
   "cell_type": "markdown",
   "id": "c83b88b7",
   "metadata": {},
   "source": [
    "## Re-apply the clustering after the cleanup"
   ]
  },
  {
   "cell_type": "code",
   "execution_count": 14,
   "id": "ade880c6",
   "metadata": {
    "ExecuteTime": {
     "end_time": "2024-03-18T18:53:40.458797Z",
     "start_time": "2024-03-18T18:53:39.937461Z"
    }
   },
   "outputs": [
    {
     "data": {
      "text/html": [
       "<h3>With flapping</h3>"
      ],
      "text/plain": [
       "<IPython.core.display.HTML object>"
      ]
     },
     "metadata": {},
     "output_type": "display_data"
    },
    {
     "data": {
      "application/vnd.plotly.v1+json": {
       "config": {
        "plotlyServerURL": "https://plot.ly"
       },
       "data": [
        {
         "marker": {
          "size": 2
         },
         "mode": "markers",
         "name": "grouping: -1",
         "text": [
          "noise_u",
          "noise_v"
         ],
         "type": "scatter3d",
         "x": [
          8.575338363647461,
          7.960437297821045
         ],
         "y": [
          1.4712144136428833,
          1.2151793241500854
         ],
         "z": [
          7.174133777618408,
          5.282956600189209
         ]
        },
        {
         "marker": {
          "size": 2
         },
         "mode": "markers",
         "name": "grouping: 0",
         "text": [
          "ElasticsearchClusterNotHealthy",
          "ElasticsearchJVMHeapUseHigh",
          "noise_b",
          "noise_c",
          "noise_d",
          "noise_e",
          "noise_f",
          "noise_g",
          "noise_h",
          "noise_i",
          "noise_j",
          "noise_l",
          "noise_m",
          "noise_n",
          "noise_o",
          "noise_p",
          "noise_q",
          "noise_r",
          "noise_s",
          "noise_w",
          "noise_x",
          "noise_y"
         ],
         "type": "scatter3d",
         "x": [
          10.385354042053223,
          10.594656944274902,
          9.043158531188965,
          9.344836235046387,
          8.590679168701172,
          9.812162399291992,
          8.850027084350586,
          8.983659744262695,
          10.203828811645508,
          9.417491912841797,
          10.02812671661377,
          9.546531677246094,
          9.991455078125,
          9.400964736938477,
          9.422139167785645,
          10.379376411437988,
          9.994071960449219,
          10.619595527648926,
          8.937660217285156,
          7.841290473937988,
          8.714742660522461,
          10.190963745117188
         ],
         "y": [
          2.364854574203491,
          2.6303598880767822,
          0.6090844869613647,
          0.09838438779115677,
          0.7043994069099426,
          1.9325106143951416,
          1.036466121673584,
          1.6089046001434326,
          1.3582208156585693,
          1.3563506603240967,
          1.1972401142120361,
          1.9005073308944702,
          1.5221939086914062,
          0.8119814395904541,
          1.3923195600509644,
          2.0827476978302,
          0.8277527093887329,
          1.3112438917160034,
          0.5591688752174377,
          1.1761488914489746,
          2.1313095092773438,
          2.0537943840026855
         ],
         "z": [
          5.315582275390625,
          5.082546710968018,
          6.948484420776367,
          6.360616683959961,
          6.1616716384887695,
          6.103759765625,
          5.9136528968811035,
          6.193650722503662,
          6.182085990905762,
          5.437123775482178,
          5.672202110290527,
          5.809682846069336,
          6.669546127319336,
          6.00461483001709,
          6.624145030975342,
          5.568164825439453,
          6.157322883605957,
          5.79209566116333,
          5.09272575378418,
          6.282773017883301,
          5.6262030601501465,
          6.485465049743652
         ]
        },
        {
         "marker": {
          "size": 2
         },
         "mode": "markers",
         "name": "grouping: 1",
         "text": [
          "KubeDeploymentReplicasMismatch",
          "KubeNodeNotReady",
          "TargetDown"
         ],
         "type": "scatter3d",
         "x": [
          -1.6609630584716797,
          -1.53969144821167,
          -1.747536540031433
         ],
         "y": [
          6.497725009918213,
          6.61890172958374,
          6.411075592041016
         ],
         "z": [
          16.657516479492188,
          16.5362548828125,
          16.744096755981445
         ]
        },
        {
         "marker": {
          "size": 2
         },
         "mode": "markers",
         "name": "grouping: 2",
         "text": [
          "noise_k",
          "noise_t"
         ],
         "type": "scatter3d",
         "x": [
          9.164762496948242,
          9.297593116760254
         ],
         "y": [
          4.681790828704834,
          4.486844062805176
         ],
         "z": [
          8.350434303283691,
          8.173213005065918
         ]
        }
       ],
       "layout": {
        "template": {
         "data": {
          "bar": [
           {
            "error_x": {
             "color": "#2a3f5f"
            },
            "error_y": {
             "color": "#2a3f5f"
            },
            "marker": {
             "line": {
              "color": "#E5ECF6",
              "width": 0.5
             },
             "pattern": {
              "fillmode": "overlay",
              "size": 10,
              "solidity": 0.2
             }
            },
            "type": "bar"
           }
          ],
          "barpolar": [
           {
            "marker": {
             "line": {
              "color": "#E5ECF6",
              "width": 0.5
             },
             "pattern": {
              "fillmode": "overlay",
              "size": 10,
              "solidity": 0.2
             }
            },
            "type": "barpolar"
           }
          ],
          "carpet": [
           {
            "aaxis": {
             "endlinecolor": "#2a3f5f",
             "gridcolor": "white",
             "linecolor": "white",
             "minorgridcolor": "white",
             "startlinecolor": "#2a3f5f"
            },
            "baxis": {
             "endlinecolor": "#2a3f5f",
             "gridcolor": "white",
             "linecolor": "white",
             "minorgridcolor": "white",
             "startlinecolor": "#2a3f5f"
            },
            "type": "carpet"
           }
          ],
          "choropleth": [
           {
            "colorbar": {
             "outlinewidth": 0,
             "ticks": ""
            },
            "type": "choropleth"
           }
          ],
          "contour": [
           {
            "colorbar": {
             "outlinewidth": 0,
             "ticks": ""
            },
            "colorscale": [
             [
              0,
              "#0d0887"
             ],
             [
              0.1111111111111111,
              "#46039f"
             ],
             [
              0.2222222222222222,
              "#7201a8"
             ],
             [
              0.3333333333333333,
              "#9c179e"
             ],
             [
              0.4444444444444444,
              "#bd3786"
             ],
             [
              0.5555555555555556,
              "#d8576b"
             ],
             [
              0.6666666666666666,
              "#ed7953"
             ],
             [
              0.7777777777777778,
              "#fb9f3a"
             ],
             [
              0.8888888888888888,
              "#fdca26"
             ],
             [
              1,
              "#f0f921"
             ]
            ],
            "type": "contour"
           }
          ],
          "contourcarpet": [
           {
            "colorbar": {
             "outlinewidth": 0,
             "ticks": ""
            },
            "type": "contourcarpet"
           }
          ],
          "heatmap": [
           {
            "colorbar": {
             "outlinewidth": 0,
             "ticks": ""
            },
            "colorscale": [
             [
              0,
              "#0d0887"
             ],
             [
              0.1111111111111111,
              "#46039f"
             ],
             [
              0.2222222222222222,
              "#7201a8"
             ],
             [
              0.3333333333333333,
              "#9c179e"
             ],
             [
              0.4444444444444444,
              "#bd3786"
             ],
             [
              0.5555555555555556,
              "#d8576b"
             ],
             [
              0.6666666666666666,
              "#ed7953"
             ],
             [
              0.7777777777777778,
              "#fb9f3a"
             ],
             [
              0.8888888888888888,
              "#fdca26"
             ],
             [
              1,
              "#f0f921"
             ]
            ],
            "type": "heatmap"
           }
          ],
          "heatmapgl": [
           {
            "colorbar": {
             "outlinewidth": 0,
             "ticks": ""
            },
            "colorscale": [
             [
              0,
              "#0d0887"
             ],
             [
              0.1111111111111111,
              "#46039f"
             ],
             [
              0.2222222222222222,
              "#7201a8"
             ],
             [
              0.3333333333333333,
              "#9c179e"
             ],
             [
              0.4444444444444444,
              "#bd3786"
             ],
             [
              0.5555555555555556,
              "#d8576b"
             ],
             [
              0.6666666666666666,
              "#ed7953"
             ],
             [
              0.7777777777777778,
              "#fb9f3a"
             ],
             [
              0.8888888888888888,
              "#fdca26"
             ],
             [
              1,
              "#f0f921"
             ]
            ],
            "type": "heatmapgl"
           }
          ],
          "histogram": [
           {
            "marker": {
             "pattern": {
              "fillmode": "overlay",
              "size": 10,
              "solidity": 0.2
             }
            },
            "type": "histogram"
           }
          ],
          "histogram2d": [
           {
            "colorbar": {
             "outlinewidth": 0,
             "ticks": ""
            },
            "colorscale": [
             [
              0,
              "#0d0887"
             ],
             [
              0.1111111111111111,
              "#46039f"
             ],
             [
              0.2222222222222222,
              "#7201a8"
             ],
             [
              0.3333333333333333,
              "#9c179e"
             ],
             [
              0.4444444444444444,
              "#bd3786"
             ],
             [
              0.5555555555555556,
              "#d8576b"
             ],
             [
              0.6666666666666666,
              "#ed7953"
             ],
             [
              0.7777777777777778,
              "#fb9f3a"
             ],
             [
              0.8888888888888888,
              "#fdca26"
             ],
             [
              1,
              "#f0f921"
             ]
            ],
            "type": "histogram2d"
           }
          ],
          "histogram2dcontour": [
           {
            "colorbar": {
             "outlinewidth": 0,
             "ticks": ""
            },
            "colorscale": [
             [
              0,
              "#0d0887"
             ],
             [
              0.1111111111111111,
              "#46039f"
             ],
             [
              0.2222222222222222,
              "#7201a8"
             ],
             [
              0.3333333333333333,
              "#9c179e"
             ],
             [
              0.4444444444444444,
              "#bd3786"
             ],
             [
              0.5555555555555556,
              "#d8576b"
             ],
             [
              0.6666666666666666,
              "#ed7953"
             ],
             [
              0.7777777777777778,
              "#fb9f3a"
             ],
             [
              0.8888888888888888,
              "#fdca26"
             ],
             [
              1,
              "#f0f921"
             ]
            ],
            "type": "histogram2dcontour"
           }
          ],
          "mesh3d": [
           {
            "colorbar": {
             "outlinewidth": 0,
             "ticks": ""
            },
            "type": "mesh3d"
           }
          ],
          "parcoords": [
           {
            "line": {
             "colorbar": {
              "outlinewidth": 0,
              "ticks": ""
             }
            },
            "type": "parcoords"
           }
          ],
          "pie": [
           {
            "automargin": true,
            "type": "pie"
           }
          ],
          "scatter": [
           {
            "fillpattern": {
             "fillmode": "overlay",
             "size": 10,
             "solidity": 0.2
            },
            "type": "scatter"
           }
          ],
          "scatter3d": [
           {
            "line": {
             "colorbar": {
              "outlinewidth": 0,
              "ticks": ""
             }
            },
            "marker": {
             "colorbar": {
              "outlinewidth": 0,
              "ticks": ""
             }
            },
            "type": "scatter3d"
           }
          ],
          "scattercarpet": [
           {
            "marker": {
             "colorbar": {
              "outlinewidth": 0,
              "ticks": ""
             }
            },
            "type": "scattercarpet"
           }
          ],
          "scattergeo": [
           {
            "marker": {
             "colorbar": {
              "outlinewidth": 0,
              "ticks": ""
             }
            },
            "type": "scattergeo"
           }
          ],
          "scattergl": [
           {
            "marker": {
             "colorbar": {
              "outlinewidth": 0,
              "ticks": ""
             }
            },
            "type": "scattergl"
           }
          ],
          "scattermapbox": [
           {
            "marker": {
             "colorbar": {
              "outlinewidth": 0,
              "ticks": ""
             }
            },
            "type": "scattermapbox"
           }
          ],
          "scatterpolar": [
           {
            "marker": {
             "colorbar": {
              "outlinewidth": 0,
              "ticks": ""
             }
            },
            "type": "scatterpolar"
           }
          ],
          "scatterpolargl": [
           {
            "marker": {
             "colorbar": {
              "outlinewidth": 0,
              "ticks": ""
             }
            },
            "type": "scatterpolargl"
           }
          ],
          "scatterternary": [
           {
            "marker": {
             "colorbar": {
              "outlinewidth": 0,
              "ticks": ""
             }
            },
            "type": "scatterternary"
           }
          ],
          "surface": [
           {
            "colorbar": {
             "outlinewidth": 0,
             "ticks": ""
            },
            "colorscale": [
             [
              0,
              "#0d0887"
             ],
             [
              0.1111111111111111,
              "#46039f"
             ],
             [
              0.2222222222222222,
              "#7201a8"
             ],
             [
              0.3333333333333333,
              "#9c179e"
             ],
             [
              0.4444444444444444,
              "#bd3786"
             ],
             [
              0.5555555555555556,
              "#d8576b"
             ],
             [
              0.6666666666666666,
              "#ed7953"
             ],
             [
              0.7777777777777778,
              "#fb9f3a"
             ],
             [
              0.8888888888888888,
              "#fdca26"
             ],
             [
              1,
              "#f0f921"
             ]
            ],
            "type": "surface"
           }
          ],
          "table": [
           {
            "cells": {
             "fill": {
              "color": "#EBF0F8"
             },
             "line": {
              "color": "white"
             }
            },
            "header": {
             "fill": {
              "color": "#C8D4E3"
             },
             "line": {
              "color": "white"
             }
            },
            "type": "table"
           }
          ]
         },
         "layout": {
          "annotationdefaults": {
           "arrowcolor": "#2a3f5f",
           "arrowhead": 0,
           "arrowwidth": 1
          },
          "autotypenumbers": "strict",
          "coloraxis": {
           "colorbar": {
            "outlinewidth": 0,
            "ticks": ""
           }
          },
          "colorscale": {
           "diverging": [
            [
             0,
             "#8e0152"
            ],
            [
             0.1,
             "#c51b7d"
            ],
            [
             0.2,
             "#de77ae"
            ],
            [
             0.3,
             "#f1b6da"
            ],
            [
             0.4,
             "#fde0ef"
            ],
            [
             0.5,
             "#f7f7f7"
            ],
            [
             0.6,
             "#e6f5d0"
            ],
            [
             0.7,
             "#b8e186"
            ],
            [
             0.8,
             "#7fbc41"
            ],
            [
             0.9,
             "#4d9221"
            ],
            [
             1,
             "#276419"
            ]
           ],
           "sequential": [
            [
             0,
             "#0d0887"
            ],
            [
             0.1111111111111111,
             "#46039f"
            ],
            [
             0.2222222222222222,
             "#7201a8"
            ],
            [
             0.3333333333333333,
             "#9c179e"
            ],
            [
             0.4444444444444444,
             "#bd3786"
            ],
            [
             0.5555555555555556,
             "#d8576b"
            ],
            [
             0.6666666666666666,
             "#ed7953"
            ],
            [
             0.7777777777777778,
             "#fb9f3a"
            ],
            [
             0.8888888888888888,
             "#fdca26"
            ],
            [
             1,
             "#f0f921"
            ]
           ],
           "sequentialminus": [
            [
             0,
             "#0d0887"
            ],
            [
             0.1111111111111111,
             "#46039f"
            ],
            [
             0.2222222222222222,
             "#7201a8"
            ],
            [
             0.3333333333333333,
             "#9c179e"
            ],
            [
             0.4444444444444444,
             "#bd3786"
            ],
            [
             0.5555555555555556,
             "#d8576b"
            ],
            [
             0.6666666666666666,
             "#ed7953"
            ],
            [
             0.7777777777777778,
             "#fb9f3a"
            ],
            [
             0.8888888888888888,
             "#fdca26"
            ],
            [
             1,
             "#f0f921"
            ]
           ]
          },
          "colorway": [
           "#636efa",
           "#EF553B",
           "#00cc96",
           "#ab63fa",
           "#FFA15A",
           "#19d3f3",
           "#FF6692",
           "#B6E880",
           "#FF97FF",
           "#FECB52"
          ],
          "font": {
           "color": "#2a3f5f"
          },
          "geo": {
           "bgcolor": "white",
           "lakecolor": "white",
           "landcolor": "#E5ECF6",
           "showlakes": true,
           "showland": true,
           "subunitcolor": "white"
          },
          "hoverlabel": {
           "align": "left"
          },
          "hovermode": "closest",
          "mapbox": {
           "style": "light"
          },
          "paper_bgcolor": "white",
          "plot_bgcolor": "#E5ECF6",
          "polar": {
           "angularaxis": {
            "gridcolor": "white",
            "linecolor": "white",
            "ticks": ""
           },
           "bgcolor": "#E5ECF6",
           "radialaxis": {
            "gridcolor": "white",
            "linecolor": "white",
            "ticks": ""
           }
          },
          "scene": {
           "xaxis": {
            "backgroundcolor": "#E5ECF6",
            "gridcolor": "white",
            "gridwidth": 2,
            "linecolor": "white",
            "showbackground": true,
            "ticks": "",
            "zerolinecolor": "white"
           },
           "yaxis": {
            "backgroundcolor": "#E5ECF6",
            "gridcolor": "white",
            "gridwidth": 2,
            "linecolor": "white",
            "showbackground": true,
            "ticks": "",
            "zerolinecolor": "white"
           },
           "zaxis": {
            "backgroundcolor": "#E5ECF6",
            "gridcolor": "white",
            "gridwidth": 2,
            "linecolor": "white",
            "showbackground": true,
            "ticks": "",
            "zerolinecolor": "white"
           }
          },
          "shapedefaults": {
           "line": {
            "color": "#2a3f5f"
           }
          },
          "ternary": {
           "aaxis": {
            "gridcolor": "white",
            "linecolor": "white",
            "ticks": ""
           },
           "baxis": {
            "gridcolor": "white",
            "linecolor": "white",
            "ticks": ""
           },
           "bgcolor": "#E5ECF6",
           "caxis": {
            "gridcolor": "white",
            "linecolor": "white",
            "ticks": ""
           }
          },
          "title": {
           "x": 0.05
          },
          "xaxis": {
           "automargin": true,
           "gridcolor": "white",
           "linecolor": "white",
           "ticks": "",
           "title": {
            "standoff": 15
           },
           "zerolinecolor": "white",
           "zerolinewidth": 2
          },
          "yaxis": {
           "automargin": true,
           "gridcolor": "white",
           "linecolor": "white",
           "ticks": "",
           "title": {
            "standoff": 15
           },
           "zerolinecolor": "white",
           "zerolinewidth": 2
          }
         }
        }
       }
      },
      "text/html": [
       "<div>                            <div id=\"24f6717e-11ac-48cb-8204-72cd8b19fc30\" class=\"plotly-graph-div\" style=\"height:525px; width:100%;\"></div>            <script type=\"text/javascript\">                require([\"plotly\"], function(Plotly) {                    window.PLOTLYENV=window.PLOTLYENV || {};                                    if (document.getElementById(\"24f6717e-11ac-48cb-8204-72cd8b19fc30\")) {                    Plotly.newPlot(                        \"24f6717e-11ac-48cb-8204-72cd8b19fc30\",                        [{\"marker\":{\"size\":2},\"mode\":\"markers\",\"name\":\"grouping: -1\",\"text\":[\"noise_u\",\"noise_v\"],\"x\":[8.575338363647461,7.960437297821045],\"y\":[1.4712144136428833,1.2151793241500854],\"z\":[7.174133777618408,5.282956600189209],\"type\":\"scatter3d\"},{\"marker\":{\"size\":2},\"mode\":\"markers\",\"name\":\"grouping: 0\",\"text\":[\"ElasticsearchClusterNotHealthy\",\"ElasticsearchJVMHeapUseHigh\",\"noise_b\",\"noise_c\",\"noise_d\",\"noise_e\",\"noise_f\",\"noise_g\",\"noise_h\",\"noise_i\",\"noise_j\",\"noise_l\",\"noise_m\",\"noise_n\",\"noise_o\",\"noise_p\",\"noise_q\",\"noise_r\",\"noise_s\",\"noise_w\",\"noise_x\",\"noise_y\"],\"x\":[10.385354042053223,10.594656944274902,9.043158531188965,9.344836235046387,8.590679168701172,9.812162399291992,8.850027084350586,8.983659744262695,10.203828811645508,9.417491912841797,10.02812671661377,9.546531677246094,9.991455078125,9.400964736938477,9.422139167785645,10.379376411437988,9.994071960449219,10.619595527648926,8.937660217285156,7.841290473937988,8.714742660522461,10.190963745117188],\"y\":[2.364854574203491,2.6303598880767822,0.6090844869613647,0.09838438779115677,0.7043994069099426,1.9325106143951416,1.036466121673584,1.6089046001434326,1.3582208156585693,1.3563506603240967,1.1972401142120361,1.9005073308944702,1.5221939086914062,0.8119814395904541,1.3923195600509644,2.0827476978302,0.8277527093887329,1.3112438917160034,0.5591688752174377,1.1761488914489746,2.1313095092773438,2.0537943840026855],\"z\":[5.315582275390625,5.082546710968018,6.948484420776367,6.360616683959961,6.1616716384887695,6.103759765625,5.9136528968811035,6.193650722503662,6.182085990905762,5.437123775482178,5.672202110290527,5.809682846069336,6.669546127319336,6.00461483001709,6.624145030975342,5.568164825439453,6.157322883605957,5.79209566116333,5.09272575378418,6.282773017883301,5.6262030601501465,6.485465049743652],\"type\":\"scatter3d\"},{\"marker\":{\"size\":2},\"mode\":\"markers\",\"name\":\"grouping: 1\",\"text\":[\"KubeDeploymentReplicasMismatch\",\"KubeNodeNotReady\",\"TargetDown\"],\"x\":[-1.6609630584716797,-1.53969144821167,-1.747536540031433],\"y\":[6.497725009918213,6.61890172958374,6.411075592041016],\"z\":[16.657516479492188,16.5362548828125,16.744096755981445],\"type\":\"scatter3d\"},{\"marker\":{\"size\":2},\"mode\":\"markers\",\"name\":\"grouping: 2\",\"text\":[\"noise_k\",\"noise_t\"],\"x\":[9.164762496948242,9.297593116760254],\"y\":[4.681790828704834,4.486844062805176],\"z\":[8.350434303283691,8.173213005065918],\"type\":\"scatter3d\"}],                        {\"template\":{\"data\":{\"histogram2dcontour\":[{\"type\":\"histogram2dcontour\",\"colorbar\":{\"outlinewidth\":0,\"ticks\":\"\"},\"colorscale\":[[0.0,\"#0d0887\"],[0.1111111111111111,\"#46039f\"],[0.2222222222222222,\"#7201a8\"],[0.3333333333333333,\"#9c179e\"],[0.4444444444444444,\"#bd3786\"],[0.5555555555555556,\"#d8576b\"],[0.6666666666666666,\"#ed7953\"],[0.7777777777777778,\"#fb9f3a\"],[0.8888888888888888,\"#fdca26\"],[1.0,\"#f0f921\"]]}],\"choropleth\":[{\"type\":\"choropleth\",\"colorbar\":{\"outlinewidth\":0,\"ticks\":\"\"}}],\"histogram2d\":[{\"type\":\"histogram2d\",\"colorbar\":{\"outlinewidth\":0,\"ticks\":\"\"},\"colorscale\":[[0.0,\"#0d0887\"],[0.1111111111111111,\"#46039f\"],[0.2222222222222222,\"#7201a8\"],[0.3333333333333333,\"#9c179e\"],[0.4444444444444444,\"#bd3786\"],[0.5555555555555556,\"#d8576b\"],[0.6666666666666666,\"#ed7953\"],[0.7777777777777778,\"#fb9f3a\"],[0.8888888888888888,\"#fdca26\"],[1.0,\"#f0f921\"]]}],\"heatmap\":[{\"type\":\"heatmap\",\"colorbar\":{\"outlinewidth\":0,\"ticks\":\"\"},\"colorscale\":[[0.0,\"#0d0887\"],[0.1111111111111111,\"#46039f\"],[0.2222222222222222,\"#7201a8\"],[0.3333333333333333,\"#9c179e\"],[0.4444444444444444,\"#bd3786\"],[0.5555555555555556,\"#d8576b\"],[0.6666666666666666,\"#ed7953\"],[0.7777777777777778,\"#fb9f3a\"],[0.8888888888888888,\"#fdca26\"],[1.0,\"#f0f921\"]]}],\"heatmapgl\":[{\"type\":\"heatmapgl\",\"colorbar\":{\"outlinewidth\":0,\"ticks\":\"\"},\"colorscale\":[[0.0,\"#0d0887\"],[0.1111111111111111,\"#46039f\"],[0.2222222222222222,\"#7201a8\"],[0.3333333333333333,\"#9c179e\"],[0.4444444444444444,\"#bd3786\"],[0.5555555555555556,\"#d8576b\"],[0.6666666666666666,\"#ed7953\"],[0.7777777777777778,\"#fb9f3a\"],[0.8888888888888888,\"#fdca26\"],[1.0,\"#f0f921\"]]}],\"contourcarpet\":[{\"type\":\"contourcarpet\",\"colorbar\":{\"outlinewidth\":0,\"ticks\":\"\"}}],\"contour\":[{\"type\":\"contour\",\"colorbar\":{\"outlinewidth\":0,\"ticks\":\"\"},\"colorscale\":[[0.0,\"#0d0887\"],[0.1111111111111111,\"#46039f\"],[0.2222222222222222,\"#7201a8\"],[0.3333333333333333,\"#9c179e\"],[0.4444444444444444,\"#bd3786\"],[0.5555555555555556,\"#d8576b\"],[0.6666666666666666,\"#ed7953\"],[0.7777777777777778,\"#fb9f3a\"],[0.8888888888888888,\"#fdca26\"],[1.0,\"#f0f921\"]]}],\"surface\":[{\"type\":\"surface\",\"colorbar\":{\"outlinewidth\":0,\"ticks\":\"\"},\"colorscale\":[[0.0,\"#0d0887\"],[0.1111111111111111,\"#46039f\"],[0.2222222222222222,\"#7201a8\"],[0.3333333333333333,\"#9c179e\"],[0.4444444444444444,\"#bd3786\"],[0.5555555555555556,\"#d8576b\"],[0.6666666666666666,\"#ed7953\"],[0.7777777777777778,\"#fb9f3a\"],[0.8888888888888888,\"#fdca26\"],[1.0,\"#f0f921\"]]}],\"mesh3d\":[{\"type\":\"mesh3d\",\"colorbar\":{\"outlinewidth\":0,\"ticks\":\"\"}}],\"scatter\":[{\"fillpattern\":{\"fillmode\":\"overlay\",\"size\":10,\"solidity\":0.2},\"type\":\"scatter\"}],\"parcoords\":[{\"type\":\"parcoords\",\"line\":{\"colorbar\":{\"outlinewidth\":0,\"ticks\":\"\"}}}],\"scatterpolargl\":[{\"type\":\"scatterpolargl\",\"marker\":{\"colorbar\":{\"outlinewidth\":0,\"ticks\":\"\"}}}],\"bar\":[{\"error_x\":{\"color\":\"#2a3f5f\"},\"error_y\":{\"color\":\"#2a3f5f\"},\"marker\":{\"line\":{\"color\":\"#E5ECF6\",\"width\":0.5},\"pattern\":{\"fillmode\":\"overlay\",\"size\":10,\"solidity\":0.2}},\"type\":\"bar\"}],\"scattergeo\":[{\"type\":\"scattergeo\",\"marker\":{\"colorbar\":{\"outlinewidth\":0,\"ticks\":\"\"}}}],\"scatterpolar\":[{\"type\":\"scatterpolar\",\"marker\":{\"colorbar\":{\"outlinewidth\":0,\"ticks\":\"\"}}}],\"histogram\":[{\"marker\":{\"pattern\":{\"fillmode\":\"overlay\",\"size\":10,\"solidity\":0.2}},\"type\":\"histogram\"}],\"scattergl\":[{\"type\":\"scattergl\",\"marker\":{\"colorbar\":{\"outlinewidth\":0,\"ticks\":\"\"}}}],\"scatter3d\":[{\"type\":\"scatter3d\",\"line\":{\"colorbar\":{\"outlinewidth\":0,\"ticks\":\"\"}},\"marker\":{\"colorbar\":{\"outlinewidth\":0,\"ticks\":\"\"}}}],\"scattermapbox\":[{\"type\":\"scattermapbox\",\"marker\":{\"colorbar\":{\"outlinewidth\":0,\"ticks\":\"\"}}}],\"scatterternary\":[{\"type\":\"scatterternary\",\"marker\":{\"colorbar\":{\"outlinewidth\":0,\"ticks\":\"\"}}}],\"scattercarpet\":[{\"type\":\"scattercarpet\",\"marker\":{\"colorbar\":{\"outlinewidth\":0,\"ticks\":\"\"}}}],\"carpet\":[{\"aaxis\":{\"endlinecolor\":\"#2a3f5f\",\"gridcolor\":\"white\",\"linecolor\":\"white\",\"minorgridcolor\":\"white\",\"startlinecolor\":\"#2a3f5f\"},\"baxis\":{\"endlinecolor\":\"#2a3f5f\",\"gridcolor\":\"white\",\"linecolor\":\"white\",\"minorgridcolor\":\"white\",\"startlinecolor\":\"#2a3f5f\"},\"type\":\"carpet\"}],\"table\":[{\"cells\":{\"fill\":{\"color\":\"#EBF0F8\"},\"line\":{\"color\":\"white\"}},\"header\":{\"fill\":{\"color\":\"#C8D4E3\"},\"line\":{\"color\":\"white\"}},\"type\":\"table\"}],\"barpolar\":[{\"marker\":{\"line\":{\"color\":\"#E5ECF6\",\"width\":0.5},\"pattern\":{\"fillmode\":\"overlay\",\"size\":10,\"solidity\":0.2}},\"type\":\"barpolar\"}],\"pie\":[{\"automargin\":true,\"type\":\"pie\"}]},\"layout\":{\"autotypenumbers\":\"strict\",\"colorway\":[\"#636efa\",\"#EF553B\",\"#00cc96\",\"#ab63fa\",\"#FFA15A\",\"#19d3f3\",\"#FF6692\",\"#B6E880\",\"#FF97FF\",\"#FECB52\"],\"font\":{\"color\":\"#2a3f5f\"},\"hovermode\":\"closest\",\"hoverlabel\":{\"align\":\"left\"},\"paper_bgcolor\":\"white\",\"plot_bgcolor\":\"#E5ECF6\",\"polar\":{\"bgcolor\":\"#E5ECF6\",\"angularaxis\":{\"gridcolor\":\"white\",\"linecolor\":\"white\",\"ticks\":\"\"},\"radialaxis\":{\"gridcolor\":\"white\",\"linecolor\":\"white\",\"ticks\":\"\"}},\"ternary\":{\"bgcolor\":\"#E5ECF6\",\"aaxis\":{\"gridcolor\":\"white\",\"linecolor\":\"white\",\"ticks\":\"\"},\"baxis\":{\"gridcolor\":\"white\",\"linecolor\":\"white\",\"ticks\":\"\"},\"caxis\":{\"gridcolor\":\"white\",\"linecolor\":\"white\",\"ticks\":\"\"}},\"coloraxis\":{\"colorbar\":{\"outlinewidth\":0,\"ticks\":\"\"}},\"colorscale\":{\"sequential\":[[0.0,\"#0d0887\"],[0.1111111111111111,\"#46039f\"],[0.2222222222222222,\"#7201a8\"],[0.3333333333333333,\"#9c179e\"],[0.4444444444444444,\"#bd3786\"],[0.5555555555555556,\"#d8576b\"],[0.6666666666666666,\"#ed7953\"],[0.7777777777777778,\"#fb9f3a\"],[0.8888888888888888,\"#fdca26\"],[1.0,\"#f0f921\"]],\"sequentialminus\":[[0.0,\"#0d0887\"],[0.1111111111111111,\"#46039f\"],[0.2222222222222222,\"#7201a8\"],[0.3333333333333333,\"#9c179e\"],[0.4444444444444444,\"#bd3786\"],[0.5555555555555556,\"#d8576b\"],[0.6666666666666666,\"#ed7953\"],[0.7777777777777778,\"#fb9f3a\"],[0.8888888888888888,\"#fdca26\"],[1.0,\"#f0f921\"]],\"diverging\":[[0,\"#8e0152\"],[0.1,\"#c51b7d\"],[0.2,\"#de77ae\"],[0.3,\"#f1b6da\"],[0.4,\"#fde0ef\"],[0.5,\"#f7f7f7\"],[0.6,\"#e6f5d0\"],[0.7,\"#b8e186\"],[0.8,\"#7fbc41\"],[0.9,\"#4d9221\"],[1,\"#276419\"]]},\"xaxis\":{\"gridcolor\":\"white\",\"linecolor\":\"white\",\"ticks\":\"\",\"title\":{\"standoff\":15},\"zerolinecolor\":\"white\",\"automargin\":true,\"zerolinewidth\":2},\"yaxis\":{\"gridcolor\":\"white\",\"linecolor\":\"white\",\"ticks\":\"\",\"title\":{\"standoff\":15},\"zerolinecolor\":\"white\",\"automargin\":true,\"zerolinewidth\":2},\"scene\":{\"xaxis\":{\"backgroundcolor\":\"#E5ECF6\",\"gridcolor\":\"white\",\"linecolor\":\"white\",\"showbackground\":true,\"ticks\":\"\",\"zerolinecolor\":\"white\",\"gridwidth\":2},\"yaxis\":{\"backgroundcolor\":\"#E5ECF6\",\"gridcolor\":\"white\",\"linecolor\":\"white\",\"showbackground\":true,\"ticks\":\"\",\"zerolinecolor\":\"white\",\"gridwidth\":2},\"zaxis\":{\"backgroundcolor\":\"#E5ECF6\",\"gridcolor\":\"white\",\"linecolor\":\"white\",\"showbackground\":true,\"ticks\":\"\",\"zerolinecolor\":\"white\",\"gridwidth\":2}},\"shapedefaults\":{\"line\":{\"color\":\"#2a3f5f\"}},\"annotationdefaults\":{\"arrowcolor\":\"#2a3f5f\",\"arrowhead\":0,\"arrowwidth\":1},\"geo\":{\"bgcolor\":\"white\",\"landcolor\":\"#E5ECF6\",\"subunitcolor\":\"white\",\"showland\":true,\"showlakes\":true,\"lakecolor\":\"white\"},\"title\":{\"x\":0.05},\"mapbox\":{\"style\":\"light\"}}}},                        {\"responsive\": true}                    ).then(function(){\n",
       "                            \n",
       "var gd = document.getElementById('24f6717e-11ac-48cb-8204-72cd8b19fc30');\n",
       "var x = new MutationObserver(function (mutations, observer) {{\n",
       "        var display = window.getComputedStyle(gd).display;\n",
       "        if (!display || display === 'none') {{\n",
       "            console.log([gd, 'removed!']);\n",
       "            Plotly.purge(gd);\n",
       "            observer.disconnect();\n",
       "        }}\n",
       "}});\n",
       "\n",
       "// Listen for the removal of the full notebook cells\n",
       "var notebookContainer = gd.closest('#notebook-container');\n",
       "if (notebookContainer) {{\n",
       "    x.observe(notebookContainer, {childList: true});\n",
       "}}\n",
       "\n",
       "// Listen for the clearing of the current output cell\n",
       "var outputEl = gd.closest('.output');\n",
       "if (outputEl) {{\n",
       "    x.observe(outputEl, {childList: true});\n",
       "}}\n",
       "\n",
       "                        })                };                });            </script>        </div>"
      ]
     },
     "metadata": {},
     "output_type": "display_data"
    },
    {
     "data": {
      "text/html": [
       "<h3>Without flapping</h3>"
      ],
      "text/plain": [
       "<IPython.core.display.HTML object>"
      ]
     },
     "metadata": {},
     "output_type": "display_data"
    },
    {
     "data": {
      "application/vnd.plotly.v1+json": {
       "config": {
        "plotlyServerURL": "https://plot.ly"
       },
       "data": [
        {
         "marker": {
          "size": 2
         },
         "mode": "markers",
         "name": "grouping: -1",
         "text": [
          "noise_u",
          "noise_v",
          "noise_w"
         ],
         "type": "scatter3d",
         "x": [
          9.520557403564453,
          9.802127838134766,
          9.601306915283203
         ],
         "y": [
          4.567022800445557,
          3.443742513656616,
          3.7119054794311523
         ],
         "z": [
          9.631444931030273,
          9.457898139953613,
          6.847520351409912
         ]
        },
        {
         "marker": {
          "size": 2
         },
         "mode": "markers",
         "name": "grouping: 0",
         "text": [
          "ElasticsearchClusterNotHealthy",
          "ElasticsearchJVMHeapUseHigh"
         ],
         "type": "scatter3d",
         "x": [
          16.675586700439453,
          16.57956314086914
         ],
         "y": [
          3.703075885772705,
          3.797433853149414
         ],
         "z": [
          -1.067939043045044,
          -0.9717503786087036
         ]
        },
        {
         "marker": {
          "size": 2
         },
         "mode": "markers",
         "name": "grouping: 1",
         "text": [
          "KubeDeploymentReplicasMismatch",
          "KubeNodeNotReady",
          "TargetDown"
         ],
         "type": "scatter3d",
         "x": [
          6.509883880615234,
          6.668169021606445,
          6.811604976654053
         ],
         "y": [
          8.811484336853027,
          8.65260124206543,
          8.508784294128418
         ],
         "z": [
          3.1651089191436768,
          3.3237264156341553,
          3.4674458503723145
         ]
        },
        {
         "marker": {
          "size": 2
         },
         "mode": "markers",
         "name": "grouping: 2",
         "text": [
          "noise_b",
          "noise_c",
          "noise_d",
          "noise_e",
          "noise_f",
          "noise_g",
          "noise_h",
          "noise_i",
          "noise_j",
          "noise_l",
          "noise_m",
          "noise_n",
          "noise_o",
          "noise_p",
          "noise_q",
          "noise_r",
          "noise_s",
          "noise_x",
          "noise_y"
         ],
         "type": "scatter3d",
         "x": [
          9.045053482055664,
          8.418844223022461,
          8.915397644042969,
          9.053524017333984,
          9.695097923278809,
          8.436808586120605,
          8.239211082458496,
          9.223615646362305,
          8.757661819458008,
          9.244510650634766,
          8.469597816467285,
          9.992924690246582,
          9.35905647277832,
          8.606575012207031,
          8.851960182189941,
          8.434134483337402,
          9.570209503173828,
          8.294635772705078,
          8.479540824890137
         ],
         "y": [
          2.7022311687469482,
          4.313781261444092,
          2.9782421588897705,
          2.867280960083008,
          4.161935806274414,
          3.470168113708496,
          2.981125593185425,
          2.8373217582702637,
          2.285874366760254,
          3.535360336303711,
          2.857292652130127,
          3.492743730545044,
          4.669267654418945,
          3.414700984954834,
          4.20508337020874,
          2.4975085258483887,
          2.6092817783355713,
          2.488659143447876,
          3.4913365840911865
         ],
         "z": [
          6.700938701629639,
          8.535209655761719,
          7.075216293334961,
          7.699934959411621,
          7.797637462615967,
          8.657766342163086,
          7.60129976272583,
          8.235006332397461,
          7.245829105377197,
          8.358811378479004,
          7.045276165008545,
          7.745794773101807,
          8.528600692749023,
          7.487315654754639,
          7.323241233825684,
          6.7137675285339355,
          7.095261573791504,
          7.6886887550354,
          6.671961784362793
         ]
        },
        {
         "marker": {
          "size": 2
         },
         "mode": "markers",
         "name": "grouping: 3",
         "text": [
          "noise_k",
          "noise_t"
         ],
         "type": "scatter3d",
         "x": [
          10.194991111755371,
          10.032853126525879
         ],
         "y": [
          7.691965579986572,
          7.476420879364014
         ],
         "z": [
          6.972991943359375,
          7.005765438079834
         ]
        }
       ],
       "layout": {
        "template": {
         "data": {
          "bar": [
           {
            "error_x": {
             "color": "#2a3f5f"
            },
            "error_y": {
             "color": "#2a3f5f"
            },
            "marker": {
             "line": {
              "color": "#E5ECF6",
              "width": 0.5
             },
             "pattern": {
              "fillmode": "overlay",
              "size": 10,
              "solidity": 0.2
             }
            },
            "type": "bar"
           }
          ],
          "barpolar": [
           {
            "marker": {
             "line": {
              "color": "#E5ECF6",
              "width": 0.5
             },
             "pattern": {
              "fillmode": "overlay",
              "size": 10,
              "solidity": 0.2
             }
            },
            "type": "barpolar"
           }
          ],
          "carpet": [
           {
            "aaxis": {
             "endlinecolor": "#2a3f5f",
             "gridcolor": "white",
             "linecolor": "white",
             "minorgridcolor": "white",
             "startlinecolor": "#2a3f5f"
            },
            "baxis": {
             "endlinecolor": "#2a3f5f",
             "gridcolor": "white",
             "linecolor": "white",
             "minorgridcolor": "white",
             "startlinecolor": "#2a3f5f"
            },
            "type": "carpet"
           }
          ],
          "choropleth": [
           {
            "colorbar": {
             "outlinewidth": 0,
             "ticks": ""
            },
            "type": "choropleth"
           }
          ],
          "contour": [
           {
            "colorbar": {
             "outlinewidth": 0,
             "ticks": ""
            },
            "colorscale": [
             [
              0,
              "#0d0887"
             ],
             [
              0.1111111111111111,
              "#46039f"
             ],
             [
              0.2222222222222222,
              "#7201a8"
             ],
             [
              0.3333333333333333,
              "#9c179e"
             ],
             [
              0.4444444444444444,
              "#bd3786"
             ],
             [
              0.5555555555555556,
              "#d8576b"
             ],
             [
              0.6666666666666666,
              "#ed7953"
             ],
             [
              0.7777777777777778,
              "#fb9f3a"
             ],
             [
              0.8888888888888888,
              "#fdca26"
             ],
             [
              1,
              "#f0f921"
             ]
            ],
            "type": "contour"
           }
          ],
          "contourcarpet": [
           {
            "colorbar": {
             "outlinewidth": 0,
             "ticks": ""
            },
            "type": "contourcarpet"
           }
          ],
          "heatmap": [
           {
            "colorbar": {
             "outlinewidth": 0,
             "ticks": ""
            },
            "colorscale": [
             [
              0,
              "#0d0887"
             ],
             [
              0.1111111111111111,
              "#46039f"
             ],
             [
              0.2222222222222222,
              "#7201a8"
             ],
             [
              0.3333333333333333,
              "#9c179e"
             ],
             [
              0.4444444444444444,
              "#bd3786"
             ],
             [
              0.5555555555555556,
              "#d8576b"
             ],
             [
              0.6666666666666666,
              "#ed7953"
             ],
             [
              0.7777777777777778,
              "#fb9f3a"
             ],
             [
              0.8888888888888888,
              "#fdca26"
             ],
             [
              1,
              "#f0f921"
             ]
            ],
            "type": "heatmap"
           }
          ],
          "heatmapgl": [
           {
            "colorbar": {
             "outlinewidth": 0,
             "ticks": ""
            },
            "colorscale": [
             [
              0,
              "#0d0887"
             ],
             [
              0.1111111111111111,
              "#46039f"
             ],
             [
              0.2222222222222222,
              "#7201a8"
             ],
             [
              0.3333333333333333,
              "#9c179e"
             ],
             [
              0.4444444444444444,
              "#bd3786"
             ],
             [
              0.5555555555555556,
              "#d8576b"
             ],
             [
              0.6666666666666666,
              "#ed7953"
             ],
             [
              0.7777777777777778,
              "#fb9f3a"
             ],
             [
              0.8888888888888888,
              "#fdca26"
             ],
             [
              1,
              "#f0f921"
             ]
            ],
            "type": "heatmapgl"
           }
          ],
          "histogram": [
           {
            "marker": {
             "pattern": {
              "fillmode": "overlay",
              "size": 10,
              "solidity": 0.2
             }
            },
            "type": "histogram"
           }
          ],
          "histogram2d": [
           {
            "colorbar": {
             "outlinewidth": 0,
             "ticks": ""
            },
            "colorscale": [
             [
              0,
              "#0d0887"
             ],
             [
              0.1111111111111111,
              "#46039f"
             ],
             [
              0.2222222222222222,
              "#7201a8"
             ],
             [
              0.3333333333333333,
              "#9c179e"
             ],
             [
              0.4444444444444444,
              "#bd3786"
             ],
             [
              0.5555555555555556,
              "#d8576b"
             ],
             [
              0.6666666666666666,
              "#ed7953"
             ],
             [
              0.7777777777777778,
              "#fb9f3a"
             ],
             [
              0.8888888888888888,
              "#fdca26"
             ],
             [
              1,
              "#f0f921"
             ]
            ],
            "type": "histogram2d"
           }
          ],
          "histogram2dcontour": [
           {
            "colorbar": {
             "outlinewidth": 0,
             "ticks": ""
            },
            "colorscale": [
             [
              0,
              "#0d0887"
             ],
             [
              0.1111111111111111,
              "#46039f"
             ],
             [
              0.2222222222222222,
              "#7201a8"
             ],
             [
              0.3333333333333333,
              "#9c179e"
             ],
             [
              0.4444444444444444,
              "#bd3786"
             ],
             [
              0.5555555555555556,
              "#d8576b"
             ],
             [
              0.6666666666666666,
              "#ed7953"
             ],
             [
              0.7777777777777778,
              "#fb9f3a"
             ],
             [
              0.8888888888888888,
              "#fdca26"
             ],
             [
              1,
              "#f0f921"
             ]
            ],
            "type": "histogram2dcontour"
           }
          ],
          "mesh3d": [
           {
            "colorbar": {
             "outlinewidth": 0,
             "ticks": ""
            },
            "type": "mesh3d"
           }
          ],
          "parcoords": [
           {
            "line": {
             "colorbar": {
              "outlinewidth": 0,
              "ticks": ""
             }
            },
            "type": "parcoords"
           }
          ],
          "pie": [
           {
            "automargin": true,
            "type": "pie"
           }
          ],
          "scatter": [
           {
            "fillpattern": {
             "fillmode": "overlay",
             "size": 10,
             "solidity": 0.2
            },
            "type": "scatter"
           }
          ],
          "scatter3d": [
           {
            "line": {
             "colorbar": {
              "outlinewidth": 0,
              "ticks": ""
             }
            },
            "marker": {
             "colorbar": {
              "outlinewidth": 0,
              "ticks": ""
             }
            },
            "type": "scatter3d"
           }
          ],
          "scattercarpet": [
           {
            "marker": {
             "colorbar": {
              "outlinewidth": 0,
              "ticks": ""
             }
            },
            "type": "scattercarpet"
           }
          ],
          "scattergeo": [
           {
            "marker": {
             "colorbar": {
              "outlinewidth": 0,
              "ticks": ""
             }
            },
            "type": "scattergeo"
           }
          ],
          "scattergl": [
           {
            "marker": {
             "colorbar": {
              "outlinewidth": 0,
              "ticks": ""
             }
            },
            "type": "scattergl"
           }
          ],
          "scattermapbox": [
           {
            "marker": {
             "colorbar": {
              "outlinewidth": 0,
              "ticks": ""
             }
            },
            "type": "scattermapbox"
           }
          ],
          "scatterpolar": [
           {
            "marker": {
             "colorbar": {
              "outlinewidth": 0,
              "ticks": ""
             }
            },
            "type": "scatterpolar"
           }
          ],
          "scatterpolargl": [
           {
            "marker": {
             "colorbar": {
              "outlinewidth": 0,
              "ticks": ""
             }
            },
            "type": "scatterpolargl"
           }
          ],
          "scatterternary": [
           {
            "marker": {
             "colorbar": {
              "outlinewidth": 0,
              "ticks": ""
             }
            },
            "type": "scatterternary"
           }
          ],
          "surface": [
           {
            "colorbar": {
             "outlinewidth": 0,
             "ticks": ""
            },
            "colorscale": [
             [
              0,
              "#0d0887"
             ],
             [
              0.1111111111111111,
              "#46039f"
             ],
             [
              0.2222222222222222,
              "#7201a8"
             ],
             [
              0.3333333333333333,
              "#9c179e"
             ],
             [
              0.4444444444444444,
              "#bd3786"
             ],
             [
              0.5555555555555556,
              "#d8576b"
             ],
             [
              0.6666666666666666,
              "#ed7953"
             ],
             [
              0.7777777777777778,
              "#fb9f3a"
             ],
             [
              0.8888888888888888,
              "#fdca26"
             ],
             [
              1,
              "#f0f921"
             ]
            ],
            "type": "surface"
           }
          ],
          "table": [
           {
            "cells": {
             "fill": {
              "color": "#EBF0F8"
             },
             "line": {
              "color": "white"
             }
            },
            "header": {
             "fill": {
              "color": "#C8D4E3"
             },
             "line": {
              "color": "white"
             }
            },
            "type": "table"
           }
          ]
         },
         "layout": {
          "annotationdefaults": {
           "arrowcolor": "#2a3f5f",
           "arrowhead": 0,
           "arrowwidth": 1
          },
          "autotypenumbers": "strict",
          "coloraxis": {
           "colorbar": {
            "outlinewidth": 0,
            "ticks": ""
           }
          },
          "colorscale": {
           "diverging": [
            [
             0,
             "#8e0152"
            ],
            [
             0.1,
             "#c51b7d"
            ],
            [
             0.2,
             "#de77ae"
            ],
            [
             0.3,
             "#f1b6da"
            ],
            [
             0.4,
             "#fde0ef"
            ],
            [
             0.5,
             "#f7f7f7"
            ],
            [
             0.6,
             "#e6f5d0"
            ],
            [
             0.7,
             "#b8e186"
            ],
            [
             0.8,
             "#7fbc41"
            ],
            [
             0.9,
             "#4d9221"
            ],
            [
             1,
             "#276419"
            ]
           ],
           "sequential": [
            [
             0,
             "#0d0887"
            ],
            [
             0.1111111111111111,
             "#46039f"
            ],
            [
             0.2222222222222222,
             "#7201a8"
            ],
            [
             0.3333333333333333,
             "#9c179e"
            ],
            [
             0.4444444444444444,
             "#bd3786"
            ],
            [
             0.5555555555555556,
             "#d8576b"
            ],
            [
             0.6666666666666666,
             "#ed7953"
            ],
            [
             0.7777777777777778,
             "#fb9f3a"
            ],
            [
             0.8888888888888888,
             "#fdca26"
            ],
            [
             1,
             "#f0f921"
            ]
           ],
           "sequentialminus": [
            [
             0,
             "#0d0887"
            ],
            [
             0.1111111111111111,
             "#46039f"
            ],
            [
             0.2222222222222222,
             "#7201a8"
            ],
            [
             0.3333333333333333,
             "#9c179e"
            ],
            [
             0.4444444444444444,
             "#bd3786"
            ],
            [
             0.5555555555555556,
             "#d8576b"
            ],
            [
             0.6666666666666666,
             "#ed7953"
            ],
            [
             0.7777777777777778,
             "#fb9f3a"
            ],
            [
             0.8888888888888888,
             "#fdca26"
            ],
            [
             1,
             "#f0f921"
            ]
           ]
          },
          "colorway": [
           "#636efa",
           "#EF553B",
           "#00cc96",
           "#ab63fa",
           "#FFA15A",
           "#19d3f3",
           "#FF6692",
           "#B6E880",
           "#FF97FF",
           "#FECB52"
          ],
          "font": {
           "color": "#2a3f5f"
          },
          "geo": {
           "bgcolor": "white",
           "lakecolor": "white",
           "landcolor": "#E5ECF6",
           "showlakes": true,
           "showland": true,
           "subunitcolor": "white"
          },
          "hoverlabel": {
           "align": "left"
          },
          "hovermode": "closest",
          "mapbox": {
           "style": "light"
          },
          "paper_bgcolor": "white",
          "plot_bgcolor": "#E5ECF6",
          "polar": {
           "angularaxis": {
            "gridcolor": "white",
            "linecolor": "white",
            "ticks": ""
           },
           "bgcolor": "#E5ECF6",
           "radialaxis": {
            "gridcolor": "white",
            "linecolor": "white",
            "ticks": ""
           }
          },
          "scene": {
           "xaxis": {
            "backgroundcolor": "#E5ECF6",
            "gridcolor": "white",
            "gridwidth": 2,
            "linecolor": "white",
            "showbackground": true,
            "ticks": "",
            "zerolinecolor": "white"
           },
           "yaxis": {
            "backgroundcolor": "#E5ECF6",
            "gridcolor": "white",
            "gridwidth": 2,
            "linecolor": "white",
            "showbackground": true,
            "ticks": "",
            "zerolinecolor": "white"
           },
           "zaxis": {
            "backgroundcolor": "#E5ECF6",
            "gridcolor": "white",
            "gridwidth": 2,
            "linecolor": "white",
            "showbackground": true,
            "ticks": "",
            "zerolinecolor": "white"
           }
          },
          "shapedefaults": {
           "line": {
            "color": "#2a3f5f"
           }
          },
          "ternary": {
           "aaxis": {
            "gridcolor": "white",
            "linecolor": "white",
            "ticks": ""
           },
           "baxis": {
            "gridcolor": "white",
            "linecolor": "white",
            "ticks": ""
           },
           "bgcolor": "#E5ECF6",
           "caxis": {
            "gridcolor": "white",
            "linecolor": "white",
            "ticks": ""
           }
          },
          "title": {
           "x": 0.05
          },
          "xaxis": {
           "automargin": true,
           "gridcolor": "white",
           "linecolor": "white",
           "ticks": "",
           "title": {
            "standoff": 15
           },
           "zerolinecolor": "white",
           "zerolinewidth": 2
          },
          "yaxis": {
           "automargin": true,
           "gridcolor": "white",
           "linecolor": "white",
           "ticks": "",
           "title": {
            "standoff": 15
           },
           "zerolinecolor": "white",
           "zerolinewidth": 2
          }
         }
        }
       }
      },
      "text/html": [
       "<div>                            <div id=\"fd1e7b77-557c-427d-98da-f43ea5e14b29\" class=\"plotly-graph-div\" style=\"height:525px; width:100%;\"></div>            <script type=\"text/javascript\">                require([\"plotly\"], function(Plotly) {                    window.PLOTLYENV=window.PLOTLYENV || {};                                    if (document.getElementById(\"fd1e7b77-557c-427d-98da-f43ea5e14b29\")) {                    Plotly.newPlot(                        \"fd1e7b77-557c-427d-98da-f43ea5e14b29\",                        [{\"marker\":{\"size\":2},\"mode\":\"markers\",\"name\":\"grouping: -1\",\"text\":[\"noise_u\",\"noise_v\",\"noise_w\"],\"x\":[9.520557403564453,9.802127838134766,9.601306915283203],\"y\":[4.567022800445557,3.443742513656616,3.7119054794311523],\"z\":[9.631444931030273,9.457898139953613,6.847520351409912],\"type\":\"scatter3d\"},{\"marker\":{\"size\":2},\"mode\":\"markers\",\"name\":\"grouping: 0\",\"text\":[\"ElasticsearchClusterNotHealthy\",\"ElasticsearchJVMHeapUseHigh\"],\"x\":[16.675586700439453,16.57956314086914],\"y\":[3.703075885772705,3.797433853149414],\"z\":[-1.067939043045044,-0.9717503786087036],\"type\":\"scatter3d\"},{\"marker\":{\"size\":2},\"mode\":\"markers\",\"name\":\"grouping: 1\",\"text\":[\"KubeDeploymentReplicasMismatch\",\"KubeNodeNotReady\",\"TargetDown\"],\"x\":[6.509883880615234,6.668169021606445,6.811604976654053],\"y\":[8.811484336853027,8.65260124206543,8.508784294128418],\"z\":[3.1651089191436768,3.3237264156341553,3.4674458503723145],\"type\":\"scatter3d\"},{\"marker\":{\"size\":2},\"mode\":\"markers\",\"name\":\"grouping: 2\",\"text\":[\"noise_b\",\"noise_c\",\"noise_d\",\"noise_e\",\"noise_f\",\"noise_g\",\"noise_h\",\"noise_i\",\"noise_j\",\"noise_l\",\"noise_m\",\"noise_n\",\"noise_o\",\"noise_p\",\"noise_q\",\"noise_r\",\"noise_s\",\"noise_x\",\"noise_y\"],\"x\":[9.045053482055664,8.418844223022461,8.915397644042969,9.053524017333984,9.695097923278809,8.436808586120605,8.239211082458496,9.223615646362305,8.757661819458008,9.244510650634766,8.469597816467285,9.992924690246582,9.35905647277832,8.606575012207031,8.851960182189941,8.434134483337402,9.570209503173828,8.294635772705078,8.479540824890137],\"y\":[2.7022311687469482,4.313781261444092,2.9782421588897705,2.867280960083008,4.161935806274414,3.470168113708496,2.981125593185425,2.8373217582702637,2.285874366760254,3.535360336303711,2.857292652130127,3.492743730545044,4.669267654418945,3.414700984954834,4.20508337020874,2.4975085258483887,2.6092817783355713,2.488659143447876,3.4913365840911865],\"z\":[6.700938701629639,8.535209655761719,7.075216293334961,7.699934959411621,7.797637462615967,8.657766342163086,7.60129976272583,8.235006332397461,7.245829105377197,8.358811378479004,7.045276165008545,7.745794773101807,8.528600692749023,7.487315654754639,7.323241233825684,6.7137675285339355,7.095261573791504,7.6886887550354,6.671961784362793],\"type\":\"scatter3d\"},{\"marker\":{\"size\":2},\"mode\":\"markers\",\"name\":\"grouping: 3\",\"text\":[\"noise_k\",\"noise_t\"],\"x\":[10.194991111755371,10.032853126525879],\"y\":[7.691965579986572,7.476420879364014],\"z\":[6.972991943359375,7.005765438079834],\"type\":\"scatter3d\"}],                        {\"template\":{\"data\":{\"histogram2dcontour\":[{\"type\":\"histogram2dcontour\",\"colorbar\":{\"outlinewidth\":0,\"ticks\":\"\"},\"colorscale\":[[0.0,\"#0d0887\"],[0.1111111111111111,\"#46039f\"],[0.2222222222222222,\"#7201a8\"],[0.3333333333333333,\"#9c179e\"],[0.4444444444444444,\"#bd3786\"],[0.5555555555555556,\"#d8576b\"],[0.6666666666666666,\"#ed7953\"],[0.7777777777777778,\"#fb9f3a\"],[0.8888888888888888,\"#fdca26\"],[1.0,\"#f0f921\"]]}],\"choropleth\":[{\"type\":\"choropleth\",\"colorbar\":{\"outlinewidth\":0,\"ticks\":\"\"}}],\"histogram2d\":[{\"type\":\"histogram2d\",\"colorbar\":{\"outlinewidth\":0,\"ticks\":\"\"},\"colorscale\":[[0.0,\"#0d0887\"],[0.1111111111111111,\"#46039f\"],[0.2222222222222222,\"#7201a8\"],[0.3333333333333333,\"#9c179e\"],[0.4444444444444444,\"#bd3786\"],[0.5555555555555556,\"#d8576b\"],[0.6666666666666666,\"#ed7953\"],[0.7777777777777778,\"#fb9f3a\"],[0.8888888888888888,\"#fdca26\"],[1.0,\"#f0f921\"]]}],\"heatmap\":[{\"type\":\"heatmap\",\"colorbar\":{\"outlinewidth\":0,\"ticks\":\"\"},\"colorscale\":[[0.0,\"#0d0887\"],[0.1111111111111111,\"#46039f\"],[0.2222222222222222,\"#7201a8\"],[0.3333333333333333,\"#9c179e\"],[0.4444444444444444,\"#bd3786\"],[0.5555555555555556,\"#d8576b\"],[0.6666666666666666,\"#ed7953\"],[0.7777777777777778,\"#fb9f3a\"],[0.8888888888888888,\"#fdca26\"],[1.0,\"#f0f921\"]]}],\"heatmapgl\":[{\"type\":\"heatmapgl\",\"colorbar\":{\"outlinewidth\":0,\"ticks\":\"\"},\"colorscale\":[[0.0,\"#0d0887\"],[0.1111111111111111,\"#46039f\"],[0.2222222222222222,\"#7201a8\"],[0.3333333333333333,\"#9c179e\"],[0.4444444444444444,\"#bd3786\"],[0.5555555555555556,\"#d8576b\"],[0.6666666666666666,\"#ed7953\"],[0.7777777777777778,\"#fb9f3a\"],[0.8888888888888888,\"#fdca26\"],[1.0,\"#f0f921\"]]}],\"contourcarpet\":[{\"type\":\"contourcarpet\",\"colorbar\":{\"outlinewidth\":0,\"ticks\":\"\"}}],\"contour\":[{\"type\":\"contour\",\"colorbar\":{\"outlinewidth\":0,\"ticks\":\"\"},\"colorscale\":[[0.0,\"#0d0887\"],[0.1111111111111111,\"#46039f\"],[0.2222222222222222,\"#7201a8\"],[0.3333333333333333,\"#9c179e\"],[0.4444444444444444,\"#bd3786\"],[0.5555555555555556,\"#d8576b\"],[0.6666666666666666,\"#ed7953\"],[0.7777777777777778,\"#fb9f3a\"],[0.8888888888888888,\"#fdca26\"],[1.0,\"#f0f921\"]]}],\"surface\":[{\"type\":\"surface\",\"colorbar\":{\"outlinewidth\":0,\"ticks\":\"\"},\"colorscale\":[[0.0,\"#0d0887\"],[0.1111111111111111,\"#46039f\"],[0.2222222222222222,\"#7201a8\"],[0.3333333333333333,\"#9c179e\"],[0.4444444444444444,\"#bd3786\"],[0.5555555555555556,\"#d8576b\"],[0.6666666666666666,\"#ed7953\"],[0.7777777777777778,\"#fb9f3a\"],[0.8888888888888888,\"#fdca26\"],[1.0,\"#f0f921\"]]}],\"mesh3d\":[{\"type\":\"mesh3d\",\"colorbar\":{\"outlinewidth\":0,\"ticks\":\"\"}}],\"scatter\":[{\"fillpattern\":{\"fillmode\":\"overlay\",\"size\":10,\"solidity\":0.2},\"type\":\"scatter\"}],\"parcoords\":[{\"type\":\"parcoords\",\"line\":{\"colorbar\":{\"outlinewidth\":0,\"ticks\":\"\"}}}],\"scatterpolargl\":[{\"type\":\"scatterpolargl\",\"marker\":{\"colorbar\":{\"outlinewidth\":0,\"ticks\":\"\"}}}],\"bar\":[{\"error_x\":{\"color\":\"#2a3f5f\"},\"error_y\":{\"color\":\"#2a3f5f\"},\"marker\":{\"line\":{\"color\":\"#E5ECF6\",\"width\":0.5},\"pattern\":{\"fillmode\":\"overlay\",\"size\":10,\"solidity\":0.2}},\"type\":\"bar\"}],\"scattergeo\":[{\"type\":\"scattergeo\",\"marker\":{\"colorbar\":{\"outlinewidth\":0,\"ticks\":\"\"}}}],\"scatterpolar\":[{\"type\":\"scatterpolar\",\"marker\":{\"colorbar\":{\"outlinewidth\":0,\"ticks\":\"\"}}}],\"histogram\":[{\"marker\":{\"pattern\":{\"fillmode\":\"overlay\",\"size\":10,\"solidity\":0.2}},\"type\":\"histogram\"}],\"scattergl\":[{\"type\":\"scattergl\",\"marker\":{\"colorbar\":{\"outlinewidth\":0,\"ticks\":\"\"}}}],\"scatter3d\":[{\"type\":\"scatter3d\",\"line\":{\"colorbar\":{\"outlinewidth\":0,\"ticks\":\"\"}},\"marker\":{\"colorbar\":{\"outlinewidth\":0,\"ticks\":\"\"}}}],\"scattermapbox\":[{\"type\":\"scattermapbox\",\"marker\":{\"colorbar\":{\"outlinewidth\":0,\"ticks\":\"\"}}}],\"scatterternary\":[{\"type\":\"scatterternary\",\"marker\":{\"colorbar\":{\"outlinewidth\":0,\"ticks\":\"\"}}}],\"scattercarpet\":[{\"type\":\"scattercarpet\",\"marker\":{\"colorbar\":{\"outlinewidth\":0,\"ticks\":\"\"}}}],\"carpet\":[{\"aaxis\":{\"endlinecolor\":\"#2a3f5f\",\"gridcolor\":\"white\",\"linecolor\":\"white\",\"minorgridcolor\":\"white\",\"startlinecolor\":\"#2a3f5f\"},\"baxis\":{\"endlinecolor\":\"#2a3f5f\",\"gridcolor\":\"white\",\"linecolor\":\"white\",\"minorgridcolor\":\"white\",\"startlinecolor\":\"#2a3f5f\"},\"type\":\"carpet\"}],\"table\":[{\"cells\":{\"fill\":{\"color\":\"#EBF0F8\"},\"line\":{\"color\":\"white\"}},\"header\":{\"fill\":{\"color\":\"#C8D4E3\"},\"line\":{\"color\":\"white\"}},\"type\":\"table\"}],\"barpolar\":[{\"marker\":{\"line\":{\"color\":\"#E5ECF6\",\"width\":0.5},\"pattern\":{\"fillmode\":\"overlay\",\"size\":10,\"solidity\":0.2}},\"type\":\"barpolar\"}],\"pie\":[{\"automargin\":true,\"type\":\"pie\"}]},\"layout\":{\"autotypenumbers\":\"strict\",\"colorway\":[\"#636efa\",\"#EF553B\",\"#00cc96\",\"#ab63fa\",\"#FFA15A\",\"#19d3f3\",\"#FF6692\",\"#B6E880\",\"#FF97FF\",\"#FECB52\"],\"font\":{\"color\":\"#2a3f5f\"},\"hovermode\":\"closest\",\"hoverlabel\":{\"align\":\"left\"},\"paper_bgcolor\":\"white\",\"plot_bgcolor\":\"#E5ECF6\",\"polar\":{\"bgcolor\":\"#E5ECF6\",\"angularaxis\":{\"gridcolor\":\"white\",\"linecolor\":\"white\",\"ticks\":\"\"},\"radialaxis\":{\"gridcolor\":\"white\",\"linecolor\":\"white\",\"ticks\":\"\"}},\"ternary\":{\"bgcolor\":\"#E5ECF6\",\"aaxis\":{\"gridcolor\":\"white\",\"linecolor\":\"white\",\"ticks\":\"\"},\"baxis\":{\"gridcolor\":\"white\",\"linecolor\":\"white\",\"ticks\":\"\"},\"caxis\":{\"gridcolor\":\"white\",\"linecolor\":\"white\",\"ticks\":\"\"}},\"coloraxis\":{\"colorbar\":{\"outlinewidth\":0,\"ticks\":\"\"}},\"colorscale\":{\"sequential\":[[0.0,\"#0d0887\"],[0.1111111111111111,\"#46039f\"],[0.2222222222222222,\"#7201a8\"],[0.3333333333333333,\"#9c179e\"],[0.4444444444444444,\"#bd3786\"],[0.5555555555555556,\"#d8576b\"],[0.6666666666666666,\"#ed7953\"],[0.7777777777777778,\"#fb9f3a\"],[0.8888888888888888,\"#fdca26\"],[1.0,\"#f0f921\"]],\"sequentialminus\":[[0.0,\"#0d0887\"],[0.1111111111111111,\"#46039f\"],[0.2222222222222222,\"#7201a8\"],[0.3333333333333333,\"#9c179e\"],[0.4444444444444444,\"#bd3786\"],[0.5555555555555556,\"#d8576b\"],[0.6666666666666666,\"#ed7953\"],[0.7777777777777778,\"#fb9f3a\"],[0.8888888888888888,\"#fdca26\"],[1.0,\"#f0f921\"]],\"diverging\":[[0,\"#8e0152\"],[0.1,\"#c51b7d\"],[0.2,\"#de77ae\"],[0.3,\"#f1b6da\"],[0.4,\"#fde0ef\"],[0.5,\"#f7f7f7\"],[0.6,\"#e6f5d0\"],[0.7,\"#b8e186\"],[0.8,\"#7fbc41\"],[0.9,\"#4d9221\"],[1,\"#276419\"]]},\"xaxis\":{\"gridcolor\":\"white\",\"linecolor\":\"white\",\"ticks\":\"\",\"title\":{\"standoff\":15},\"zerolinecolor\":\"white\",\"automargin\":true,\"zerolinewidth\":2},\"yaxis\":{\"gridcolor\":\"white\",\"linecolor\":\"white\",\"ticks\":\"\",\"title\":{\"standoff\":15},\"zerolinecolor\":\"white\",\"automargin\":true,\"zerolinewidth\":2},\"scene\":{\"xaxis\":{\"backgroundcolor\":\"#E5ECF6\",\"gridcolor\":\"white\",\"linecolor\":\"white\",\"showbackground\":true,\"ticks\":\"\",\"zerolinecolor\":\"white\",\"gridwidth\":2},\"yaxis\":{\"backgroundcolor\":\"#E5ECF6\",\"gridcolor\":\"white\",\"linecolor\":\"white\",\"showbackground\":true,\"ticks\":\"\",\"zerolinecolor\":\"white\",\"gridwidth\":2},\"zaxis\":{\"backgroundcolor\":\"#E5ECF6\",\"gridcolor\":\"white\",\"linecolor\":\"white\",\"showbackground\":true,\"ticks\":\"\",\"zerolinecolor\":\"white\",\"gridwidth\":2}},\"shapedefaults\":{\"line\":{\"color\":\"#2a3f5f\"}},\"annotationdefaults\":{\"arrowcolor\":\"#2a3f5f\",\"arrowhead\":0,\"arrowwidth\":1},\"geo\":{\"bgcolor\":\"white\",\"landcolor\":\"#E5ECF6\",\"subunitcolor\":\"white\",\"showland\":true,\"showlakes\":true,\"lakecolor\":\"white\"},\"title\":{\"x\":0.05},\"mapbox\":{\"style\":\"light\"}}}},                        {\"responsive\": true}                    ).then(function(){\n",
       "                            \n",
       "var gd = document.getElementById('fd1e7b77-557c-427d-98da-f43ea5e14b29');\n",
       "var x = new MutationObserver(function (mutations, observer) {{\n",
       "        var display = window.getComputedStyle(gd).display;\n",
       "        if (!display || display === 'none') {{\n",
       "            console.log([gd, 'removed!']);\n",
       "            Plotly.purge(gd);\n",
       "            observer.disconnect();\n",
       "        }}\n",
       "}});\n",
       "\n",
       "// Listen for the removal of the full notebook cells\n",
       "var notebookContainer = gd.closest('#notebook-container');\n",
       "if (notebookContainer) {{\n",
       "    x.observe(notebookContainer, {childList: true});\n",
       "}}\n",
       "\n",
       "// Listen for the clearing of the current output cell\n",
       "var outputEl = gd.closest('.output');\n",
       "if (outputEl) {{\n",
       "    x.observe(outputEl, {childList: true});\n",
       "}}\n",
       "\n",
       "                        })                };                });            </script>        </div>"
      ]
     },
     "metadata": {},
     "output_type": "display_data"
    }
   ],
   "source": [
    "# To compare with previous version.\n",
    "one_hot_noflap = alerts_groups_one_hot(\n",
    "    alerts_intervals_reduced_flap,\n",
    "    groupby_columns=[\"instance_id\"],\n",
    "    group_tolerance=timedelta(minutes=3),\n",
    ")\n",
    "\n",
    "# Apply clustering after flapping reduction.\n",
    "ac_noflap = alerts_clustering_dbscan(\n",
    "    one_hot_noflap,\n",
    "    eps=1,\n",
    "    n_neighbors=2,\n",
    "    min_samples=2,\n",
    "    min_dist=0.1,\n",
    ")\n",
    "\n",
    "display(HTML(\"<h3>With flapping</h3>\"))\n",
    "plot_clustering(ac).show()\n",
    "\n",
    "display(HTML(\"<h3>Without flapping</h3>\"))\n",
    "plot_clustering(ac_noflap).show()"
   ]
  }
 ],
 "metadata": {
  "hide_input": false,
  "kernelspec": {
   "display_name": "Python 3 (ipykernel)",
   "language": "python",
   "name": "python3"
  },
  "language_info": {
   "codemirror_mode": {
    "name": "ipython",
    "version": 3
   },
   "file_extension": ".py",
   "mimetype": "text/x-python",
   "name": "python",
   "nbconvert_exporter": "python",
   "pygments_lexer": "ipython3",
   "version": "3.11.8"
  }
 },
 "nbformat": 4,
 "nbformat_minor": 5
}
